{
 "cells": [
  {
   "cell_type": "code",
   "execution_count": 10,
   "metadata": {
    "collapsed": true,
    "pycharm": {
     "name": "#%%\n"
    }
   },
   "outputs": [
    {
     "data": {
      "text/plain": "{'contributor': '',\n 'date_created': '',\n 'description': '',\n 'url': '',\n 'version': '',\n 'year': ''}"
     },
     "execution_count": 10,
     "metadata": {},
     "output_type": "execute_result"
    }
   ],
   "source": [
    "import json\n",
    "train = json.load(open('data/training_data_new.json', 'r'))\n",
    "egg1 = json.load(open('data/easter_egg_day_1.json', 'r'))\n",
    "egg2 = json.load(open('data/CV egg2/easter_egg_day_2.json', 'r'))\n",
    "egg1.pop('licenses')\n",
    "egg1.pop('info')\n",
    "egg2.pop('licenses')\n",
    "egg2.pop('info')"
   ]
  },
  {
   "cell_type": "code",
   "execution_count": 9,
   "outputs": [
    {
     "ename": "AttributeError",
     "evalue": "'NoneType' object has no attribute 'update'",
     "output_type": "error",
     "traceback": [
      "\u001B[1;31m---------------------------------------------------------------------------\u001B[0m",
      "\u001B[1;31mAttributeError\u001B[0m                            Traceback (most recent call last)",
      "Input \u001B[1;32mIn [9]\u001B[0m, in \u001B[0;36m<cell line: 2>\u001B[1;34m()\u001B[0m\n\u001B[0;32m      1\u001B[0m combined \u001B[38;5;241m=\u001B[39m train\u001B[38;5;241m.\u001B[39mupdate(egg1)\n\u001B[1;32m----> 2\u001B[0m \u001B[43mcombined\u001B[49m\u001B[38;5;241;43m.\u001B[39;49m\u001B[43mupdate\u001B[49m(egg2)\n",
      "\u001B[1;31mAttributeError\u001B[0m: 'NoneType' object has no attribute 'update'"
     ]
    }
   ],
   "source": [
    "combined = train.update(egg1)\n",
    "combined.update(egg2)"
   ],
   "metadata": {
    "collapsed": false,
    "pycharm": {
     "name": "#%%\n"
    }
   }
  }
 ],
 "metadata": {
  "kernelspec": {
   "display_name": "Python 3",
   "language": "python",
   "name": "python3"
  },
  "language_info": {
   "codemirror_mode": {
    "name": "ipython",
    "version": 2
   },
   "file_extension": ".py",
   "mimetype": "text/x-python",
   "name": "python",
   "nbconvert_exporter": "python",
   "pygments_lexer": "ipython2",
   "version": "2.7.6"
  }
 },
 "nbformat": 4,
 "nbformat_minor": 0
}