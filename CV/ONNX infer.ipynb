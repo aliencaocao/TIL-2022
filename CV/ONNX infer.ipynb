{
 "cells": [
  {
   "cell_type": "code",
   "execution_count": 1,
   "metadata": {
    "collapsed": true,
    "pycharm": {
     "name": "#%%\n"
    }
   },
   "outputs": [
    {
     "data": {
      "text/plain": "['TensorrtExecutionProvider', 'CUDAExecutionProvider', 'CPUExecutionProvider']"
     },
     "execution_count": 1,
     "metadata": {},
     "output_type": "execute_result"
    }
   ],
   "source": [
    "import numpy as np\n",
    "import onnxruntime as ort\n",
    "\n",
    "sess_options = ort.SessionOptions()\n",
    "sess_options.graph_optimization_level = ort.GraphOptimizationLevel.ORT_ENABLE_ALL\n",
    "\n",
    "ort.get_available_providers()"
   ]
  },
  {
   "cell_type": "code",
   "execution_count": 2,
   "outputs": [
    {
     "ename": "Fail",
     "evalue": "[ONNXRuntimeError] : 1 : FAIL : Load model from universenet_epoch12.onnx failed:Fatal error: MMCVDeformConv2d is not a registered function/op",
     "output_type": "error",
     "traceback": [
      "\u001B[1;31m---------------------------------------------------------------------------\u001B[0m",
      "\u001B[1;31mFail\u001B[0m                                      Traceback (most recent call last)",
      "Input \u001B[1;32mIn [2]\u001B[0m, in \u001B[0;36m<cell line: 1>\u001B[1;34m()\u001B[0m\n\u001B[1;32m----> 1\u001B[0m model \u001B[38;5;241m=\u001B[39m \u001B[43mort\u001B[49m\u001B[38;5;241;43m.\u001B[39;49m\u001B[43mInferenceSession\u001B[49m\u001B[43m(\u001B[49m\u001B[38;5;124;43m'\u001B[39;49m\u001B[38;5;124;43muniversenet_epoch12.onnx\u001B[39;49m\u001B[38;5;124;43m'\u001B[39;49m\u001B[43m,\u001B[49m\u001B[43m \u001B[49m\u001B[43msess_options\u001B[49m\u001B[38;5;241;43m=\u001B[39;49m\u001B[43msess_options\u001B[49m\u001B[43m,\u001B[49m\u001B[43m \u001B[49m\u001B[43mproviders\u001B[49m\u001B[38;5;241;43m=\u001B[39;49m\u001B[43m[\u001B[49m\u001B[38;5;124;43m'\u001B[39;49m\u001B[38;5;124;43mCUDAExecutionProvider\u001B[39;49m\u001B[38;5;124;43m'\u001B[39;49m\u001B[43m,\u001B[49m\u001B[43m \u001B[49m\u001B[38;5;124;43m'\u001B[39;49m\u001B[38;5;124;43mCPUExecutionProvider\u001B[39;49m\u001B[38;5;124;43m'\u001B[39;49m\u001B[43m]\u001B[49m\u001B[43m)\u001B[49m\n",
      "File \u001B[1;32mC:\\Program Files\\Python39\\lib\\site-packages\\onnxruntime\\capi\\onnxruntime_inference_collection.py:335\u001B[0m, in \u001B[0;36mInferenceSession.__init__\u001B[1;34m(self, path_or_bytes, sess_options, providers, provider_options, **kwargs)\u001B[0m\n\u001B[0;32m    332\u001B[0m disabled_optimizers \u001B[38;5;241m=\u001B[39m kwargs[\u001B[38;5;124m'\u001B[39m\u001B[38;5;124mdisabled_optimizers\u001B[39m\u001B[38;5;124m'\u001B[39m] \u001B[38;5;28;01mif\u001B[39;00m \u001B[38;5;124m'\u001B[39m\u001B[38;5;124mdisabled_optimizers\u001B[39m\u001B[38;5;124m'\u001B[39m \u001B[38;5;129;01min\u001B[39;00m kwargs \u001B[38;5;28;01melse\u001B[39;00m \u001B[38;5;28;01mNone\u001B[39;00m\n\u001B[0;32m    334\u001B[0m \u001B[38;5;28;01mtry\u001B[39;00m:\n\u001B[1;32m--> 335\u001B[0m     \u001B[38;5;28;43mself\u001B[39;49m\u001B[38;5;241;43m.\u001B[39;49m\u001B[43m_create_inference_session\u001B[49m\u001B[43m(\u001B[49m\u001B[43mproviders\u001B[49m\u001B[43m,\u001B[49m\u001B[43m \u001B[49m\u001B[43mprovider_options\u001B[49m\u001B[43m,\u001B[49m\u001B[43m \u001B[49m\u001B[43mdisabled_optimizers\u001B[49m\u001B[43m)\u001B[49m\n\u001B[0;32m    336\u001B[0m \u001B[38;5;28;01mexcept\u001B[39;00m \u001B[38;5;167;01mValueError\u001B[39;00m:\n\u001B[0;32m    337\u001B[0m     \u001B[38;5;28;01mif\u001B[39;00m \u001B[38;5;28mself\u001B[39m\u001B[38;5;241m.\u001B[39m_enable_fallback:\n",
      "File \u001B[1;32mC:\\Program Files\\Python39\\lib\\site-packages\\onnxruntime\\capi\\onnxruntime_inference_collection.py:370\u001B[0m, in \u001B[0;36mInferenceSession._create_inference_session\u001B[1;34m(self, providers, provider_options, disabled_optimizers)\u001B[0m\n\u001B[0;32m    368\u001B[0m session_options \u001B[38;5;241m=\u001B[39m \u001B[38;5;28mself\u001B[39m\u001B[38;5;241m.\u001B[39m_sess_options \u001B[38;5;28;01mif\u001B[39;00m \u001B[38;5;28mself\u001B[39m\u001B[38;5;241m.\u001B[39m_sess_options \u001B[38;5;28;01melse\u001B[39;00m C\u001B[38;5;241m.\u001B[39mget_default_session_options()\n\u001B[0;32m    369\u001B[0m \u001B[38;5;28;01mif\u001B[39;00m \u001B[38;5;28mself\u001B[39m\u001B[38;5;241m.\u001B[39m_model_path:\n\u001B[1;32m--> 370\u001B[0m     sess \u001B[38;5;241m=\u001B[39m \u001B[43mC\u001B[49m\u001B[38;5;241;43m.\u001B[39;49m\u001B[43mInferenceSession\u001B[49m\u001B[43m(\u001B[49m\u001B[43msession_options\u001B[49m\u001B[43m,\u001B[49m\u001B[43m \u001B[49m\u001B[38;5;28;43mself\u001B[39;49m\u001B[38;5;241;43m.\u001B[39;49m\u001B[43m_model_path\u001B[49m\u001B[43m,\u001B[49m\u001B[43m \u001B[49m\u001B[38;5;28;43;01mTrue\u001B[39;49;00m\u001B[43m,\u001B[49m\u001B[43m \u001B[49m\u001B[38;5;28;43mself\u001B[39;49m\u001B[38;5;241;43m.\u001B[39;49m\u001B[43m_read_config_from_model\u001B[49m\u001B[43m)\u001B[49m\n\u001B[0;32m    371\u001B[0m \u001B[38;5;28;01melse\u001B[39;00m:\n\u001B[0;32m    372\u001B[0m     sess \u001B[38;5;241m=\u001B[39m C\u001B[38;5;241m.\u001B[39mInferenceSession(session_options, \u001B[38;5;28mself\u001B[39m\u001B[38;5;241m.\u001B[39m_model_bytes, \u001B[38;5;28;01mFalse\u001B[39;00m, \u001B[38;5;28mself\u001B[39m\u001B[38;5;241m.\u001B[39m_read_config_from_model)\n",
      "\u001B[1;31mFail\u001B[0m: [ONNXRuntimeError] : 1 : FAIL : Load model from universenet_epoch12.onnx failed:Fatal error: MMCVDeformConv2d is not a registered function/op"
     ]
    }
   ],
   "source": [
    "model = ort.InferenceSession('universenet_epoch12.onnx', sess_options=sess_options, providers=['CUDAExecutionProvider', 'CPUExecutionProvider'])"
   ],
   "metadata": {
    "collapsed": false,
    "pycharm": {
     "name": "#%%\n"
    }
   }
  }
 ],
 "metadata": {
  "kernelspec": {
   "display_name": "Python 3",
   "language": "python",
   "name": "python3"
  },
  "language_info": {
   "codemirror_mode": {
    "name": "ipython",
    "version": 2
   },
   "file_extension": ".py",
   "mimetype": "text/x-python",
   "name": "python",
   "nbconvert_exporter": "python",
   "pygments_lexer": "ipython2",
   "version": "2.7.6"
  }
 },
 "nbformat": 4,
 "nbformat_minor": 0
}