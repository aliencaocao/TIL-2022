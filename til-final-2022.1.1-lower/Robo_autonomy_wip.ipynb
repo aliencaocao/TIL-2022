{
 "cells": [
  {
   "cell_type": "code",
   "execution_count": 197,
   "outputs": [],
   "source": [
    "from typing import List, Tuple, TypeVar, Dict\n",
    "import numpy as np\n",
    "from tilsdk.localization import *\n",
    "\n",
    "T = TypeVar('T')\n",
    "\n",
    "def visualise_path(path, map):\n",
    "    pathmap = map.grid.copy()\n",
    "    pathmap = pathmap > 0\n",
    "    pathmap = pathmap.astype(\"int32\")\n",
    "    gridpath = [map_.real_to_grid(x) if isinstance(x, RealLocation) else x for x in path]\n",
    "    gridpathx = [x[0] for x in gridpath]\n",
    "    gridpathy = [x[1] for x in gridpath]\n",
    "    plt.imshow(pathmap)\n",
    "    plt.scatter(gridpathx,gridpathy,c='r')\n",
    "    plt.title(\"visualise grid and path\")\n",
    "    plt.show()\n",
    "\n",
    "\n",
    "class MyPlanner:\n",
    "    def __init__(self, map_:SignedDistanceGrid=None, waypoint_sparsity=0.5, optimize_threshold=3):\n",
    "        '''\n",
    "        Parameters\n",
    "        ----------\n",
    "        map : SignedDistanceGrid\n",
    "            Distance grid map\n",
    "        sdf_weight: float\n",
    "            Relative weight of distance in cost function.\n",
    "        waypoint_sparsity: float\n",
    "            0.5 results in every 50th waypoint being taken at scale=0.01 and 10th at scale=0.05\n",
    "        '''\n",
    "        self.optimize_threshold = optimize_threshold\n",
    "        self.map = map_\n",
    "        self.bgrid = self.transform_add_border(map_.grid.copy()) #Grid which takes the borders into account\n",
    "        self.astar_grid = self.transform_for_astar(self.bgrid.copy())\n",
    "        self.waypoint_sparsity = waypoint_sparsity\n",
    "        self.big_grid = [[0 for j in range(7)] for i in range(5)] #Big_grid stores whether each 1*1m tile of the arena has been visited\n",
    "        self.big_grid_centre = [[0 for j in range(7)] for i in range(5)]\n",
    "        for i in range(5):\n",
    "            for j in range(7):\n",
    "                self.big_grid_centre[i][j]=RealLocation(j+0.5,i+0.5)\n",
    "\n",
    "    def transform_add_border(self, og_grid):\n",
    "        grid = og_grid.copy()\n",
    "        a,b = grid.shape\n",
    "        for i in range(a):\n",
    "            for j in range(b):\n",
    "                grid[i][j] = min(grid[i][j],i+1,a-i,j+1,b-j)\n",
    "        return grid\n",
    "\n",
    "    def transform_for_astar(self, grid):\n",
    "        #!-- Possible to edit this transform if u want\n",
    "        grid2 = grid.copy()\n",
    "        grid2[grid2>0] = 1 + 1000/(grid2[grid2>0])\n",
    "        grid2[grid2<=0] = np.inf\n",
    "        return grid2.astype(\"float32\")\n",
    "\n",
    "    @staticmethod\n",
    "    def big_grid_of(l:RealLocation): #Returns the big grid array indices of a real location\n",
    "        return int(l[0]//1),int(l[1]//1)\n",
    "    \n",
    "    def visit(self, l: RealLocation):\n",
    "        indices = self.big_grid_of(l)\n",
    "        self.big_grid[indices[0]][indices[1]] = max(1,self.big_grid[indices[0]][indices[1]])\n",
    "        \n",
    "    def get_explore(self, l:RealLocation): #Call this to get a location to go to if there are no locations of interest left\n",
    "        m=100\n",
    "        for i in range(5):\n",
    "            for j in range(7):\n",
    "                m=min(m,self.big_grid[i][j])\n",
    "        if m == 1: #Can comment out this part if u want the robot to vroom around infinitely\n",
    "            return None\n",
    "        closest = (1e18,(-1,-1))\n",
    "        for i in range(5):\n",
    "            for j in range(7):\n",
    "                if self.big_grid[i][j] == m:\n",
    "                    closest = min(closest, (self.heuristic(self.big_grid_centre[i][j],l),(i,j)))\n",
    "        self.big_grid[closest[1][0]][closest[1][1]] += 1\n",
    "        return self.big_grid_centre[closest[1][0]][closest[1][1]]\n",
    "\n",
    "    def heuristic(self, a:GridLocation, b:GridLocation) -> float:\n",
    "        '''Planning heuristic function.        \n",
    "        Parameters\n",
    "        ----------\n",
    "        a: GridLocation\n",
    "            Starting location.\n",
    "        b: GridLocation\n",
    "            Goal location.\n",
    "        '''\n",
    "        return euclidean_distance(a, b)\n",
    "    \n",
    "    def nearest_clear(self, loc, passable):\n",
    "        '''Utility function to find the nearest clear cell to a blocked cell'''\n",
    "        if not passable[loc]:\n",
    "            best = (1e18,(-1,-1))\n",
    "            for i in range(map_.height): #y\n",
    "                for j in range(map_.width): #x\n",
    "                    if map_.grid[(i,j)]>0:\n",
    "                        best = min(best,(self.heuristic(GridLocation(i,j),loc),(i,j)))\n",
    "            loc = best[1]\n",
    "        return loc\n",
    "\n",
    "    def plan(self, start:RealLocation, goal:RealLocation) -> List[RealLocation]:\n",
    "        '''Plan in real coordinates.\n",
    "        \n",
    "        Raises NoPathFileException path is not found.\n",
    "\n",
    "        Parameters\n",
    "        ----------\n",
    "        start: RealLocation\n",
    "            Starting location.\n",
    "        goal: RealLocation\n",
    "            Goal location.\n",
    "        \n",
    "        Returns\n",
    "        -------\n",
    "        path\n",
    "            List of RealLocation from start to goal.\n",
    "        '''\n",
    "\n",
    "        path = self.plan_grid(self.map.real_to_grid(start), self.map.real_to_grid(goal))\n",
    "        if path is None:\n",
    "            return path\n",
    "        visualise_path(path, self.map)\n",
    "        path = [self.map.grid_to_real(wp) for wp in path]\n",
    "        return path\n",
    "\n",
    "    def plan_grid(self, start:GridLocation, goal:GridLocation) -> List[GridLocation]:\n",
    "        '''Plan in grid coordinates.\n",
    "        \n",
    "        Raises NoPathFileException path is not found.\n",
    "\n",
    "        Parameters\n",
    "        ----------\n",
    "        start: GridLocation\n",
    "            Starting location.\n",
    "        goal: GridLocation\n",
    "            Goal location.\n",
    "        \n",
    "        Returns\n",
    "        -------\n",
    "        path\n",
    "            List of GridLocation from start to goal.\n",
    "        '''\n",
    "        \n",
    "        if not self.map:\n",
    "            raise RuntimeError('Planner map is not initialized.')\n",
    "        \n",
    "        start = start[1],start[0]\n",
    "        goal = goal[1],goal[0] #Use i=x,j=y convention for convenience\n",
    "        passable = self.map.grid>0\n",
    "\n",
    "        print(\"original start\",start)\n",
    "        print(\"original goal\",goal)\n",
    "        start = self.nearest_clear(start, passable)\n",
    "        goal = self.nearest_clear(goal, passable)\n",
    "        print(\"start\",start)\n",
    "        print(\"goal\",goal)\n",
    "\n",
    "        #astar\n",
    "        path = pyastar2d.astar_path(self.astar_grid, start, goal, allow_diagonal=True)\n",
    "        if path is None:\n",
    "            return None\n",
    "        coeff = int(self.waypoint_sparsity/self.map.scale) # default sparsity 0.5 --> 50 for 0.01, 10 for 0.05\n",
    "        path = list(path)\n",
    "        path = path[:1] + path[:-1:coeff] + path[-1:] #Take the 1st, last, and every 20th waypoint in the middle\n",
    "        path.append(path[-1]) #Duplicate last waypoint to avoid bug in main loop\n",
    "        path = [(x[1],x[0]) for x in path]\n",
    "        return self.optimize_path(path)\n",
    "\n",
    "    def optimize_path(self, path:List[GridLocation]) -> List[GridLocation]:\n",
    "        new_path = [path[0]]  # starting point always in path\n",
    "        for i in range(1, len(path)-1, 1):\n",
    "            if not ((abs(path[i-1][0] - path[i][0]) < self.optimize_threshold and abs(path[i][0] - path[i+1][0]) < self.optimize_threshold) or (abs(path[i-1][1] - path[i][1]) < self.optimize_threshold and abs(path[i][1] - path[i+1][1]) < self.optimize_threshold)):  # 3 consecutive points are on a straight line in either x or y direction\n",
    "                new_path.append(path[i])\n",
    "        new_path.append(path[-1])  # add last point\n",
    "        return new_path"
   ],
   "metadata": {
    "collapsed": false,
    "pycharm": {
     "name": "#%%\n"
    }
   }
  },
  {
   "cell_type": "code",
   "execution_count": 198,
   "outputs": [],
   "source": [
    "import logging\n",
    "from typing import List\n",
    "\n",
    "from tilsdk import *                                            # import the SDK\n",
    "from tilsdk.utilities import PIDController, SimpleMovingAverage # import optional useful things\n",
    "from tilsdk.mock_robomaster.robot import Robot                  # Use this for the simulator\n",
    "# from robomaster.robot import Robot                             # Use this for real robot\n",
    "\n",
    "# Import your code\n",
    "from stubs.cv_service import CVService, MockCVService\n",
    "from stubs.nlp_service import NLPService, MockNLPService\n",
    "from stubs.planner import Planner\n",
    "import pyastar2d\n",
    "import copy"
   ],
   "metadata": {
    "collapsed": false,
    "pycharm": {
     "name": "#%%\n"
    }
   }
  },
  {
   "cell_type": "code",
   "execution_count": 199,
   "outputs": [],
   "source": [
    "# Setup logging in a nice readable format\n",
    "logging.basicConfig(level=logging.INFO,\n",
    "                format='[%(levelname)5s][%(asctime)s][%(name)s]: %(message)s',\n",
    "                datefmt='%H:%M:%S')\n",
    "\n",
    "# Define config variables in an easily accessible location\n",
    "# You may consider using a config file\n",
    "REACHED_THRESHOLD_M = 0.3   # TODO: Participant may tune.\n",
    "ANGLE_THRESHOLD_DEG = 20.0  # TODO: Participant may tune.\n",
    "ROBOT_RADIUS_M = 0.17       # TODO: Participant may tune.\n",
    "NLP_MODEL_DIR = '../model.onnx'          # TODO: Participant to fill in.\n",
    "NLP_PREPROCESSOR_DIR = '../finals_audio_model/'          # TODO: Participant to fill in.\n",
    "CV_MODEL_DIR = ''           # TODO: Participant to fill in.\n",
    "\n",
    "# Convenience function to update locations of interest.\n",
    "def update_locations(old:List[RealLocation], new:List[RealLocation]) -> None:\n",
    "    '''Update locations with no duplicates.'''\n",
    "    if new:\n",
    "        for loc in new:\n",
    "            if loc not in old:\n",
    "                logging.getLogger('update_locations').info('New location of interest: {}'.format(loc))\n",
    "                old.append(loc)"
   ],
   "metadata": {
    "collapsed": false,
    "pycharm": {
     "name": "#%%\n"
    }
   }
  },
  {
   "cell_type": "code",
   "execution_count": 200,
   "outputs": [],
   "source": [
    "# Initialize services\n",
    "# cv_service = CVService(model_dir=CV_MODEL_DIR)\n",
    "\n",
    "cv_service = MockCVService(model_dir=CV_MODEL_DIR)\n",
    "\n",
    "#nlp_service = NLPService(model_dir=NLP_MODEL_DIR, preprocessor_dir=NLP_PREPROCESSOR_DIR)\n",
    "nlp_service = MockNLPService(model_dir=NLP_MODEL_DIR)\n",
    "\n",
    "loc_service = LocalizationService(host='localhost', port=5566)\n",
    "\n",
    "#rep_service = ReportingService(host='localhost', port=5501)\n",
    "# Start the run\n",
    "#rep_service.start_run()\n",
    "\n",
    "robot = Robot()\n",
    "robot.initialize(conn_type=\"sta\")\n",
    "robot.camera.start_video_stream(display=False, resolution='720p')"
   ],
   "metadata": {
    "collapsed": false,
    "pycharm": {
     "name": "#%%\n"
    }
   }
  },
  {
   "cell_type": "code",
   "execution_count": 254,
   "outputs": [
    {
     "name": "stderr",
     "output_type": "stream",
     "text": [
      "[WARNING][14:56:55][urllib3.connectionpool]: Retrying (Retry(total=2, connect=None, read=None, redirect=None, status=None)) after connection broken by 'NewConnectionError('<urllib3.connection.HTTPConnection object at 0x00000263193329D0>: Failed to establish a new connection: [WinError 10061] 由于目标计算机积极拒绝，无法连接。')': /map\n"
     ]
    }
   ],
   "source": [
    "# Initialize planner\n",
    "map_:SignedDistanceGrid = loc_service.get_map()\n",
    "map_ = map_.dilated(1.5*ROBOT_RADIUS_M/map_.scale)\n",
    "planner = MyPlanner(map_, waypoint_sparsity=0.4, optimize_threshold=3)\n",
    "\n",
    "# Initialize variables\n",
    "seen_clues = set()\n",
    "curr_loi:RealLocation = None\n",
    "path:List[RealLocation] = []\n",
    "lois:List[RealLocation] = []\n",
    "curr_wp:RealLocation = None\n",
    "\n",
    "# Initialize pose filter\n",
    "pose_filter = SimpleMovingAverage(n=10)\n",
    "\n",
    "# Define filter function to exclude clues seen before   \n",
    "new_clues = lambda c: c.clue_id not in seen_clues"
   ],
   "metadata": {
    "collapsed": false,
    "pycharm": {
     "name": "#%%\n"
    }
   }
  },
  {
   "cell_type": "code",
   "execution_count": 255,
   "outputs": [],
   "source": [
    "#Tune here\n",
    "tracker = PIDController(Kp=(0.4, 0.5), Kd=(0.4, 0.5), Ki=(0.0, 0.0)) #first: displacement, second: angle"
   ],
   "metadata": {
    "collapsed": false,
    "pycharm": {
     "name": "#%%\n"
    }
   }
  },
  {
   "cell_type": "code",
   "execution_count": 256,
   "outputs": [
    {
     "name": "stderr",
     "output_type": "stream",
     "text": [
      "[ INFO][14:56:59][update_locations]: New location of interest: RealLocation(x=4.0, y=4.0)\n",
      "[ INFO][14:56:59][Main]: Current LOI set to: RealLocation(x=4.0, y=4.0)\n",
      "[ INFO][14:56:59][Main]: Planning path to: RealLocation(x=4.0, y=4.0)\n",
      "[ INFO][14:56:59][Main]: No possible path found, location skipped\n",
      "[ INFO][14:56:59][Main]: No more locations of interest.\n"
     ]
    },
    {
     "name": "stdout",
     "output_type": "stream",
     "text": [
      "original start (18, 11)\n",
      "original goal (80, 80)\n",
      "start (18, 11)\n",
      "goal (80, 80)\n"
     ]
    },
    {
     "data": {
      "text/plain": "<Figure size 432x288 with 1 Axes>",
      "image/png": "[encoded data removed]"
     },
     "metadata": {
      "needs_background": "light"
     },
     "output_type": "display_data"
    },
    {
     "name": "stderr",
     "output_type": "stream",
     "text": [
      "[ INFO][14:56:59][Main]: Current LOI set to: RealLocation(x=0.5, y=1.5)\n",
      "[ INFO][14:56:59][Main]: Planning path to: RealLocation(x=0.5, y=1.5)\n"
     ]
    },
    {
     "name": "stdout",
     "output_type": "stream",
     "text": [
      "original start (19, 11)\n",
      "original goal (30, 10)\n",
      "start (19, 11)\n",
      "goal (30, 10)\n"
     ]
    },
    {
     "data": {
      "text/plain": "<Figure size 432x288 with 1 Axes>",
      "image/png": "[encoded data removed]"
     },
     "metadata": {
      "needs_background": "light"
     },
     "output_type": "display_data"
    },
    {
     "name": "stderr",
     "output_type": "stream",
     "text": [
      "[ INFO][14:56:59][Main]: Path planned.\n",
      "[ INFO][14:56:59][Navigation]: New waypoint: RealLocation(x=0.55, y=0.9500000000000001)\n",
      "[ INFO][14:56:59][Navigation]: Reached wp: RealLocation(x=0.55, y=0.9500000000000001)\n",
      "[ INFO][14:56:59][Navigation]: New waypoint: RealLocation(x=0.5, y=1.5)\n",
      "[ INFO][14:56:59][Navigation]: End of path.\n",
      "[ INFO][14:56:59][Main]: No more locations of interest.\n"
     ]
    },
    {
     "data": {
      "text/plain": "<Figure size 432x288 with 1 Axes>",
      "image/png": "[encoded data removed]"
     },
     "metadata": {
      "needs_background": "light"
     },
     "output_type": "display_data"
    },
    {
     "name": "stderr",
     "output_type": "stream",
     "text": [
      "[ INFO][14:57:00][Main]: Current LOI set to: RealLocation(x=1.5, y=0.5)\n",
      "[ INFO][14:57:00][Main]: Planning path to: RealLocation(x=1.5, y=0.5)\n"
     ]
    },
    {
     "name": "stdout",
     "output_type": "stream",
     "text": [
      "original start (20, 10)\n",
      "original goal (10, 30)\n",
      "start (20, 10)\n",
      "goal (10, 30)\n"
     ]
    },
    {
     "data": {
      "text/plain": "<Figure size 432x288 with 1 Axes>",
      "image/png": "[encoded data removed]"
     },
     "metadata": {
      "needs_background": "light"
     },
     "output_type": "display_data"
    },
    {
     "name": "stderr",
     "output_type": "stream",
     "text": [
      "[ INFO][14:57:00][Main]: Path planned.\n",
      "[ INFO][14:57:00][Navigation]: New waypoint: RealLocation(x=0.5, y=1.0)\n",
      "[ INFO][14:57:00][Navigation]: Reached wp: RealLocation(x=0.5, y=1.0)\n",
      "[ INFO][14:57:00][Navigation]: New waypoint: RealLocation(x=0.5, y=1.0)\n",
      "[ INFO][14:57:00][Navigation]: Reached wp: RealLocation(x=0.5, y=1.0)\n",
      "[ INFO][14:57:00][Navigation]: New waypoint: RealLocation(x=0.8500000000000001, y=0.55)\n",
      "[ INFO][14:57:04][Navigation]: Reached wp: RealLocation(x=0.8500000000000001, y=0.55)\n",
      "[ INFO][14:57:04][Navigation]: New waypoint: RealLocation(x=1.5, y=0.5)\n",
      "[ INFO][14:57:04][Navigation]: End of path.\n",
      "[ INFO][14:57:04][Main]: No more locations of interest.\n"
     ]
    },
    {
     "data": {
      "text/plain": "<Figure size 432x288 with 1 Axes>",
      "image/png": "[encoded data removed]"
     },
     "metadata": {
      "needs_background": "light"
     },
     "output_type": "display_data"
    },
    {
     "name": "stderr",
     "output_type": "stream",
     "text": [
      "[ INFO][14:57:05][Main]: Current LOI set to: RealLocation(x=1.5, y=1.5)\n",
      "[ INFO][14:57:05][Main]: Planning path to: RealLocation(x=1.5, y=1.5)\n"
     ]
    },
    {
     "name": "stdout",
     "output_type": "stream",
     "text": [
      "original start (16, 15)\n",
      "original goal (30, 30)\n",
      "start (16, 15)\n",
      "goal (30, 30)\n"
     ]
    },
    {
     "data": {
      "text/plain": "<Figure size 432x288 with 1 Axes>",
      "image/png": "[encoded data removed]"
     },
     "metadata": {
      "needs_background": "light"
     },
     "output_type": "display_data"
    },
    {
     "name": "stderr",
     "output_type": "stream",
     "text": [
      "[ INFO][14:57:05][Main]: Path planned.\n",
      "[ INFO][14:57:05][Navigation]: New waypoint: RealLocation(x=0.75, y=0.8)\n",
      "[ INFO][14:57:05][Navigation]: Reached wp: RealLocation(x=0.75, y=0.8)\n",
      "[ INFO][14:57:05][Navigation]: New waypoint: RealLocation(x=0.75, y=0.8)\n",
      "[ INFO][14:57:05][Navigation]: Reached wp: RealLocation(x=0.75, y=0.8)\n",
      "[ INFO][14:57:05][Navigation]: New waypoint: RealLocation(x=1.1500000000000001, y=0.55)\n",
      "[ INFO][14:57:06][Navigation]: Reached wp: RealLocation(x=1.1500000000000001, y=0.55)\n",
      "[ INFO][14:57:06][Navigation]: New waypoint: RealLocation(x=2.15, y=0.55)\n",
      "[ INFO][14:57:11][Navigation]: Reached wp: RealLocation(x=2.15, y=0.55)\n",
      "[ INFO][14:57:11][Navigation]: New waypoint: RealLocation(x=2.6500000000000004, y=0.9)\n",
      "[ INFO][14:57:15][Navigation]: Reached wp: RealLocation(x=2.6500000000000004, y=0.9)\n",
      "[ INFO][14:57:15][Navigation]: New waypoint: RealLocation(x=2.45, y=1.4000000000000001)\n",
      "[ INFO][14:57:18][update_locations]: New location of interest: RealLocation(x=1.0, y=2.5)\n",
      "[ INFO][14:57:20][Navigation]: Reached wp: RealLocation(x=2.45, y=1.4000000000000001)\n",
      "[ INFO][14:57:20][Navigation]: New waypoint: RealLocation(x=1.5, y=1.5)\n",
      "[ INFO][14:57:20][Navigation]: End of path.\n",
      "[ INFO][14:57:20][Main]: Current LOI set to: RealLocation(x=1.0, y=2.5)\n",
      "[ INFO][14:57:20][Main]: Planning path to: RealLocation(x=1.0, y=2.5)\n"
     ]
    },
    {
     "name": "stdout",
     "output_type": "stream",
     "text": [
      "original start (23, 50)\n",
      "original goal (50, 20)\n",
      "start (23, 50)\n",
      "goal (50, 20)\n"
     ]
    },
    {
     "data": {
      "text/plain": "<Figure size 432x288 with 1 Axes>",
      "image/png": "[encoded data removed]"
     },
     "metadata": {
      "needs_background": "light"
     },
     "output_type": "display_data"
    },
    {
     "name": "stderr",
     "output_type": "stream",
     "text": [
      "[ INFO][14:57:20][Main]: Path planned.\n",
      "[ INFO][14:57:20][Navigation]: New waypoint: RealLocation(x=2.5, y=1.1500000000000001)\n",
      "[ INFO][14:57:20][Navigation]: Reached wp: RealLocation(x=2.5, y=1.1500000000000001)\n",
      "[ INFO][14:57:20][Navigation]: New waypoint: RealLocation(x=2.5, y=1.1500000000000001)\n",
      "[ INFO][14:57:20][Navigation]: Reached wp: RealLocation(x=2.5, y=1.1500000000000001)\n",
      "[ INFO][14:57:20][Navigation]: New waypoint: RealLocation(x=2.1, y=1.5)\n",
      "[ INFO][14:57:24][Navigation]: Reached wp: RealLocation(x=2.1, y=1.5)\n",
      "[ INFO][14:57:24][Navigation]: New waypoint: RealLocation(x=1.6, y=1.7000000000000002)\n"
     ]
    },
    {
     "ename": "ProtocolError",
     "evalue": "('Connection aborted.', ConnectionResetError(10054, '远程主机强迫关闭了一个现有的连接。', None, 10054, None))",
     "output_type": "error",
     "traceback": [
      "\u001B[1;31m---------------------------------------------------------------------------\u001B[0m",
      "\u001B[1;31mConnectionResetError\u001B[0m                      Traceback (most recent call last)",
      "File \u001B[1;32mC:\\Program Files\\Python39\\lib\\site-packages\\urllib3\\connectionpool.py:703\u001B[0m, in \u001B[0;36mHTTPConnectionPool.urlopen\u001B[1;34m(self, method, url, body, headers, retries, redirect, assert_same_host, timeout, pool_timeout, release_conn, chunked, body_pos, **response_kw)\u001B[0m\n\u001B[0;32m    702\u001B[0m \u001B[38;5;66;03m# Make the request on the httplib connection object.\u001B[39;00m\n\u001B[1;32m--> 703\u001B[0m httplib_response \u001B[38;5;241m=\u001B[39m \u001B[38;5;28;43mself\u001B[39;49m\u001B[38;5;241;43m.\u001B[39;49m\u001B[43m_make_request\u001B[49m\u001B[43m(\u001B[49m\n\u001B[0;32m    704\u001B[0m \u001B[43m    \u001B[49m\u001B[43mconn\u001B[49m\u001B[43m,\u001B[49m\n\u001B[0;32m    705\u001B[0m \u001B[43m    \u001B[49m\u001B[43mmethod\u001B[49m\u001B[43m,\u001B[49m\n\u001B[0;32m    706\u001B[0m \u001B[43m    \u001B[49m\u001B[43murl\u001B[49m\u001B[43m,\u001B[49m\n\u001B[0;32m    707\u001B[0m \u001B[43m    \u001B[49m\u001B[43mtimeout\u001B[49m\u001B[38;5;241;43m=\u001B[39;49m\u001B[43mtimeout_obj\u001B[49m\u001B[43m,\u001B[49m\n\u001B[0;32m    708\u001B[0m \u001B[43m    \u001B[49m\u001B[43mbody\u001B[49m\u001B[38;5;241;43m=\u001B[39;49m\u001B[43mbody\u001B[49m\u001B[43m,\u001B[49m\n\u001B[0;32m    709\u001B[0m \u001B[43m    \u001B[49m\u001B[43mheaders\u001B[49m\u001B[38;5;241;43m=\u001B[39;49m\u001B[43mheaders\u001B[49m\u001B[43m,\u001B[49m\n\u001B[0;32m    710\u001B[0m \u001B[43m    \u001B[49m\u001B[43mchunked\u001B[49m\u001B[38;5;241;43m=\u001B[39;49m\u001B[43mchunked\u001B[49m\u001B[43m,\u001B[49m\n\u001B[0;32m    711\u001B[0m \u001B[43m\u001B[49m\u001B[43m)\u001B[49m\n\u001B[0;32m    713\u001B[0m \u001B[38;5;66;03m# If we're going to release the connection in ``finally:``, then\u001B[39;00m\n\u001B[0;32m    714\u001B[0m \u001B[38;5;66;03m# the response doesn't need to know about the connection. Otherwise\u001B[39;00m\n\u001B[0;32m    715\u001B[0m \u001B[38;5;66;03m# it will also try to release it and we'll have a double-release\u001B[39;00m\n\u001B[0;32m    716\u001B[0m \u001B[38;5;66;03m# mess.\u001B[39;00m\n",
      "File \u001B[1;32mC:\\Program Files\\Python39\\lib\\site-packages\\urllib3\\connectionpool.py:449\u001B[0m, in \u001B[0;36mHTTPConnectionPool._make_request\u001B[1;34m(self, conn, method, url, timeout, chunked, **httplib_request_kw)\u001B[0m\n\u001B[0;32m    445\u001B[0m         \u001B[38;5;28;01mexcept\u001B[39;00m \u001B[38;5;167;01mBaseException\u001B[39;00m \u001B[38;5;28;01mas\u001B[39;00m e:\n\u001B[0;32m    446\u001B[0m             \u001B[38;5;66;03m# Remove the TypeError from the exception chain in\u001B[39;00m\n\u001B[0;32m    447\u001B[0m             \u001B[38;5;66;03m# Python 3 (including for exceptions like SystemExit).\u001B[39;00m\n\u001B[0;32m    448\u001B[0m             \u001B[38;5;66;03m# Otherwise it looks like a bug in the code.\u001B[39;00m\n\u001B[1;32m--> 449\u001B[0m             \u001B[43msix\u001B[49m\u001B[38;5;241;43m.\u001B[39;49m\u001B[43mraise_from\u001B[49m\u001B[43m(\u001B[49m\u001B[43me\u001B[49m\u001B[43m,\u001B[49m\u001B[43m \u001B[49m\u001B[38;5;28;43;01mNone\u001B[39;49;00m\u001B[43m)\u001B[49m\n\u001B[0;32m    450\u001B[0m \u001B[38;5;28;01mexcept\u001B[39;00m (SocketTimeout, BaseSSLError, SocketError) \u001B[38;5;28;01mas\u001B[39;00m e:\n",
      "File \u001B[1;32m<string>:3\u001B[0m, in \u001B[0;36mraise_from\u001B[1;34m(value, from_value)\u001B[0m\n",
      "File \u001B[1;32mC:\\Program Files\\Python39\\lib\\site-packages\\urllib3\\connectionpool.py:444\u001B[0m, in \u001B[0;36mHTTPConnectionPool._make_request\u001B[1;34m(self, conn, method, url, timeout, chunked, **httplib_request_kw)\u001B[0m\n\u001B[0;32m    443\u001B[0m \u001B[38;5;28;01mtry\u001B[39;00m:\n\u001B[1;32m--> 444\u001B[0m     httplib_response \u001B[38;5;241m=\u001B[39m \u001B[43mconn\u001B[49m\u001B[38;5;241;43m.\u001B[39;49m\u001B[43mgetresponse\u001B[49m\u001B[43m(\u001B[49m\u001B[43m)\u001B[49m\n\u001B[0;32m    445\u001B[0m \u001B[38;5;28;01mexcept\u001B[39;00m \u001B[38;5;167;01mBaseException\u001B[39;00m \u001B[38;5;28;01mas\u001B[39;00m e:\n\u001B[0;32m    446\u001B[0m     \u001B[38;5;66;03m# Remove the TypeError from the exception chain in\u001B[39;00m\n\u001B[0;32m    447\u001B[0m     \u001B[38;5;66;03m# Python 3 (including for exceptions like SystemExit).\u001B[39;00m\n\u001B[0;32m    448\u001B[0m     \u001B[38;5;66;03m# Otherwise it looks like a bug in the code.\u001B[39;00m\n",
      "File \u001B[1;32mC:\\Program Files\\Python39\\lib\\http\\client.py:1377\u001B[0m, in \u001B[0;36mHTTPConnection.getresponse\u001B[1;34m(self)\u001B[0m\n\u001B[0;32m   1376\u001B[0m \u001B[38;5;28;01mtry\u001B[39;00m:\n\u001B[1;32m-> 1377\u001B[0m     \u001B[43mresponse\u001B[49m\u001B[38;5;241;43m.\u001B[39;49m\u001B[43mbegin\u001B[49m\u001B[43m(\u001B[49m\u001B[43m)\u001B[49m\n\u001B[0;32m   1378\u001B[0m \u001B[38;5;28;01mexcept\u001B[39;00m \u001B[38;5;167;01mConnectionError\u001B[39;00m:\n",
      "File \u001B[1;32mC:\\Program Files\\Python39\\lib\\http\\client.py:320\u001B[0m, in \u001B[0;36mHTTPResponse.begin\u001B[1;34m(self)\u001B[0m\n\u001B[0;32m    319\u001B[0m \u001B[38;5;28;01mwhile\u001B[39;00m \u001B[38;5;28;01mTrue\u001B[39;00m:\n\u001B[1;32m--> 320\u001B[0m     version, status, reason \u001B[38;5;241m=\u001B[39m \u001B[38;5;28;43mself\u001B[39;49m\u001B[38;5;241;43m.\u001B[39;49m\u001B[43m_read_status\u001B[49m\u001B[43m(\u001B[49m\u001B[43m)\u001B[49m\n\u001B[0;32m    321\u001B[0m     \u001B[38;5;28;01mif\u001B[39;00m status \u001B[38;5;241m!=\u001B[39m CONTINUE:\n",
      "File \u001B[1;32mC:\\Program Files\\Python39\\lib\\http\\client.py:281\u001B[0m, in \u001B[0;36mHTTPResponse._read_status\u001B[1;34m(self)\u001B[0m\n\u001B[0;32m    280\u001B[0m \u001B[38;5;28;01mdef\u001B[39;00m \u001B[38;5;21m_read_status\u001B[39m(\u001B[38;5;28mself\u001B[39m):\n\u001B[1;32m--> 281\u001B[0m     line \u001B[38;5;241m=\u001B[39m \u001B[38;5;28mstr\u001B[39m(\u001B[38;5;28;43mself\u001B[39;49m\u001B[38;5;241;43m.\u001B[39;49m\u001B[43mfp\u001B[49m\u001B[38;5;241;43m.\u001B[39;49m\u001B[43mreadline\u001B[49m\u001B[43m(\u001B[49m\u001B[43m_MAXLINE\u001B[49m\u001B[43m \u001B[49m\u001B[38;5;241;43m+\u001B[39;49m\u001B[43m \u001B[49m\u001B[38;5;241;43m1\u001B[39;49m\u001B[43m)\u001B[49m, \u001B[38;5;124m\"\u001B[39m\u001B[38;5;124miso-8859-1\u001B[39m\u001B[38;5;124m\"\u001B[39m)\n\u001B[0;32m    282\u001B[0m     \u001B[38;5;28;01mif\u001B[39;00m \u001B[38;5;28mlen\u001B[39m(line) \u001B[38;5;241m>\u001B[39m _MAXLINE:\n",
      "File \u001B[1;32mC:\\Program Files\\Python39\\lib\\socket.py:704\u001B[0m, in \u001B[0;36mSocketIO.readinto\u001B[1;34m(self, b)\u001B[0m\n\u001B[0;32m    703\u001B[0m \u001B[38;5;28;01mtry\u001B[39;00m:\n\u001B[1;32m--> 704\u001B[0m     \u001B[38;5;28;01mreturn\u001B[39;00m \u001B[38;5;28;43mself\u001B[39;49m\u001B[38;5;241;43m.\u001B[39;49m\u001B[43m_sock\u001B[49m\u001B[38;5;241;43m.\u001B[39;49m\u001B[43mrecv_into\u001B[49m\u001B[43m(\u001B[49m\u001B[43mb\u001B[49m\u001B[43m)\u001B[49m\n\u001B[0;32m    705\u001B[0m \u001B[38;5;28;01mexcept\u001B[39;00m timeout:\n",
      "\u001B[1;31mConnectionResetError\u001B[0m: [WinError 10054] 远程主机强迫关闭了一个现有的连接。",
      "\nDuring handling of the above exception, another exception occurred:\n",
      "\u001B[1;31mProtocolError\u001B[0m                             Traceback (most recent call last)",
      "Input \u001B[1;32mIn [256]\u001B[0m, in \u001B[0;36m<cell line: 4>\u001B[1;34m()\u001B[0m\n\u001B[0;32m    107\u001B[0m         vel_cmd[\u001B[38;5;241m0\u001B[39m] \u001B[38;5;241m=\u001B[39m \u001B[38;5;241m0.0\u001B[39m\n\u001B[0;32m    109\u001B[0m     \u001B[38;5;66;03m# Send command to robot\u001B[39;00m\n\u001B[1;32m--> 110\u001B[0m     \u001B[43mrobot\u001B[49m\u001B[38;5;241;43m.\u001B[39;49m\u001B[43mchassis\u001B[49m\u001B[38;5;241;43m.\u001B[39;49m\u001B[43mdrive_speed\u001B[49m\u001B[43m(\u001B[49m\u001B[43mx\u001B[49m\u001B[38;5;241;43m=\u001B[39;49m\u001B[43mvel_cmd\u001B[49m\u001B[43m[\u001B[49m\u001B[38;5;241;43m0\u001B[39;49m\u001B[43m]\u001B[49m\u001B[43m,\u001B[49m\u001B[43m \u001B[49m\u001B[43mz\u001B[49m\u001B[38;5;241;43m=\u001B[39;49m\u001B[43mvel_cmd\u001B[49m\u001B[43m[\u001B[49m\u001B[38;5;241;43m1\u001B[39;49m\u001B[43m]\u001B[49m\u001B[43m)\u001B[49m\n\u001B[0;32m    112\u001B[0m \u001B[38;5;28;01melse\u001B[39;00m:\n\u001B[0;32m    113\u001B[0m     logging\u001B[38;5;241m.\u001B[39mgetLogger(\u001B[38;5;124m'\u001B[39m\u001B[38;5;124mNavigation\u001B[39m\u001B[38;5;124m'\u001B[39m)\u001B[38;5;241m.\u001B[39minfo(\u001B[38;5;124m'\u001B[39m\u001B[38;5;124mEnd of path.\u001B[39m\u001B[38;5;124m'\u001B[39m)\n",
      "File \u001B[1;32mC:\\Program Files\\Python39\\lib\\site-packages\\tilsdk\\mock_robomaster\\chassis.py:20\u001B[0m, in \u001B[0;36mChassis.drive_speed\u001B[1;34m(self, x, y, z)\u001B[0m\n\u001B[0;32m      8\u001B[0m \u001B[38;5;28;01mdef\u001B[39;00m \u001B[38;5;21mdrive_speed\u001B[39m(\u001B[38;5;28mself\u001B[39m, x:\u001B[38;5;28mfloat\u001B[39m\u001B[38;5;241m=\u001B[39m\u001B[38;5;241m0.0\u001B[39m, y:\u001B[38;5;28mfloat\u001B[39m\u001B[38;5;241m=\u001B[39m\u001B[38;5;241m0.0\u001B[39m, z:\u001B[38;5;28mfloat\u001B[39m\u001B[38;5;241m=\u001B[39m\u001B[38;5;241m0.0\u001B[39m):\n\u001B[0;32m      9\u001B[0m     \u001B[38;5;124;03m'''Command robot to drive at given velocity.\u001B[39;00m\n\u001B[0;32m     10\u001B[0m \u001B[38;5;124;03m    \u001B[39;00m\n\u001B[0;32m     11\u001B[0m \u001B[38;5;124;03m    Parameters\u001B[39;00m\n\u001B[1;32m   (...)\u001B[0m\n\u001B[0;32m     18\u001B[0m \u001B[38;5;124;03m        Clockwise angular velocity in deg/s.\u001B[39;00m\n\u001B[0;32m     19\u001B[0m \u001B[38;5;124;03m    '''\u001B[39;00m\n\u001B[1;32m---> 20\u001B[0m     response \u001B[38;5;241m=\u001B[39m \u001B[38;5;28;43mself\u001B[39;49m\u001B[38;5;241;43m.\u001B[39;49m\u001B[43mmanager\u001B[49m\u001B[38;5;241;43m.\u001B[39;49m\u001B[43mrequest\u001B[49m\u001B[43m(\u001B[49m\u001B[43mmethod\u001B[49m\u001B[38;5;241;43m=\u001B[39;49m\u001B[38;5;124;43m'\u001B[39;49m\u001B[38;5;124;43mPOST\u001B[39;49m\u001B[38;5;124;43m'\u001B[39;49m\u001B[43m,\u001B[49m\n\u001B[0;32m     21\u001B[0m \u001B[43m                                    \u001B[49m\u001B[43murl\u001B[49m\u001B[38;5;241;43m=\u001B[39;49m\u001B[38;5;28;43mself\u001B[39;49m\u001B[38;5;241;43m.\u001B[39;49m\u001B[43murl\u001B[49m\u001B[38;5;241;43m+\u001B[39;49m\u001B[38;5;124;43m'\u001B[39;49m\u001B[38;5;124;43m/cmd_vel\u001B[39;49m\u001B[38;5;124;43m'\u001B[39;49m\u001B[43m,\u001B[49m\n\u001B[0;32m     22\u001B[0m \u001B[43m                                    \u001B[49m\u001B[43mheaders\u001B[49m\u001B[38;5;241;43m=\u001B[39;49m\u001B[43m{\u001B[49m\u001B[38;5;124;43m'\u001B[39;49m\u001B[38;5;124;43mContent-Type\u001B[39;49m\u001B[38;5;124;43m'\u001B[39;49m\u001B[43m:\u001B[49m\u001B[43m \u001B[49m\u001B[38;5;124;43m'\u001B[39;49m\u001B[38;5;124;43mapplication/json\u001B[39;49m\u001B[38;5;124;43m'\u001B[39;49m\u001B[43m}\u001B[49m\u001B[43m,\u001B[49m\n\u001B[0;32m     23\u001B[0m \u001B[43m                                    \u001B[49m\u001B[43mbody\u001B[49m\u001B[38;5;241;43m=\u001B[39;49m\u001B[43mjson\u001B[49m\u001B[38;5;241;43m.\u001B[39;49m\u001B[43mdumps\u001B[49m\u001B[43m(\u001B[49m\u001B[43m{\u001B[49m\n\u001B[0;32m     24\u001B[0m \u001B[43m                                        \u001B[49m\u001B[38;5;124;43m'\u001B[39;49m\u001B[38;5;124;43mvel\u001B[39;49m\u001B[38;5;124;43m'\u001B[39;49m\u001B[43m:\u001B[49m\u001B[43m \u001B[49m\u001B[43m{\u001B[49m\n\u001B[0;32m     25\u001B[0m \u001B[43m                                            \u001B[49m\u001B[38;5;124;43m'\u001B[39;49m\u001B[38;5;124;43mx\u001B[39;49m\u001B[38;5;124;43m'\u001B[39;49m\u001B[43m:\u001B[49m\u001B[43m \u001B[49m\u001B[43mx\u001B[49m\u001B[43m,\u001B[49m\u001B[43m   \u001B[49m\u001B[38;5;66;43;03m# arena frame\u001B[39;49;00m\n\u001B[0;32m     26\u001B[0m \u001B[43m                                            \u001B[49m\u001B[38;5;124;43m'\u001B[39;49m\u001B[38;5;124;43my\u001B[39;49m\u001B[38;5;124;43m'\u001B[39;49m\u001B[43m:\u001B[49m\u001B[43m \u001B[49m\u001B[38;5;241;43m-\u001B[39;49m\u001B[43my\u001B[49m\u001B[43m,\u001B[49m\u001B[43m  \u001B[49m\u001B[38;5;66;43;03m# arena frame\u001B[39;49;00m\n\u001B[0;32m     27\u001B[0m \u001B[43m                                            \u001B[49m\u001B[38;5;124;43m'\u001B[39;49m\u001B[38;5;124;43mz\u001B[39;49m\u001B[38;5;124;43m'\u001B[39;49m\u001B[43m:\u001B[49m\u001B[43m \u001B[49m\u001B[38;5;241;43m-\u001B[39;49m\u001B[43mz\u001B[49m\u001B[43m   \u001B[49m\u001B[38;5;66;43;03m# arena frame\u001B[39;49;00m\n\u001B[0;32m     28\u001B[0m \u001B[43m                                        \u001B[49m\u001B[43m}\u001B[49m\n\u001B[0;32m     29\u001B[0m \u001B[43m                                    \u001B[49m\u001B[43m}\u001B[49m\u001B[43m)\u001B[49m\u001B[43m)\u001B[49m\n",
      "File \u001B[1;32mC:\\Program Files\\Python39\\lib\\site-packages\\urllib3\\request.py:78\u001B[0m, in \u001B[0;36mRequestMethods.request\u001B[1;34m(self, method, url, fields, headers, **urlopen_kw)\u001B[0m\n\u001B[0;32m     74\u001B[0m     \u001B[38;5;28;01mreturn\u001B[39;00m \u001B[38;5;28mself\u001B[39m\u001B[38;5;241m.\u001B[39mrequest_encode_url(\n\u001B[0;32m     75\u001B[0m         method, url, fields\u001B[38;5;241m=\u001B[39mfields, headers\u001B[38;5;241m=\u001B[39mheaders, \u001B[38;5;241m*\u001B[39m\u001B[38;5;241m*\u001B[39murlopen_kw\n\u001B[0;32m     76\u001B[0m     )\n\u001B[0;32m     77\u001B[0m \u001B[38;5;28;01melse\u001B[39;00m:\n\u001B[1;32m---> 78\u001B[0m     \u001B[38;5;28;01mreturn\u001B[39;00m \u001B[38;5;28mself\u001B[39m\u001B[38;5;241m.\u001B[39mrequest_encode_body(\n\u001B[0;32m     79\u001B[0m         method, url, fields\u001B[38;5;241m=\u001B[39mfields, headers\u001B[38;5;241m=\u001B[39mheaders, \u001B[38;5;241m*\u001B[39m\u001B[38;5;241m*\u001B[39murlopen_kw\n\u001B[0;32m     80\u001B[0m     )\n",
      "File \u001B[1;32mC:\\Program Files\\Python39\\lib\\site-packages\\urllib3\\request.py:170\u001B[0m, in \u001B[0;36mRequestMethods.request_encode_body\u001B[1;34m(self, method, url, fields, headers, encode_multipart, multipart_boundary, **urlopen_kw)\u001B[0m\n\u001B[0;32m    167\u001B[0m extra_kw[\u001B[38;5;124m\"\u001B[39m\u001B[38;5;124mheaders\u001B[39m\u001B[38;5;124m\"\u001B[39m]\u001B[38;5;241m.\u001B[39mupdate(headers)\n\u001B[0;32m    168\u001B[0m extra_kw\u001B[38;5;241m.\u001B[39mupdate(urlopen_kw)\n\u001B[1;32m--> 170\u001B[0m \u001B[38;5;28;01mreturn\u001B[39;00m \u001B[38;5;28mself\u001B[39m\u001B[38;5;241m.\u001B[39murlopen(method, url, \u001B[38;5;241m*\u001B[39m\u001B[38;5;241m*\u001B[39mextra_kw)\n",
      "File \u001B[1;32mC:\\Program Files\\Python39\\lib\\site-packages\\urllib3\\poolmanager.py:376\u001B[0m, in \u001B[0;36mPoolManager.urlopen\u001B[1;34m(self, method, url, redirect, **kw)\u001B[0m\n\u001B[0;32m    374\u001B[0m     response \u001B[38;5;241m=\u001B[39m conn\u001B[38;5;241m.\u001B[39murlopen(method, url, \u001B[38;5;241m*\u001B[39m\u001B[38;5;241m*\u001B[39mkw)\n\u001B[0;32m    375\u001B[0m \u001B[38;5;28;01melse\u001B[39;00m:\n\u001B[1;32m--> 376\u001B[0m     response \u001B[38;5;241m=\u001B[39m conn\u001B[38;5;241m.\u001B[39murlopen(method, u\u001B[38;5;241m.\u001B[39mrequest_uri, \u001B[38;5;241m*\u001B[39m\u001B[38;5;241m*\u001B[39mkw)\n\u001B[0;32m    378\u001B[0m redirect_location \u001B[38;5;241m=\u001B[39m redirect \u001B[38;5;129;01mand\u001B[39;00m response\u001B[38;5;241m.\u001B[39mget_redirect_location()\n\u001B[0;32m    379\u001B[0m \u001B[38;5;28;01mif\u001B[39;00m \u001B[38;5;129;01mnot\u001B[39;00m redirect_location:\n",
      "File \u001B[1;32mC:\\Program Files\\Python39\\lib\\site-packages\\urllib3\\connectionpool.py:785\u001B[0m, in \u001B[0;36mHTTPConnectionPool.urlopen\u001B[1;34m(self, method, url, body, headers, retries, redirect, assert_same_host, timeout, pool_timeout, release_conn, chunked, body_pos, **response_kw)\u001B[0m\n\u001B[0;32m    782\u001B[0m \u001B[38;5;28;01melif\u001B[39;00m \u001B[38;5;28misinstance\u001B[39m(e, (SocketError, HTTPException)):\n\u001B[0;32m    783\u001B[0m     e \u001B[38;5;241m=\u001B[39m ProtocolError(\u001B[38;5;124m\"\u001B[39m\u001B[38;5;124mConnection aborted.\u001B[39m\u001B[38;5;124m\"\u001B[39m, e)\n\u001B[1;32m--> 785\u001B[0m retries \u001B[38;5;241m=\u001B[39m \u001B[43mretries\u001B[49m\u001B[38;5;241;43m.\u001B[39;49m\u001B[43mincrement\u001B[49m\u001B[43m(\u001B[49m\n\u001B[0;32m    786\u001B[0m \u001B[43m    \u001B[49m\u001B[43mmethod\u001B[49m\u001B[43m,\u001B[49m\u001B[43m \u001B[49m\u001B[43murl\u001B[49m\u001B[43m,\u001B[49m\u001B[43m \u001B[49m\u001B[43merror\u001B[49m\u001B[38;5;241;43m=\u001B[39;49m\u001B[43me\u001B[49m\u001B[43m,\u001B[49m\u001B[43m \u001B[49m\u001B[43m_pool\u001B[49m\u001B[38;5;241;43m=\u001B[39;49m\u001B[38;5;28;43mself\u001B[39;49m\u001B[43m,\u001B[49m\u001B[43m \u001B[49m\u001B[43m_stacktrace\u001B[49m\u001B[38;5;241;43m=\u001B[39;49m\u001B[43msys\u001B[49m\u001B[38;5;241;43m.\u001B[39;49m\u001B[43mexc_info\u001B[49m\u001B[43m(\u001B[49m\u001B[43m)\u001B[49m\u001B[43m[\u001B[49m\u001B[38;5;241;43m2\u001B[39;49m\u001B[43m]\u001B[49m\n\u001B[0;32m    787\u001B[0m \u001B[43m\u001B[49m\u001B[43m)\u001B[49m\n\u001B[0;32m    788\u001B[0m retries\u001B[38;5;241m.\u001B[39msleep()\n\u001B[0;32m    790\u001B[0m \u001B[38;5;66;03m# Keep track of the error for the retry warning.\u001B[39;00m\n",
      "File \u001B[1;32mC:\\Program Files\\Python39\\lib\\site-packages\\urllib3\\util\\retry.py:550\u001B[0m, in \u001B[0;36mRetry.increment\u001B[1;34m(self, method, url, response, error, _pool, _stacktrace)\u001B[0m\n\u001B[0;32m    547\u001B[0m \u001B[38;5;28;01melif\u001B[39;00m error \u001B[38;5;129;01mand\u001B[39;00m \u001B[38;5;28mself\u001B[39m\u001B[38;5;241m.\u001B[39m_is_read_error(error):\n\u001B[0;32m    548\u001B[0m     \u001B[38;5;66;03m# Read retry?\u001B[39;00m\n\u001B[0;32m    549\u001B[0m     \u001B[38;5;28;01mif\u001B[39;00m read \u001B[38;5;129;01mis\u001B[39;00m \u001B[38;5;28;01mFalse\u001B[39;00m \u001B[38;5;129;01mor\u001B[39;00m \u001B[38;5;129;01mnot\u001B[39;00m \u001B[38;5;28mself\u001B[39m\u001B[38;5;241m.\u001B[39m_is_method_retryable(method):\n\u001B[1;32m--> 550\u001B[0m         \u001B[38;5;28;01mraise\u001B[39;00m \u001B[43msix\u001B[49m\u001B[38;5;241;43m.\u001B[39;49m\u001B[43mreraise\u001B[49m\u001B[43m(\u001B[49m\u001B[38;5;28;43mtype\u001B[39;49m\u001B[43m(\u001B[49m\u001B[43merror\u001B[49m\u001B[43m)\u001B[49m\u001B[43m,\u001B[49m\u001B[43m \u001B[49m\u001B[43merror\u001B[49m\u001B[43m,\u001B[49m\u001B[43m \u001B[49m\u001B[43m_stacktrace\u001B[49m\u001B[43m)\u001B[49m\n\u001B[0;32m    551\u001B[0m     \u001B[38;5;28;01melif\u001B[39;00m read \u001B[38;5;129;01mis\u001B[39;00m \u001B[38;5;129;01mnot\u001B[39;00m \u001B[38;5;28;01mNone\u001B[39;00m:\n\u001B[0;32m    552\u001B[0m         read \u001B[38;5;241m-\u001B[39m\u001B[38;5;241m=\u001B[39m \u001B[38;5;241m1\u001B[39m\n",
      "File \u001B[1;32mC:\\Program Files\\Python39\\lib\\site-packages\\urllib3\\packages\\six.py:769\u001B[0m, in \u001B[0;36mreraise\u001B[1;34m(tp, value, tb)\u001B[0m\n\u001B[0;32m    767\u001B[0m         value \u001B[38;5;241m=\u001B[39m tp()\n\u001B[0;32m    768\u001B[0m     \u001B[38;5;28;01mif\u001B[39;00m value\u001B[38;5;241m.\u001B[39m__traceback__ \u001B[38;5;129;01mis\u001B[39;00m \u001B[38;5;129;01mnot\u001B[39;00m tb:\n\u001B[1;32m--> 769\u001B[0m         \u001B[38;5;28;01mraise\u001B[39;00m value\u001B[38;5;241m.\u001B[39mwith_traceback(tb)\n\u001B[0;32m    770\u001B[0m     \u001B[38;5;28;01mraise\u001B[39;00m value\n\u001B[0;32m    771\u001B[0m \u001B[38;5;28;01mfinally\u001B[39;00m:\n",
      "File \u001B[1;32mC:\\Program Files\\Python39\\lib\\site-packages\\urllib3\\connectionpool.py:703\u001B[0m, in \u001B[0;36mHTTPConnectionPool.urlopen\u001B[1;34m(self, method, url, body, headers, retries, redirect, assert_same_host, timeout, pool_timeout, release_conn, chunked, body_pos, **response_kw)\u001B[0m\n\u001B[0;32m    700\u001B[0m     \u001B[38;5;28mself\u001B[39m\u001B[38;5;241m.\u001B[39m_prepare_proxy(conn)\n\u001B[0;32m    702\u001B[0m \u001B[38;5;66;03m# Make the request on the httplib connection object.\u001B[39;00m\n\u001B[1;32m--> 703\u001B[0m httplib_response \u001B[38;5;241m=\u001B[39m \u001B[38;5;28;43mself\u001B[39;49m\u001B[38;5;241;43m.\u001B[39;49m\u001B[43m_make_request\u001B[49m\u001B[43m(\u001B[49m\n\u001B[0;32m    704\u001B[0m \u001B[43m    \u001B[49m\u001B[43mconn\u001B[49m\u001B[43m,\u001B[49m\n\u001B[0;32m    705\u001B[0m \u001B[43m    \u001B[49m\u001B[43mmethod\u001B[49m\u001B[43m,\u001B[49m\n\u001B[0;32m    706\u001B[0m \u001B[43m    \u001B[49m\u001B[43murl\u001B[49m\u001B[43m,\u001B[49m\n\u001B[0;32m    707\u001B[0m \u001B[43m    \u001B[49m\u001B[43mtimeout\u001B[49m\u001B[38;5;241;43m=\u001B[39;49m\u001B[43mtimeout_obj\u001B[49m\u001B[43m,\u001B[49m\n\u001B[0;32m    708\u001B[0m \u001B[43m    \u001B[49m\u001B[43mbody\u001B[49m\u001B[38;5;241;43m=\u001B[39;49m\u001B[43mbody\u001B[49m\u001B[43m,\u001B[49m\n\u001B[0;32m    709\u001B[0m \u001B[43m    \u001B[49m\u001B[43mheaders\u001B[49m\u001B[38;5;241;43m=\u001B[39;49m\u001B[43mheaders\u001B[49m\u001B[43m,\u001B[49m\n\u001B[0;32m    710\u001B[0m \u001B[43m    \u001B[49m\u001B[43mchunked\u001B[49m\u001B[38;5;241;43m=\u001B[39;49m\u001B[43mchunked\u001B[49m\u001B[43m,\u001B[49m\n\u001B[0;32m    711\u001B[0m \u001B[43m\u001B[49m\u001B[43m)\u001B[49m\n\u001B[0;32m    713\u001B[0m \u001B[38;5;66;03m# If we're going to release the connection in ``finally:``, then\u001B[39;00m\n\u001B[0;32m    714\u001B[0m \u001B[38;5;66;03m# the response doesn't need to know about the connection. Otherwise\u001B[39;00m\n\u001B[0;32m    715\u001B[0m \u001B[38;5;66;03m# it will also try to release it and we'll have a double-release\u001B[39;00m\n\u001B[0;32m    716\u001B[0m \u001B[38;5;66;03m# mess.\u001B[39;00m\n\u001B[0;32m    717\u001B[0m response_conn \u001B[38;5;241m=\u001B[39m conn \u001B[38;5;28;01mif\u001B[39;00m \u001B[38;5;129;01mnot\u001B[39;00m release_conn \u001B[38;5;28;01melse\u001B[39;00m \u001B[38;5;28;01mNone\u001B[39;00m\n",
      "File \u001B[1;32mC:\\Program Files\\Python39\\lib\\site-packages\\urllib3\\connectionpool.py:449\u001B[0m, in \u001B[0;36mHTTPConnectionPool._make_request\u001B[1;34m(self, conn, method, url, timeout, chunked, **httplib_request_kw)\u001B[0m\n\u001B[0;32m    444\u001B[0m             httplib_response \u001B[38;5;241m=\u001B[39m conn\u001B[38;5;241m.\u001B[39mgetresponse()\n\u001B[0;32m    445\u001B[0m         \u001B[38;5;28;01mexcept\u001B[39;00m \u001B[38;5;167;01mBaseException\u001B[39;00m \u001B[38;5;28;01mas\u001B[39;00m e:\n\u001B[0;32m    446\u001B[0m             \u001B[38;5;66;03m# Remove the TypeError from the exception chain in\u001B[39;00m\n\u001B[0;32m    447\u001B[0m             \u001B[38;5;66;03m# Python 3 (including for exceptions like SystemExit).\u001B[39;00m\n\u001B[0;32m    448\u001B[0m             \u001B[38;5;66;03m# Otherwise it looks like a bug in the code.\u001B[39;00m\n\u001B[1;32m--> 449\u001B[0m             \u001B[43msix\u001B[49m\u001B[38;5;241;43m.\u001B[39;49m\u001B[43mraise_from\u001B[49m\u001B[43m(\u001B[49m\u001B[43me\u001B[49m\u001B[43m,\u001B[49m\u001B[43m \u001B[49m\u001B[38;5;28;43;01mNone\u001B[39;49;00m\u001B[43m)\u001B[49m\n\u001B[0;32m    450\u001B[0m \u001B[38;5;28;01mexcept\u001B[39;00m (SocketTimeout, BaseSSLError, SocketError) \u001B[38;5;28;01mas\u001B[39;00m e:\n\u001B[0;32m    451\u001B[0m     \u001B[38;5;28mself\u001B[39m\u001B[38;5;241m.\u001B[39m_raise_timeout(err\u001B[38;5;241m=\u001B[39me, url\u001B[38;5;241m=\u001B[39murl, timeout_value\u001B[38;5;241m=\u001B[39mread_timeout)\n",
      "File \u001B[1;32m<string>:3\u001B[0m, in \u001B[0;36mraise_from\u001B[1;34m(value, from_value)\u001B[0m\n",
      "File \u001B[1;32mC:\\Program Files\\Python39\\lib\\site-packages\\urllib3\\connectionpool.py:444\u001B[0m, in \u001B[0;36mHTTPConnectionPool._make_request\u001B[1;34m(self, conn, method, url, timeout, chunked, **httplib_request_kw)\u001B[0m\n\u001B[0;32m    441\u001B[0m \u001B[38;5;28;01mexcept\u001B[39;00m \u001B[38;5;167;01mTypeError\u001B[39;00m:\n\u001B[0;32m    442\u001B[0m     \u001B[38;5;66;03m# Python 3\u001B[39;00m\n\u001B[0;32m    443\u001B[0m     \u001B[38;5;28;01mtry\u001B[39;00m:\n\u001B[1;32m--> 444\u001B[0m         httplib_response \u001B[38;5;241m=\u001B[39m \u001B[43mconn\u001B[49m\u001B[38;5;241;43m.\u001B[39;49m\u001B[43mgetresponse\u001B[49m\u001B[43m(\u001B[49m\u001B[43m)\u001B[49m\n\u001B[0;32m    445\u001B[0m     \u001B[38;5;28;01mexcept\u001B[39;00m \u001B[38;5;167;01mBaseException\u001B[39;00m \u001B[38;5;28;01mas\u001B[39;00m e:\n\u001B[0;32m    446\u001B[0m         \u001B[38;5;66;03m# Remove the TypeError from the exception chain in\u001B[39;00m\n\u001B[0;32m    447\u001B[0m         \u001B[38;5;66;03m# Python 3 (including for exceptions like SystemExit).\u001B[39;00m\n\u001B[0;32m    448\u001B[0m         \u001B[38;5;66;03m# Otherwise it looks like a bug in the code.\u001B[39;00m\n\u001B[0;32m    449\u001B[0m         six\u001B[38;5;241m.\u001B[39mraise_from(e, \u001B[38;5;28;01mNone\u001B[39;00m)\n",
      "File \u001B[1;32mC:\\Program Files\\Python39\\lib\\http\\client.py:1377\u001B[0m, in \u001B[0;36mHTTPConnection.getresponse\u001B[1;34m(self)\u001B[0m\n\u001B[0;32m   1375\u001B[0m \u001B[38;5;28;01mtry\u001B[39;00m:\n\u001B[0;32m   1376\u001B[0m     \u001B[38;5;28;01mtry\u001B[39;00m:\n\u001B[1;32m-> 1377\u001B[0m         \u001B[43mresponse\u001B[49m\u001B[38;5;241;43m.\u001B[39;49m\u001B[43mbegin\u001B[49m\u001B[43m(\u001B[49m\u001B[43m)\u001B[49m\n\u001B[0;32m   1378\u001B[0m     \u001B[38;5;28;01mexcept\u001B[39;00m \u001B[38;5;167;01mConnectionError\u001B[39;00m:\n\u001B[0;32m   1379\u001B[0m         \u001B[38;5;28mself\u001B[39m\u001B[38;5;241m.\u001B[39mclose()\n",
      "File \u001B[1;32mC:\\Program Files\\Python39\\lib\\http\\client.py:320\u001B[0m, in \u001B[0;36mHTTPResponse.begin\u001B[1;34m(self)\u001B[0m\n\u001B[0;32m    318\u001B[0m \u001B[38;5;66;03m# read until we get a non-100 response\u001B[39;00m\n\u001B[0;32m    319\u001B[0m \u001B[38;5;28;01mwhile\u001B[39;00m \u001B[38;5;28;01mTrue\u001B[39;00m:\n\u001B[1;32m--> 320\u001B[0m     version, status, reason \u001B[38;5;241m=\u001B[39m \u001B[38;5;28;43mself\u001B[39;49m\u001B[38;5;241;43m.\u001B[39;49m\u001B[43m_read_status\u001B[49m\u001B[43m(\u001B[49m\u001B[43m)\u001B[49m\n\u001B[0;32m    321\u001B[0m     \u001B[38;5;28;01mif\u001B[39;00m status \u001B[38;5;241m!=\u001B[39m CONTINUE:\n\u001B[0;32m    322\u001B[0m         \u001B[38;5;28;01mbreak\u001B[39;00m\n",
      "File \u001B[1;32mC:\\Program Files\\Python39\\lib\\http\\client.py:281\u001B[0m, in \u001B[0;36mHTTPResponse._read_status\u001B[1;34m(self)\u001B[0m\n\u001B[0;32m    280\u001B[0m \u001B[38;5;28;01mdef\u001B[39;00m \u001B[38;5;21m_read_status\u001B[39m(\u001B[38;5;28mself\u001B[39m):\n\u001B[1;32m--> 281\u001B[0m     line \u001B[38;5;241m=\u001B[39m \u001B[38;5;28mstr\u001B[39m(\u001B[38;5;28;43mself\u001B[39;49m\u001B[38;5;241;43m.\u001B[39;49m\u001B[43mfp\u001B[49m\u001B[38;5;241;43m.\u001B[39;49m\u001B[43mreadline\u001B[49m\u001B[43m(\u001B[49m\u001B[43m_MAXLINE\u001B[49m\u001B[43m \u001B[49m\u001B[38;5;241;43m+\u001B[39;49m\u001B[43m \u001B[49m\u001B[38;5;241;43m1\u001B[39;49m\u001B[43m)\u001B[49m, \u001B[38;5;124m\"\u001B[39m\u001B[38;5;124miso-8859-1\u001B[39m\u001B[38;5;124m\"\u001B[39m)\n\u001B[0;32m    282\u001B[0m     \u001B[38;5;28;01mif\u001B[39;00m \u001B[38;5;28mlen\u001B[39m(line) \u001B[38;5;241m>\u001B[39m _MAXLINE:\n\u001B[0;32m    283\u001B[0m         \u001B[38;5;28;01mraise\u001B[39;00m LineTooLong(\u001B[38;5;124m\"\u001B[39m\u001B[38;5;124mstatus line\u001B[39m\u001B[38;5;124m\"\u001B[39m)\n",
      "File \u001B[1;32mC:\\Program Files\\Python39\\lib\\socket.py:704\u001B[0m, in \u001B[0;36mSocketIO.readinto\u001B[1;34m(self, b)\u001B[0m\n\u001B[0;32m    702\u001B[0m \u001B[38;5;28;01mwhile\u001B[39;00m \u001B[38;5;28;01mTrue\u001B[39;00m:\n\u001B[0;32m    703\u001B[0m     \u001B[38;5;28;01mtry\u001B[39;00m:\n\u001B[1;32m--> 704\u001B[0m         \u001B[38;5;28;01mreturn\u001B[39;00m \u001B[38;5;28;43mself\u001B[39;49m\u001B[38;5;241;43m.\u001B[39;49m\u001B[43m_sock\u001B[49m\u001B[38;5;241;43m.\u001B[39;49m\u001B[43mrecv_into\u001B[49m\u001B[43m(\u001B[49m\u001B[43mb\u001B[49m\u001B[43m)\u001B[49m\n\u001B[0;32m    705\u001B[0m     \u001B[38;5;28;01mexcept\u001B[39;00m timeout:\n\u001B[0;32m    706\u001B[0m         \u001B[38;5;28mself\u001B[39m\u001B[38;5;241m.\u001B[39m_timeout_occurred \u001B[38;5;241m=\u001B[39m \u001B[38;5;28;01mTrue\u001B[39;00m\n",
      "\u001B[1;31mProtocolError\u001B[0m: ('Connection aborted.', ConnectionResetError(10054, '远程主机强迫关闭了一个现有的连接。', None, 10054, None))"
     ]
    }
   ],
   "source": [
    "# Main loop\n",
    "while True:\n",
    "    # Get new data\n",
    "    pose, clues = loc_service.get_pose()\n",
    "    pose = pose_filter.update(pose)\n",
    "    img = robot.camera.read_cv2_image(strategy='newest')\n",
    "    if not pose:\n",
    "        # no new data, continue to next iteration.\n",
    "        continue\n",
    "\n",
    "    #Set this location as visited in the planner (so no need to visit here again if there are no clues)    \n",
    "    planner.visit(pose[:2])\n",
    "    \n",
    "    # Filter out clues that were seen before\n",
    "    clues = filter(new_clues, clues)\n",
    "\n",
    "    # Process clues using NLP and determine any new locations of interest\n",
    "    if clues:\n",
    "        clues=list(clues) #It bugs without this\n",
    "        new_lois = nlp_service.locations_from_clues(clues) #new locations of interest\n",
    "        update_locations(lois, new_lois)\n",
    "        seen_clues.update([c.clue_id for c in clues])\n",
    "\n",
    "    \"\"\"    # Process image and detect targets\n",
    "    targets = cv_service.targets_from_image(img)\n",
    "\n",
    "    # Submit targets\n",
    "    if targets:\n",
    "        logging.getLogger('Main').info('{} targets detected.'.format(len(targets)))\n",
    "        #logging.getLogger('Reporting').info(rep_service.report(pose, img, targets))\n",
    "    \"\"\"\n",
    "    if not curr_loi:\n",
    "        if len(lois) == 0:\n",
    "            logging.getLogger('Main').info('No more locations of interest.')\n",
    "            explore_next = planner.get_explore(pose[:2])\n",
    "            if type(explore_next) == type(None):\n",
    "                break\n",
    "            plt.imshow(planner.big_grid)\n",
    "            plt.title(\"Places explored so far and the one to explore next\")\n",
    "            plt.scatter([explore_next[0]],[explore_next[1]])\n",
    "            plt.show()\n",
    "            lois.append(explore_next)\n",
    "            #break\n",
    "            \n",
    "        # Get new LOI\n",
    "        lois.sort(key=lambda l: euclidean_distance(l, pose), reverse=True)\n",
    "        curr_loi = lois.pop()\n",
    "        logging.getLogger('Main').info('Current LOI set to: {}'.format(curr_loi))\n",
    "\n",
    "        # Plan a path to the new LOI\n",
    "        logging.getLogger('Main').info('Planning path to: {}'.format(curr_loi))\n",
    "\n",
    "        path = planner.plan(pose[:2], curr_loi)\n",
    "        if type(path) == type(None):\n",
    "            logging.getLogger('Main').info('No possible path found, location skipped')\n",
    "            #print(\"lois\",lois)\n",
    "            #print(\"seen:\",seen_clues)\n",
    "            curr_loi = None\n",
    "        else:\n",
    "        #path = [curr_loi,curr_loi]\n",
    "            path.reverse() # reverse so closest wp is last so that pop() is cheap , waypoint\n",
    "            curr_wp = None\n",
    "            logging.getLogger('Main').info('Path planned.')\n",
    "    else:\n",
    "        # There is a current LOI objective.\n",
    "        # Continue with navigation along current path.\n",
    "        if path:\n",
    "            # Get next waypoint\n",
    "            if not curr_wp:\n",
    "                curr_wp = path.pop()\n",
    "                logging.getLogger('Navigation').info('New waypoint: {}'.format(curr_wp))\n",
    "\n",
    "            #logging.getLogger('Navigation').info('Calculating angle')\n",
    "            # Calculate distance and heading to waypoint\n",
    "            dist_to_wp = euclidean_distance(pose, curr_wp)\n",
    "            ang_to_wp = np.degrees(np.arctan2(curr_wp[1]-pose[1], curr_wp[0]-pose[0]))\n",
    "            ang_diff = -(ang_to_wp - pose[2]) # body frame\n",
    "\n",
    "            # ensure ang_diff is in [-180, 180]\n",
    "            if ang_diff < -180:\n",
    "                ang_diff += 360\n",
    "\n",
    "            if ang_diff > 180:\n",
    "                ang_diff -= 360\n",
    "\n",
    "            #logging.getLogger('Navigation').info('ang_to_wp: {}, hdg: {}, ang_diff: {}'.format(ang_to_wp, pose[2], ang_diff))\n",
    "            #logging.getLogger('Navigation').info('Pose: {}'.format(pose))\n",
    "            \n",
    "            # Consider waypoint reached if within a threshold distance\n",
    "            if dist_to_wp < REACHED_THRESHOLD_M:\n",
    "                logging.getLogger('Navigation').info('Reached wp: {}'.format(curr_wp))\n",
    "                tracker.reset()\n",
    "                curr_wp = None\n",
    "                continue\n",
    "\n",
    "            # Determine velocity commands given distance and heading to waypoint\n",
    "            vel_cmd = tracker.update((dist_to_wp, ang_diff))\n",
    "\n",
    "            #logging.getLogger('Navigation').info('dist: {} ang:{} vel:{}'.format(dist_to_wp,ang_diff,vel_cmd))\n",
    "            \n",
    "            # reduce x velocity\n",
    "            vel_cmd[0] *= np.cos(np.radians(ang_diff))\n",
    "\n",
    "            # If robot is facing the wrong direction, turn to face waypoint first before\n",
    "            # moving forward.\n",
    "            if abs(ang_diff) > ANGLE_THRESHOLD_DEG:\n",
    "                vel_cmd[0] = 0.0\n",
    "\n",
    "            # Send command to robot\n",
    "            robot.chassis.drive_speed(x=vel_cmd[0], z=vel_cmd[1])\n",
    "\n",
    "        else:\n",
    "            logging.getLogger('Navigation').info('End of path.')\n",
    "            curr_loi = None\n",
    "\n",
    "            # TODO: Perform search behaviour? Participant to complete.\n",
    "\n",
    "            continue\n",
    "\n",
    "robot.chassis.drive_speed(x=0.0, y=0.0, z=0.0)  # set stop for safety\n",
    "logging.getLogger('Main').info('Mission Terminated.')"
   ],
   "metadata": {
    "collapsed": false,
    "pycharm": {
     "name": "#%%\n"
    }
   }
  },
  {
   "cell_type": "markdown",
   "source": [
    "# Below: Random working"
   ],
   "metadata": {
    "collapsed": false,
    "pycharm": {
     "name": "#%% md\n"
    }
   }
  },
  {
   "cell_type": "code",
   "execution_count": null,
   "outputs": [],
   "source": [
    "planner.big_grid_centre"
   ],
   "metadata": {
    "collapsed": false,
    "pycharm": {
     "name": "#%%\n"
    }
   }
  },
  {
   "cell_type": "code",
   "execution_count": null,
   "outputs": [],
   "source": [
    "fig, ax = plt.subplots(1,3,figsize=(12,30))\n",
    "ax[0].imshow(plt.imread(\"data/maps/map_complex_1cm.png\"))\n",
    "ax[0].title.set_text(\"Input map\")\n",
    "ax[1].imshow(map_.grid>0)\n",
    "ax[1].title.set_text(\"map._grid>0 (indicates passable)\")\n",
    "ax[2].imshow(map_.grid)\n",
    "ax[2].title.set_text(\"map._grid\")"
   ],
   "metadata": {
    "collapsed": false,
    "pycharm": {
     "name": "#%%\n"
    }
   }
  },
  {
   "cell_type": "markdown",
   "source": [
    "## Test planner manually"
   ],
   "metadata": {
    "collapsed": false,
    "pycharm": {
     "name": "#%% md\n"
    }
   }
  },
  {
   "cell_type": "code",
   "execution_count": 249,
   "outputs": [],
   "source": [
    "myplanner = MyPlanner(map_, waypoint_sparsity = 0.4, optimize_threshold=3)\n",
    "curr_loi = RealLocation(x=3.0, y=4.0)\n",
    "pose = RealPose(x=1.0, y=1.0, z=0.0)"
   ],
   "metadata": {
    "collapsed": false,
    "pycharm": {
     "name": "#%%\n"
    }
   }
  },
  {
   "cell_type": "code",
   "execution_count": 250,
   "outputs": [
    {
     "name": "stdout",
     "output_type": "stream",
     "text": [
      "original start (20, 20)\n",
      "original goal (80, 60)\n",
      "start (15, 18)\n",
      "goal (80, 60)\n"
     ]
    },
    {
     "data": {
      "text/plain": "<Figure size 432x288 with 1 Axes>",
      "image/png": "[encoded data removed]"
     },
     "metadata": {
      "needs_background": "light"
     },
     "output_type": "display_data"
    },
    {
     "name": "stdout",
     "output_type": "stream",
     "text": [
      "0.08207464218139648\n"
     ]
    }
   ],
   "source": [
    "import time\n",
    "start = time.time()\n",
    "path = None #Needed or path will be taken as a local variable in try\n",
    "path = myplanner.plan(pose[:2], curr_loi)\n",
    "end = time.time()\n",
    "print(end - start)"
   ],
   "metadata": {
    "collapsed": false,
    "pycharm": {
     "name": "#%%\n"
    }
   }
  },
  {
   "cell_type": "code",
   "execution_count": 70,
   "outputs": [
    {
     "data": {
      "text/plain": "<matplotlib.image.AxesImage at 0x26314475250>"
     },
     "execution_count": 70,
     "metadata": {},
     "output_type": "execute_result"
    },
    {
     "data": {
      "text/plain": "<Figure size 432x288 with 1 Axes>",
      "image/png": "[encoded data removed]"
     },
     "metadata": {
      "needs_background": "light"
     },
     "output_type": "display_data"
    }
   ],
   "source": [
    "map = planner.map.grid.astype(np.float32)\n",
    "map[map>0] = np.inf\n",
    "map[map<=0] = 1\n",
    "path_astar = pyastar2d.astar_path(map, tuple(real_to_grid(RealLocation(1, 1), scale=planner.map.scale)), tuple(real_to_grid(RealLocation(4, 3), scale=planner.map.scale)), allow_diagonal=True)\n",
    "plt.imshow(map)\n",
    "# path_astar.reverse()\n",
    "# path_astar = path_astar[:1] + path_astar[1:-1:20]+ path_astar[-1:] #Take the 1st, last, and every 20th waypoint in the middle\n",
    "# path_astar = [(x[1],x[0]) for x in path_astar]"
   ],
   "metadata": {
    "collapsed": false,
    "pycharm": {
     "name": "#%%\n"
    }
   }
  },
  {
   "cell_type": "code",
   "execution_count": 65,
   "outputs": [
    {
     "name": "stdout",
     "output_type": "stream",
     "text": [
      "original start (20, 80)\n",
      "original goal (90, 80)\n",
      "start (20, 80)\n",
      "goal (90, 80)\n"
     ]
    },
    {
     "data": {
      "text/plain": "<Figure size 432x288 with 1 Axes>",
      "image/png": "[encoded data removed]"
     },
     "metadata": {
      "needs_background": "light"
     },
     "output_type": "display_data"
    }
   ],
   "source": [
    "path = myplanner.plan(pose[:2], RealLocation(4.0,4.5), method=\"astar\")"
   ],
   "metadata": {
    "collapsed": false,
    "pycharm": {
     "name": "#%%\n"
    }
   }
  },
  {
   "cell_type": "code",
   "execution_count": 69,
   "outputs": [
    {
     "data": {
      "text/plain": "RealPose(x=4.0, y=1.0, z=0.0)"
     },
     "execution_count": 69,
     "metadata": {},
     "output_type": "execute_result"
    }
   ],
   "source": [
    "pose"
   ],
   "metadata": {
    "collapsed": false,
    "pycharm": {
     "name": "#%%\n"
    }
   }
  },
  {
   "cell_type": "code",
   "execution_count": 66,
   "outputs": [
    {
     "data": {
      "text/plain": "RealLocation(x=3.5, y=0.5)"
     },
     "execution_count": 66,
     "metadata": {},
     "output_type": "execute_result"
    }
   ],
   "source": [
    "myplanner.get_explore(pose[:2])"
   ],
   "metadata": {
    "collapsed": false,
    "pycharm": {
     "name": "#%%\n"
    }
   }
  },
  {
   "cell_type": "code",
   "execution_count": 67,
   "outputs": [
    {
     "data": {
      "text/plain": "<matplotlib.image.AxesImage at 0x263145041f0>"
     },
     "execution_count": 67,
     "metadata": {},
     "output_type": "execute_result"
    },
    {
     "data": {
      "text/plain": "<Figure size 432x288 with 1 Axes>",
      "image/png": "[encoded data removed]"
     },
     "metadata": {
      "needs_background": "light"
     },
     "output_type": "display_data"
    }
   ],
   "source": [
    "plt.imshow(myplanner.big_grid)"
   ],
   "metadata": {
    "collapsed": false,
    "pycharm": {
     "name": "#%%\n"
    }
   }
  },
  {
   "cell_type": "code",
   "execution_count": null,
   "id": "pacific-cleaners",
   "metadata": {},
   "outputs": [],
   "source": []
  },
  {
   "cell_type": "code",
   "execution_count": null,
   "id": "western-reason",
   "metadata": {},
   "outputs": [],
   "source": [
    "big_grid_of(RealLocation(3.8,0.31))"
   ]
  },
  {
   "cell_type": "code",
   "execution_count": null,
   "id": "tribal-score",
   "metadata": {},
   "outputs": [],
   "source": []
  },
  {
   "cell_type": "code",
   "execution_count": null,
   "id": "unnecessary-journalist",
   "metadata": {},
   "outputs": [],
   "source": []
  }
 ],
 "metadata": {
  "kernelspec": {
   "display_name": "Python 3",
   "language": "python",
   "name": "python3"
  },
  "language_info": {
   "codemirror_mode": {
    "name": "ipython",
    "version": 3
   },
   "file_extension": ".py",
   "mimetype": "text/x-python",
   "name": "python",
   "nbconvert_exporter": "python",
   "pygments_lexer": "ipython3",
   "version": "3.8.8"
  }
 },
 "nbformat": 4,
 "nbformat_minor": 5
}