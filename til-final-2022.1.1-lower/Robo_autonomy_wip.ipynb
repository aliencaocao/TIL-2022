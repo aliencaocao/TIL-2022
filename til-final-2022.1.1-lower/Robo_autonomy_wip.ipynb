{
 "cells": [
  {
   "cell_type": "code",
   "execution_count": 1,
   "id": "alleged-edgar",
   "metadata": {},
   "outputs": [],
   "source": [
    "from queue import PriorityQueue\n",
    "from typing import List, Tuple, TypeVar, Dict\n",
    "\n",
    "import numpy as np\n",
    "from tilsdk.localization import *\n",
    "import heapq\n",
    "\n",
    "T = TypeVar('T')\n",
    "\n",
    "def visualise_path(path, map):\n",
    "    pathmap = map.grid.copy()\n",
    "    pathmap = pathmap > 0\n",
    "    pathmap = pathmap.astype(\"int32\")\n",
    "    gridpath = [map_.real_to_grid(x) if type(x) == RealLocation else x for x in path]\n",
    "    gridpathx = [x[0] for x in gridpath]\n",
    "    gridpathy = [x[1] for x in gridpath]\n",
    "    plt.imshow(pathmap)\n",
    "    plt.scatter(gridpathx,gridpathy,c='r')\n",
    "    plt.title(\"visualise grid and path\")\n",
    "    plt.show()\n",
    "\n",
    "def transform_add_border(og_grid):\n",
    "    grid = og_grid.copy()\n",
    "    a,b = grid.shape\n",
    "    for i in range(a):\n",
    "        for j in range(b):\n",
    "            grid[i][j] = min(grid[i][j],i+1,a-i,j+1,b-j)\n",
    "    return grid\n",
    "\n",
    "def transform_for_astar(grid):\n",
    "    #!-- Possible to edit this transform if u want\n",
    "    grid2 = grid.copy()\n",
    "    grid2[grid2>0] = 1 + 1000/(grid2[grid2>0])\n",
    "    grid2[grid2<=0] = np.inf\n",
    "    return grid2.astype(\"float32\")\n",
    "\n",
    "class NoPathFoundException(Exception):\n",
    "    pass\n",
    "\n",
    "\n",
    "class PriorityQueue:\n",
    "    def __init__(self):\n",
    "        self.elements: List[Tuple[float, T]] = []\n",
    "\n",
    "    def is_empty(self) -> bool:\n",
    "        return not self.elements\n",
    "\n",
    "    def put(self, item: T, priority: float):\n",
    "        heapq.heappush(self.elements, (priority, item))\n",
    "\n",
    "    def get(self) -> T:\n",
    "        return heapq.heappop(self.elements)[1]\n",
    "\n",
    "\n",
    "class MyPlanner:\n",
    "    def __init__(self, map_:SignedDistanceGrid=None, sdf_weight:float=0.0, waypoint_sparsity=0.5):\n",
    "        '''\n",
    "        Parameters\n",
    "        ----------\n",
    "        map : SignedDistanceGrid\n",
    "            Distance grid map\n",
    "        sdf_weight: float\n",
    "            Relative weight of distance in cost function.\n",
    "        waypoint_sparsity: float\n",
    "            0.5 results in every 50th waypoint being taken at scale=0.01 and 10th at scale=0.05\n",
    "        '''\n",
    "        self.map = map_\n",
    "        self.bgrid = transform_add_border(map_.grid.copy()) #Grid which takes the borders into account\n",
    "        self.astar_grid = transform_for_astar(self.bgrid.copy())\n",
    "        self.sdf_weight = sdf_weight\n",
    "        self.waypoint_sparsity = waypoint_sparsity\n",
    "        self.big_grid = [[0 for j in range(7)] for i in range(5)] #Big_grid stores whether each 1*1m tile of the arena has been visited\n",
    "        self.big_grid_centre = [[0 for j in range(7)] for i in range(5)]\n",
    "        for i in range(5):\n",
    "            for j in range(7):\n",
    "                self.big_grid_centre[i][j]=RealLocation(j+0.5,i+0.5)\n",
    "    \n",
    "    @staticmethod\n",
    "    def big_grid_of(l:RealLocation): #Returns the big grid array indices of a real location\n",
    "        return int(l[0]//1),int(l[1]//1)\n",
    "    \n",
    "    def visit(self, l: RealLocation):\n",
    "        indices = self.big_grid_of(l)\n",
    "        self.big_grid[indices[0]][indices[1]] = max(1,self.big_grid[indices[0]][indices[1]])\n",
    "        \n",
    "    def get_explore(self, l:RealLocation): #Call this to get a location to go to if there are no locations of interest left\n",
    "        m=100\n",
    "        for i in range(5):\n",
    "            for j in range(7):\n",
    "                m=min(m,self.big_grid[i][j])\n",
    "        if m == 1: #Can comment out this part if u want the robot to vroom around infinitely\n",
    "            return None\n",
    "        closest = (1e18,(-1,-1))\n",
    "        for i in range(5):\n",
    "            for j in range(7):\n",
    "                if self.big_grid[i][j] == m:\n",
    "                    closest = min(closest, (self.heuristic(self.big_grid_centre[i][j],l),(i,j)))\n",
    "        self.big_grid[closest[1][0]][closest[1][1]] += 1\n",
    "        return self.big_grid_centre[closest[1][0]][closest[1][1]]\n",
    "\n",
    "    def update_map(self, map:SignedDistanceGrid):\n",
    "        '''Update planner with new map.'''\n",
    "        self.map = map\n",
    "\n",
    "    def heuristic(self, a:GridLocation, b:GridLocation) -> float:\n",
    "        '''Planning heuristic function.        \n",
    "        Parameters\n",
    "        ----------\n",
    "        a: GridLocation\n",
    "            Starting location.\n",
    "        b: GridLocation\n",
    "            Goal location.\n",
    "        '''\n",
    "        return euclidean_distance(a, b)\n",
    "    \n",
    "    def nearest_clear(self, loc, passable):\n",
    "        '''Utility function to find the nearest clear cell to a blocked cell'''\n",
    "        if not passable[loc]:\n",
    "            best = (1e18,(-1,-1))\n",
    "            for i in range(map_.height): #y\n",
    "                for j in range(map_.width): #x\n",
    "                    if map_.grid[(i,j)]>0:\n",
    "                        best = min(best,(self.heuristic(GridLocation(i,j),loc),(i,j)))\n",
    "            loc = best[1]\n",
    "        return loc\n",
    "\n",
    "    def plan(self, start:RealLocation, goal:RealLocation, method=\"astar\") -> List[RealLocation]:\n",
    "        '''Plan in real coordinates.\n",
    "        \n",
    "        Raises NoPathFileException path is not found.\n",
    "\n",
    "        Parameters\n",
    "        ----------\n",
    "        start: RealLocation\n",
    "            Starting location.\n",
    "        goal: RealLocation\n",
    "            Goal location.\n",
    "        \n",
    "        Returns\n",
    "        -------\n",
    "        path\n",
    "            List of RealLocation from start to goal.\n",
    "        '''\n",
    "\n",
    "        path = self.plan_grid(self.map.real_to_grid(start), self.map.real_to_grid(goal), method=method)\n",
    "        if type(path) == type(None):\n",
    "            return path\n",
    "        visualise_path(path, self.map)\n",
    "        path = [self.map.grid_to_real(wp) for wp in path]\n",
    "        \n",
    "        return path\n",
    "\n",
    "    def plan_grid(self, start:GridLocation, goal:GridLocation, method=\"astar\") -> List[GridLocation]:\n",
    "        '''Plan in grid coordinates.\n",
    "        \n",
    "        Raises NoPathFileException path is not found.\n",
    "\n",
    "        Parameters\n",
    "        ----------\n",
    "        start: GridLocation\n",
    "            Starting location.\n",
    "        goal: GridLocation\n",
    "            Goal location.\n",
    "        method: string\n",
    "            Either \"astar\" or \"dijkstra\"/\"bfs\" \n",
    "        \n",
    "        Returns\n",
    "        -------\n",
    "        path\n",
    "            List of GridLocation from start to goal.\n",
    "        '''\n",
    "        \n",
    "        if not self.map:\n",
    "            raise RuntimeError('Planner map is not initialized.')\n",
    "        \n",
    "        start = start[1],start[0]\n",
    "        goal = goal[1],goal[0] #Use i=x,j=y convention for convenience\n",
    "        passable = self.map.grid>0\n",
    "\n",
    "        print(\"original start\",start)\n",
    "        print(\"original goal\",goal)\n",
    "        start = self.nearest_clear(start, passable)\n",
    "        goal = self.nearest_clear(goal, passable)\n",
    "        print(\"start\",start)\n",
    "        print(\"goal\",goal)\n",
    "\n",
    "        \n",
    "        \n",
    "        #astar\n",
    "        if method == \"astar\":\n",
    "            path = pyastar2d.astar_path(self.astar_grid, start, goal, allow_diagonal=False)\n",
    "            if type(path) == type(None):\n",
    "                return None\n",
    "            coeff = int(self.waypoint_sparsity/self.map.scale) # default sparsity 0.5 --> 50 for 0.01, 10 for 0.05\n",
    "            path = list(path)\n",
    "            path = path[:1] + path[:-1:coeff]+ path[-1:] #Take the 1st, last, and every 20th waypoint in the middle\n",
    "            path.append(path[-1]) #Duplicate last waypoint to avoid bug in main loop\n",
    "            path = [(x[1],x[0]) for x in path]\n",
    "            return path\n",
    "\n",
    "        \n",
    "        #Dijkstra's Algorithm/bfs (old method)----------------------------------------------------\n",
    "        elif method == \"dijkstra\" or method == \"bfs\":\n",
    "            pq = PriorityQueue() # ((Prev_waypoint,cur_moving_direction), priority)\n",
    "            #Directions = 0 U, 1 R, 2 D, 3 L; -1 start (no irection); 4-7 diagonals\n",
    "            dx = [0,1,0,-1,1,1,-1,-1]\n",
    "            dy = [1,0,-1,0,1,-1,1,-1]\n",
    "            dist = [10,10,10,10,14.142,14.142,14.142,14.142]\n",
    "\n",
    "            pq.put(start, 0)\n",
    "\n",
    "            prev_waypoint: Dict[tuple(int,int), tuple(int,int) ] = {}\n",
    "            cost_so_far: Dict[tuple(int,int), float] = {}\n",
    "            prev_waypoint[tuple(start)] = None\n",
    "            cost_so_far[tuple(start)] = 0\n",
    "            vis = np.zeros(map_.grid.shape)\n",
    "            done = False\n",
    "            #plt.imshow(passable)\n",
    "\n",
    "\n",
    "\n",
    "            while not done and not pq.is_empty():\n",
    "                location = pq.get()\n",
    "                if vis[location]:\n",
    "                    continue\n",
    "                vis [location] = 1\n",
    "\n",
    "                cost = cost_so_far[location]\n",
    "                prev = prev_waypoint[location]\n",
    "\n",
    "                for i in range(8):\n",
    "                    cur = (location[0]+dx[i],location[1]+dy[i])\n",
    "                    if (0<=cur[0]<self.map.height) and (0<=cur[1]<self.map.width) and (passable[cur]):\n",
    "                        if (cur not in cost_so_far) or (cost + dist[i] < cost_so_far[cur]):\n",
    "                            cost_so_far[cur] = cost + dist[i]\n",
    "                            prev_waypoint[cur] = location\n",
    "                            pq.put(cur, cost+dist[i])\n",
    "                            done += (cur==goal)\n",
    "            plt.imshow(vis)\n",
    "            plt.title(\"Visited tiles in bfs\")\n",
    "            plt.show()\n",
    "        #End Dijkstra/BFS-----------------------------------------------------------------\n",
    "        \n",
    "        \n",
    "        \n",
    "        if goal not in prev_waypoint:\n",
    "            return None\n",
    "            #raise NoPathFoundException        \n",
    "            \n",
    "        return self.reconstruct_path(prev_waypoint, start, goal)\n",
    "\n",
    "    def reconstruct_path(self,\n",
    "                         came_from:Dict[GridLocation, GridLocation],\n",
    "                         start:GridLocation, goal:GridLocation) -> List[GridLocation]:\n",
    "        '''Traces traversed locations to reconstruct path.\n",
    "        \n",
    "        Parameters\n",
    "        ----------\n",
    "        came_from: dict\n",
    "            Dictionary mapping location to location the planner came from.\n",
    "        start: GridLocation\n",
    "            Start location for path.\n",
    "        goal: GridLocation\n",
    "            Goal location for path.\n",
    "\n",
    "        Returns\n",
    "        -------\n",
    "        path\n",
    "            List of GridLocation from start to goal.\n",
    "        '''\n",
    "        current: GridLocation = goal\n",
    "        path: List[GridLocation] = [goal]\n",
    "        \n",
    "        \n",
    "        while current != start:\n",
    "            path.append(current)\n",
    "            current = came_from[current]\n",
    "            \n",
    "        # path.append(start)\n",
    "        path.reverse()\n",
    "        coeff = int(self.waypoint_sparsity/self.map.scale) # default sparsity 0.5 --> 50 for 0.01, 10 for 0.05\n",
    "        path = path[:-1:coeff]+ path[-1:] #Take the 1st, last, and every 20th waypoint in the middle\n",
    "        path = [(x[1],x[0]) for x in path]\n",
    "        #print(path)\n",
    "        \n",
    "        return path"
   ]
  },
  {
   "cell_type": "code",
   "execution_count": 2,
   "id": "composite-partnership",
   "metadata": {
    "pycharm": {
     "name": "#%%\n"
    },
    "scrolled": true
   },
   "outputs": [
    {
     "name": "stderr",
     "output_type": "stream",
     "text": [
      "c:\\users\\qirui\\appdata\\local\\programs\\python\\python38\\lib\\site-packages\\paramiko\\transport.py:219: CryptographyDeprecationWarning: Blowfish has been deprecated\n",
      "  \"class\": algorithms.Blowfish,\n"
     ]
    }
   ],
   "source": [
    "import logging\n",
    "from typing import List\n",
    "\n",
    "from tilsdk import *                                            # import the SDK\n",
    "from tilsdk.utilities import PIDController, SimpleMovingAverage # import optional useful things\n",
    "from tilsdk.mock_robomaster.robot import Robot                  # Use this for the simulator\n",
    "# from robomaster.robot import Robot                             # Use this for real robot\n",
    "\n",
    "# Import your code\n",
    "from stubs.cv_service import CVService, MockCVService\n",
    "from stubs.nlp_service import NLPService, MockNLPService\n",
    "from stubs.planner import Planner\n",
    "import pyastar2d\n",
    "import copy"
   ]
  },
  {
   "cell_type": "code",
   "execution_count": 3,
   "id": "floating-pilot",
   "metadata": {
    "pycharm": {
     "name": "#%%\n"
    }
   },
   "outputs": [],
   "source": [
    "# Setup logging in a nice readable format\n",
    "logging.basicConfig(level=logging.INFO,\n",
    "                format='[%(levelname)5s][%(asctime)s][%(name)s]: %(message)s',\n",
    "                datefmt='%H:%M:%S')\n",
    "\n",
    "# Define config variables in an easily accessible location\n",
    "# You may consider using a config file\n",
    "REACHED_THRESHOLD_M = 0.3   # TODO: Participant may tune.\n",
    "ANGLE_THRESHOLD_DEG = 20.0  # TODO: Participant may tune.\n",
    "ROBOT_RADIUS_M = 0.17       # TODO: Participant may tune.\n",
    "NLP_MODEL_DIR = '../model.onnx'          # TODO: Participant to fill in.\n",
    "NLP_PREPROCESSOR_DIR = '../finals_audio_model/'          # TODO: Participant to fill in.\n",
    "CV_MODEL_DIR = ''           # TODO: Participant to fill in.\n",
    "\n",
    "# Convenience function to update locations of interest.\n",
    "def update_locations(old:List[RealLocation], new:List[RealLocation]) -> None:\n",
    "    '''Update locations with no duplicates.'''\n",
    "    if new:\n",
    "        for loc in new:\n",
    "            if loc not in old:\n",
    "                logging.getLogger('update_locations').info('New location of interest: {}'.format(loc))\n",
    "                old.append(loc)"
   ]
  },
  {
   "cell_type": "code",
   "execution_count": 4,
   "id": "smart-subject",
   "metadata": {
    "pycharm": {
     "name": "#%%\n"
    }
   },
   "outputs": [],
   "source": [
    "# Initialize services\n",
    "# cv_service = CVService(model_dir=CV_MODEL_DIR)\n",
    "\n",
    "cv_service = MockCVService(model_dir=CV_MODEL_DIR)\n",
    "\n",
    "#nlp_service = NLPService(model_dir=NLP_MODEL_DIR, preprocessor_dir=NLP_PREPROCESSOR_DIR)\n",
    "nlp_service = MockNLPService(model_dir=NLP_MODEL_DIR)\n",
    "\n",
    "loc_service = LocalizationService(host='localhost', port=5566)\n",
    "\n",
    "#rep_service = ReportingService(host='localhost', port=5501)\n",
    "# Start the run\n",
    "#rep_service.start_run()\n",
    "\n",
    "robot = Robot()\n",
    "robot.initialize(conn_type=\"sta\")\n",
    "robot.camera.start_video_stream(display=False, resolution='720p')"
   ]
  },
  {
   "cell_type": "code",
   "execution_count": 5,
   "id": "behind-spanking",
   "metadata": {
    "pycharm": {
     "name": "#%%\n"
    }
   },
   "outputs": [],
   "source": [
    "# Initialize planner\n",
    "map_:SignedDistanceGrid = loc_service.get_map()\n",
    "map_ = map_.dilated(1.5*ROBOT_RADIUS_M/map_.scale)\n",
    "planner = MyPlanner(map_, sdf_weight=0.5)\n",
    "\n",
    "# Initialize variables\n",
    "seen_clues = set()\n",
    "curr_loi:RealLocation = None\n",
    "path:List[RealLocation] = []\n",
    "lois:List[RealLocation] = []\n",
    "curr_wp:RealLocation = None\n",
    "\n",
    "# Initialize tracker\n",
    "# TODO: Participant to tune PID controller values.\n",
    "tracker = PIDController(Kp=(1.0, 45.0), Kd=(0.0, 0.0), Ki=(0.0, 0.0)) #first: displacement, second: angle\n",
    "\n",
    "# Initialize pose filter\n",
    "pose_filter = SimpleMovingAverage(n=5)\n",
    "\n",
    "# Define filter function to exclude clues seen before   \n",
    "new_clues = lambda c: c.clue_id not in seen_clues"
   ]
  },
  {
   "cell_type": "code",
   "execution_count": 6,
   "id": "likely-species",
   "metadata": {
    "pycharm": {
     "name": "#%%\n"
    }
   },
   "outputs": [],
   "source": [
    "#Tune here\n",
    "tracker = PIDController(Kp=(0.4, 0.2), Kd=(0.4, 0.2), Ki=(0.0, 0.0)) #first: displacement, second: angle"
   ]
  },
  {
   "cell_type": "code",
   "execution_count": 7,
   "id": "touched-looking",
   "metadata": {
    "pycharm": {
     "name": "#%%\n"
    },
    "scrolled": true
   },
   "outputs": [
    {
     "name": "stderr",
     "output_type": "stream",
     "text": [
      "[ INFO][01:30:04][update_locations]: New location of interest: RealLocation(x=4.0, y=4.0)\n",
      "[ INFO][01:30:04][Main]: Current LOI set to: RealLocation(x=4.0, y=4.0)\n",
      "[ INFO][01:30:04][Main]: Planning path to: RealLocation(x=4.0, y=4.0)\n",
      "[ INFO][01:30:04][Main]: No possible path found, location skipped\n",
      "[ INFO][01:30:04][Main]: No more locations of interest.\n"
     ]
    },
    {
     "name": "stdout",
     "output_type": "stream",
     "text": [
      "original start (20, 10)\n",
      "original goal (80, 80)\n",
      "start (20, 10)\n",
      "goal (80, 80)\n"
     ]
    },
    {
     "data": {
      "image/png": "[encoded data removed]",
      "text/plain": [
       "<Figure size 432x288 with 1 Axes>"
      ]
     },
     "metadata": {
      "needs_background": "light"
     },
     "output_type": "display_data"
    },
    {
     "name": "stderr",
     "output_type": "stream",
     "text": [
      "[ INFO][01:30:04][Main]: Current LOI set to: RealLocation(x=0.5, y=1.5)\n",
      "[ INFO][01:30:04][Main]: Planning path to: RealLocation(x=0.5, y=1.5)\n"
     ]
    },
    {
     "name": "stdout",
     "output_type": "stream",
     "text": [
      "original start (20, 11)\n",
      "original goal (30, 10)\n",
      "start (20, 11)\n",
      "goal (30, 10)\n"
     ]
    },
    {
     "data": {
      "image/png": "[encoded data removed]",
      "text/plain": [
       "<Figure size 432x288 with 1 Axes>"
      ]
     },
     "metadata": {
      "needs_background": "light"
     },
     "output_type": "display_data"
    },
    {
     "name": "stderr",
     "output_type": "stream",
     "text": [
      "[ INFO][01:30:04][Main]: Path planned.\n",
      "[ INFO][01:30:04][Navigation]: New waypoint: RealLocation(x=0.55, y=1.0)\n",
      "[ INFO][01:30:04][Navigation]: Reached wp: RealLocation(x=0.55, y=1.0)\n",
      "[ INFO][01:30:04][Navigation]: New waypoint: RealLocation(x=0.55, y=1.0)\n",
      "[ INFO][01:30:04][Navigation]: Reached wp: RealLocation(x=0.55, y=1.0)\n",
      "[ INFO][01:30:04][Navigation]: New waypoint: RealLocation(x=0.55, y=1.5)\n",
      "[ INFO][01:30:15][Navigation]: Reached wp: RealLocation(x=0.55, y=1.5)\n",
      "[ INFO][01:30:15][Navigation]: New waypoint: RealLocation(x=0.5, y=1.5)\n",
      "[ INFO][01:30:15][Navigation]: Reached wp: RealLocation(x=0.5, y=1.5)\n",
      "[ INFO][01:30:15][Navigation]: New waypoint: RealLocation(x=0.5, y=1.5)\n",
      "[ INFO][01:30:15][Navigation]: Reached wp: RealLocation(x=0.5, y=1.5)\n",
      "[ INFO][01:30:15][Navigation]: End of path.\n",
      "[ INFO][01:30:15][Main]: No more locations of interest.\n"
     ]
    },
    {
     "data": {
      "image/png": "[encoded data removed]",
      "text/plain": [
       "<Figure size 432x288 with 1 Axes>"
      ]
     },
     "metadata": {
      "needs_background": "light"
     },
     "output_type": "display_data"
    },
    {
     "name": "stderr",
     "output_type": "stream",
     "text": [
      "[ INFO][01:30:16][Main]: Current LOI set to: RealLocation(x=1.5, y=1.5)\n",
      "[ INFO][01:30:16][Main]: Planning path to: RealLocation(x=1.5, y=1.5)\n"
     ]
    },
    {
     "name": "stdout",
     "output_type": "stream",
     "text": [
      "original start (26, 11)\n",
      "original goal (30, 30)\n",
      "start (26, 11)\n",
      "goal (30, 30)\n"
     ]
    },
    {
     "data": {
      "image/png": "[encoded data removed]",
      "text/plain": [
       "<Figure size 432x288 with 1 Axes>"
      ]
     },
     "metadata": {
      "needs_background": "light"
     },
     "output_type": "display_data"
    },
    {
     "name": "stderr",
     "output_type": "stream",
     "text": [
      "[ INFO][01:30:16][Main]: Path planned.\n",
      "[ INFO][01:30:16][Navigation]: New waypoint: RealLocation(x=0.55, y=1.3)\n",
      "[ INFO][01:30:16][Navigation]: Reached wp: RealLocation(x=0.55, y=1.3)\n",
      "[ INFO][01:30:16][Navigation]: New waypoint: RealLocation(x=0.55, y=1.3)\n",
      "[ INFO][01:30:16][Navigation]: Reached wp: RealLocation(x=0.55, y=1.3)\n",
      "[ INFO][01:30:16][Navigation]: New waypoint: RealLocation(x=0.55, y=0.8)\n",
      "[ INFO][01:30:30][Navigation]: Reached wp: RealLocation(x=0.55, y=0.8)\n",
      "[ INFO][01:30:30][Navigation]: New waypoint: RealLocation(x=0.8, y=0.55)\n",
      "[ INFO][01:30:34][Navigation]: Reached wp: RealLocation(x=0.8, y=0.55)\n",
      "[ INFO][01:30:34][Navigation]: New waypoint: RealLocation(x=1.3, y=0.55)\n",
      "[ INFO][01:30:48][Navigation]: Reached wp: RealLocation(x=1.3, y=0.55)\n",
      "[ INFO][01:30:48][Navigation]: New waypoint: RealLocation(x=1.8, y=0.55)\n",
      "[ INFO][01:30:52][Navigation]: Reached wp: RealLocation(x=1.8, y=0.55)\n",
      "[ INFO][01:30:52][Navigation]: New waypoint: RealLocation(x=2.3000000000000003, y=0.55)\n",
      "[ INFO][01:30:55][Navigation]: Reached wp: RealLocation(x=2.3000000000000003, y=0.55)\n",
      "[ INFO][01:30:55][Navigation]: New waypoint: RealLocation(x=2.6500000000000004, y=0.7000000000000001)\n",
      "[ INFO][01:30:59][Navigation]: Reached wp: RealLocation(x=2.6500000000000004, y=0.7000000000000001)\n",
      "[ INFO][01:31:00][Navigation]: New waypoint: RealLocation(x=2.6500000000000004, y=1.2000000000000002)\n",
      "[ INFO][01:31:08][update_locations]: New location of interest: RealLocation(x=1.0, y=2.5)\n",
      "[ INFO][01:31:08][Navigation]: Reached wp: RealLocation(x=2.6500000000000004, y=1.2000000000000002)\n",
      "[ INFO][01:31:08][Navigation]: New waypoint: RealLocation(x=2.45, y=1.5)\n",
      "[ INFO][01:31:16][Navigation]: Reached wp: RealLocation(x=2.45, y=1.5)\n",
      "[ INFO][01:31:17][Navigation]: New waypoint: RealLocation(x=1.9500000000000002, y=1.5)\n",
      "[ INFO][01:31:27][Navigation]: Reached wp: RealLocation(x=1.9500000000000002, y=1.5)\n",
      "[ INFO][01:31:27][Navigation]: New waypoint: RealLocation(x=1.5, y=1.5)\n",
      "[ INFO][01:31:59][Navigation]: Reached wp: RealLocation(x=1.5, y=1.5)\n",
      "[ INFO][01:31:59][Navigation]: New waypoint: RealLocation(x=1.5, y=1.5)\n",
      "[ INFO][01:31:59][Navigation]: Reached wp: RealLocation(x=1.5, y=1.5)\n",
      "[ INFO][01:31:59][Navigation]: End of path.\n",
      "[ INFO][01:31:59][Main]: Current LOI set to: RealLocation(x=1.0, y=2.5)\n",
      "[ INFO][01:31:59][Main]: Planning path to: RealLocation(x=1.0, y=2.5)\n"
     ]
    },
    {
     "name": "stdout",
     "output_type": "stream",
     "text": [
      "original start (31, 36)\n",
      "original goal (50, 20)\n",
      "start (31, 36)\n",
      "goal (50, 20)\n"
     ]
    },
    {
     "data": {
      "image/png": "[encoded data removed]",
      "text/plain": [
       "<Figure size 432x288 with 1 Axes>"
      ]
     },
     "metadata": {
      "needs_background": "light"
     },
     "output_type": "display_data"
    },
    {
     "name": "stderr",
     "output_type": "stream",
     "text": [
      "[ INFO][01:31:59][Main]: Path planned.\n",
      "[ INFO][01:32:00][Navigation]: New waypoint: RealLocation(x=1.8, y=1.55)\n",
      "[ INFO][01:32:00][Navigation]: Reached wp: RealLocation(x=1.8, y=1.55)\n",
      "[ INFO][01:32:00][Navigation]: New waypoint: RealLocation(x=1.8, y=1.55)\n",
      "[ INFO][01:32:00][Navigation]: Reached wp: RealLocation(x=1.8, y=1.55)\n",
      "[ INFO][01:32:00][Navigation]: New waypoint: RealLocation(x=1.5, y=1.75)\n",
      "[ INFO][01:32:14][Navigation]: Reached wp: RealLocation(x=1.5, y=1.75)\n",
      "[ INFO][01:32:14][Navigation]: New waypoint: RealLocation(x=1.5, y=2.25)\n",
      "[ INFO][01:32:36][Navigation]: Reached wp: RealLocation(x=1.5, y=2.25)\n",
      "[ INFO][01:32:36][Navigation]: New waypoint: RealLocation(x=1.2000000000000002, y=2.45)\n",
      "[ INFO][01:32:40][Navigation]: Reached wp: RealLocation(x=1.2000000000000002, y=2.45)\n",
      "[ INFO][01:32:40][Navigation]: New waypoint: RealLocation(x=1.0, y=2.5)\n",
      "[ INFO][01:32:45][Navigation]: Reached wp: RealLocation(x=1.0, y=2.5)\n",
      "[ INFO][01:32:45][Navigation]: New waypoint: RealLocation(x=1.0, y=2.5)\n",
      "[ INFO][01:32:45][Navigation]: Reached wp: RealLocation(x=1.0, y=2.5)\n",
      "[ INFO][01:32:46][Navigation]: End of path.\n",
      "[ INFO][01:32:46][Main]: No more locations of interest.\n"
     ]
    },
    {
     "data": {
      "image/png": "[encoded data removed]",
      "text/plain": [
       "<Figure size 432x288 with 1 Axes>"
      ]
     },
     "metadata": {
      "needs_background": "light"
     },
     "output_type": "display_data"
    },
    {
     "name": "stderr",
     "output_type": "stream",
     "text": [
      "[ INFO][01:32:46][Main]: Current LOI set to: RealLocation(x=1.5, y=3.5)\n",
      "[ INFO][01:32:46][Main]: Planning path to: RealLocation(x=1.5, y=3.5)\n"
     ]
    },
    {
     "name": "stdout",
     "output_type": "stream",
     "text": [
      "original start (48, 25)\n",
      "original goal (70, 30)\n",
      "start (48, 25)\n",
      "goal (70, 30)\n"
     ]
    },
    {
     "data": {
      "image/png": "[encoded data removed]",
      "text/plain": [
       "<Figure size 432x288 with 1 Axes>"
      ]
     },
     "metadata": {
      "needs_background": "light"
     },
     "output_type": "display_data"
    },
    {
     "name": "stderr",
     "output_type": "stream",
     "text": [
      "[ INFO][01:32:46][Main]: Path planned.\n",
      "[ INFO][01:32:46][Navigation]: New waypoint: RealLocation(x=1.25, y=2.4000000000000004)\n",
      "[ INFO][01:32:46][Navigation]: Reached wp: RealLocation(x=1.25, y=2.4000000000000004)\n",
      "[ INFO][01:32:47][Navigation]: New waypoint: RealLocation(x=1.25, y=2.4000000000000004)\n",
      "[ INFO][01:32:47][Navigation]: Reached wp: RealLocation(x=1.25, y=2.4000000000000004)\n",
      "[ INFO][01:32:47][Navigation]: New waypoint: RealLocation(x=1.5, y=2.15)\n"
     ]
    },
    {
     "ename": "KeyboardInterrupt",
     "evalue": "",
     "output_type": "error",
     "traceback": [
      "\u001b[1;31m---------------------------------------------------------------------------\u001b[0m",
      "\u001b[1;31mKeyboardInterrupt\u001b[0m                         Traceback (most recent call last)",
      "\u001b[1;32m<ipython-input-7-a95980b0325e>\u001b[0m in \u001b[0;36m<module>\u001b[1;34m\u001b[0m\n\u001b[0;32m      2\u001b[0m \u001b[1;32mwhile\u001b[0m \u001b[1;32mTrue\u001b[0m\u001b[1;33m:\u001b[0m\u001b[1;33m\u001b[0m\u001b[1;33m\u001b[0m\u001b[0m\n\u001b[0;32m      3\u001b[0m     \u001b[1;31m# Get new data\u001b[0m\u001b[1;33m\u001b[0m\u001b[1;33m\u001b[0m\u001b[1;33m\u001b[0m\u001b[0m\n\u001b[1;32m----> 4\u001b[1;33m     \u001b[0mpose\u001b[0m\u001b[1;33m,\u001b[0m \u001b[0mclues\u001b[0m \u001b[1;33m=\u001b[0m \u001b[0mloc_service\u001b[0m\u001b[1;33m.\u001b[0m\u001b[0mget_pose\u001b[0m\u001b[1;33m(\u001b[0m\u001b[1;33m)\u001b[0m\u001b[1;33m\u001b[0m\u001b[1;33m\u001b[0m\u001b[0m\n\u001b[0m\u001b[0;32m      5\u001b[0m     \u001b[0mpose\u001b[0m \u001b[1;33m=\u001b[0m \u001b[0mpose_filter\u001b[0m\u001b[1;33m.\u001b[0m\u001b[0mupdate\u001b[0m\u001b[1;33m(\u001b[0m\u001b[0mpose\u001b[0m\u001b[1;33m)\u001b[0m\u001b[1;33m\u001b[0m\u001b[1;33m\u001b[0m\u001b[0m\n\u001b[0;32m      6\u001b[0m     \u001b[0mimg\u001b[0m \u001b[1;33m=\u001b[0m \u001b[0mrobot\u001b[0m\u001b[1;33m.\u001b[0m\u001b[0mcamera\u001b[0m\u001b[1;33m.\u001b[0m\u001b[0mread_cv2_image\u001b[0m\u001b[1;33m(\u001b[0m\u001b[0mstrategy\u001b[0m\u001b[1;33m=\u001b[0m\u001b[1;34m'newest'\u001b[0m\u001b[1;33m)\u001b[0m\u001b[1;33m\u001b[0m\u001b[1;33m\u001b[0m\u001b[0m\n",
      "\u001b[1;32mc:\\users\\qirui\\appdata\\local\\programs\\python\\python38\\lib\\site-packages\\tilsdk\\localization\\service.py\u001b[0m in \u001b[0;36mget_pose\u001b[1;34m(self)\u001b[0m\n\u001b[0;32m     55\u001b[0m         '''\n\u001b[0;32m     56\u001b[0m \u001b[1;33m\u001b[0m\u001b[0m\n\u001b[1;32m---> 57\u001b[1;33m         response = self.manager.request(method='GET',\n\u001b[0m\u001b[0;32m     58\u001b[0m                                         url=self.url+'/pose')\n\u001b[0;32m     59\u001b[0m \u001b[1;33m\u001b[0m\u001b[0m\n",
      "\u001b[1;32mc:\\users\\qirui\\appdata\\local\\programs\\python\\python38\\lib\\site-packages\\urllib3\\request.py\u001b[0m in \u001b[0;36mrequest\u001b[1;34m(self, method, url, fields, headers, **urlopen_kw)\u001b[0m\n\u001b[0;32m     72\u001b[0m \u001b[1;33m\u001b[0m\u001b[0m\n\u001b[0;32m     73\u001b[0m         \u001b[1;32mif\u001b[0m \u001b[0mmethod\u001b[0m \u001b[1;32min\u001b[0m \u001b[0mself\u001b[0m\u001b[1;33m.\u001b[0m\u001b[0m_encode_url_methods\u001b[0m\u001b[1;33m:\u001b[0m\u001b[1;33m\u001b[0m\u001b[1;33m\u001b[0m\u001b[0m\n\u001b[1;32m---> 74\u001b[1;33m             return self.request_encode_url(\n\u001b[0m\u001b[0;32m     75\u001b[0m                 \u001b[0mmethod\u001b[0m\u001b[1;33m,\u001b[0m \u001b[0murl\u001b[0m\u001b[1;33m,\u001b[0m \u001b[0mfields\u001b[0m\u001b[1;33m=\u001b[0m\u001b[0mfields\u001b[0m\u001b[1;33m,\u001b[0m \u001b[0mheaders\u001b[0m\u001b[1;33m=\u001b[0m\u001b[0mheaders\u001b[0m\u001b[1;33m,\u001b[0m \u001b[1;33m**\u001b[0m\u001b[0murlopen_kw\u001b[0m\u001b[1;33m\u001b[0m\u001b[1;33m\u001b[0m\u001b[0m\n\u001b[0;32m     76\u001b[0m             )\n",
      "\u001b[1;32mc:\\users\\qirui\\appdata\\local\\programs\\python\\python38\\lib\\site-packages\\urllib3\\request.py\u001b[0m in \u001b[0;36mrequest_encode_url\u001b[1;34m(self, method, url, fields, headers, **urlopen_kw)\u001b[0m\n\u001b[0;32m     94\u001b[0m             \u001b[0murl\u001b[0m \u001b[1;33m+=\u001b[0m \u001b[1;34m\"?\"\u001b[0m \u001b[1;33m+\u001b[0m \u001b[0murlencode\u001b[0m\u001b[1;33m(\u001b[0m\u001b[0mfields\u001b[0m\u001b[1;33m)\u001b[0m\u001b[1;33m\u001b[0m\u001b[1;33m\u001b[0m\u001b[0m\n\u001b[0;32m     95\u001b[0m \u001b[1;33m\u001b[0m\u001b[0m\n\u001b[1;32m---> 96\u001b[1;33m         \u001b[1;32mreturn\u001b[0m \u001b[0mself\u001b[0m\u001b[1;33m.\u001b[0m\u001b[0murlopen\u001b[0m\u001b[1;33m(\u001b[0m\u001b[0mmethod\u001b[0m\u001b[1;33m,\u001b[0m \u001b[0murl\u001b[0m\u001b[1;33m,\u001b[0m \u001b[1;33m**\u001b[0m\u001b[0mextra_kw\u001b[0m\u001b[1;33m)\u001b[0m\u001b[1;33m\u001b[0m\u001b[1;33m\u001b[0m\u001b[0m\n\u001b[0m\u001b[0;32m     97\u001b[0m \u001b[1;33m\u001b[0m\u001b[0m\n\u001b[0;32m     98\u001b[0m     def request_encode_body(\n",
      "\u001b[1;32mc:\\users\\qirui\\appdata\\local\\programs\\python\\python38\\lib\\site-packages\\urllib3\\poolmanager.py\u001b[0m in \u001b[0;36murlopen\u001b[1;34m(self, method, url, redirect, **kw)\u001b[0m\n\u001b[0;32m    373\u001b[0m             \u001b[0mresponse\u001b[0m \u001b[1;33m=\u001b[0m \u001b[0mconn\u001b[0m\u001b[1;33m.\u001b[0m\u001b[0murlopen\u001b[0m\u001b[1;33m(\u001b[0m\u001b[0mmethod\u001b[0m\u001b[1;33m,\u001b[0m \u001b[0murl\u001b[0m\u001b[1;33m,\u001b[0m \u001b[1;33m**\u001b[0m\u001b[0mkw\u001b[0m\u001b[1;33m)\u001b[0m\u001b[1;33m\u001b[0m\u001b[1;33m\u001b[0m\u001b[0m\n\u001b[0;32m    374\u001b[0m         \u001b[1;32melse\u001b[0m\u001b[1;33m:\u001b[0m\u001b[1;33m\u001b[0m\u001b[1;33m\u001b[0m\u001b[0m\n\u001b[1;32m--> 375\u001b[1;33m             \u001b[0mresponse\u001b[0m \u001b[1;33m=\u001b[0m \u001b[0mconn\u001b[0m\u001b[1;33m.\u001b[0m\u001b[0murlopen\u001b[0m\u001b[1;33m(\u001b[0m\u001b[0mmethod\u001b[0m\u001b[1;33m,\u001b[0m \u001b[0mu\u001b[0m\u001b[1;33m.\u001b[0m\u001b[0mrequest_uri\u001b[0m\u001b[1;33m,\u001b[0m \u001b[1;33m**\u001b[0m\u001b[0mkw\u001b[0m\u001b[1;33m)\u001b[0m\u001b[1;33m\u001b[0m\u001b[1;33m\u001b[0m\u001b[0m\n\u001b[0m\u001b[0;32m    376\u001b[0m \u001b[1;33m\u001b[0m\u001b[0m\n\u001b[0;32m    377\u001b[0m         \u001b[0mredirect_location\u001b[0m \u001b[1;33m=\u001b[0m \u001b[0mredirect\u001b[0m \u001b[1;32mand\u001b[0m \u001b[0mresponse\u001b[0m\u001b[1;33m.\u001b[0m\u001b[0mget_redirect_location\u001b[0m\u001b[1;33m(\u001b[0m\u001b[1;33m)\u001b[0m\u001b[1;33m\u001b[0m\u001b[1;33m\u001b[0m\u001b[0m\n",
      "\u001b[1;32mc:\\users\\qirui\\appdata\\local\\programs\\python\\python38\\lib\\site-packages\\urllib3\\connectionpool.py\u001b[0m in \u001b[0;36murlopen\u001b[1;34m(self, method, url, body, headers, retries, redirect, assert_same_host, timeout, pool_timeout, release_conn, chunked, body_pos, **response_kw)\u001b[0m\n\u001b[0;32m    697\u001b[0m \u001b[1;33m\u001b[0m\u001b[0m\n\u001b[0;32m    698\u001b[0m             \u001b[1;31m# Make the request on the httplib connection object.\u001b[0m\u001b[1;33m\u001b[0m\u001b[1;33m\u001b[0m\u001b[1;33m\u001b[0m\u001b[0m\n\u001b[1;32m--> 699\u001b[1;33m             httplib_response = self._make_request(\n\u001b[0m\u001b[0;32m    700\u001b[0m                 \u001b[0mconn\u001b[0m\u001b[1;33m,\u001b[0m\u001b[1;33m\u001b[0m\u001b[1;33m\u001b[0m\u001b[0m\n\u001b[0;32m    701\u001b[0m                 \u001b[0mmethod\u001b[0m\u001b[1;33m,\u001b[0m\u001b[1;33m\u001b[0m\u001b[1;33m\u001b[0m\u001b[0m\n",
      "\u001b[1;32mc:\\users\\qirui\\appdata\\local\\programs\\python\\python38\\lib\\site-packages\\urllib3\\connectionpool.py\u001b[0m in \u001b[0;36m_make_request\u001b[1;34m(self, conn, method, url, timeout, chunked, **httplib_request_kw)\u001b[0m\n\u001b[0;32m    443\u001b[0m                     \u001b[1;31m# Python 3 (including for exceptions like SystemExit).\u001b[0m\u001b[1;33m\u001b[0m\u001b[1;33m\u001b[0m\u001b[1;33m\u001b[0m\u001b[0m\n\u001b[0;32m    444\u001b[0m                     \u001b[1;31m# Otherwise it looks like a bug in the code.\u001b[0m\u001b[1;33m\u001b[0m\u001b[1;33m\u001b[0m\u001b[1;33m\u001b[0m\u001b[0m\n\u001b[1;32m--> 445\u001b[1;33m                     \u001b[0msix\u001b[0m\u001b[1;33m.\u001b[0m\u001b[0mraise_from\u001b[0m\u001b[1;33m(\u001b[0m\u001b[0me\u001b[0m\u001b[1;33m,\u001b[0m \u001b[1;32mNone\u001b[0m\u001b[1;33m)\u001b[0m\u001b[1;33m\u001b[0m\u001b[1;33m\u001b[0m\u001b[0m\n\u001b[0m\u001b[0;32m    446\u001b[0m         \u001b[1;32mexcept\u001b[0m \u001b[1;33m(\u001b[0m\u001b[0mSocketTimeout\u001b[0m\u001b[1;33m,\u001b[0m \u001b[0mBaseSSLError\u001b[0m\u001b[1;33m,\u001b[0m \u001b[0mSocketError\u001b[0m\u001b[1;33m)\u001b[0m \u001b[1;32mas\u001b[0m \u001b[0me\u001b[0m\u001b[1;33m:\u001b[0m\u001b[1;33m\u001b[0m\u001b[1;33m\u001b[0m\u001b[0m\n\u001b[0;32m    447\u001b[0m             \u001b[0mself\u001b[0m\u001b[1;33m.\u001b[0m\u001b[0m_raise_timeout\u001b[0m\u001b[1;33m(\u001b[0m\u001b[0merr\u001b[0m\u001b[1;33m=\u001b[0m\u001b[0me\u001b[0m\u001b[1;33m,\u001b[0m \u001b[0murl\u001b[0m\u001b[1;33m=\u001b[0m\u001b[0murl\u001b[0m\u001b[1;33m,\u001b[0m \u001b[0mtimeout_value\u001b[0m\u001b[1;33m=\u001b[0m\u001b[0mread_timeout\u001b[0m\u001b[1;33m)\u001b[0m\u001b[1;33m\u001b[0m\u001b[1;33m\u001b[0m\u001b[0m\n",
      "\u001b[1;32mc:\\users\\qirui\\appdata\\local\\programs\\python\\python38\\lib\\site-packages\\urllib3\\packages\\six.py\u001b[0m in \u001b[0;36mraise_from\u001b[1;34m(value, from_value)\u001b[0m\n",
      "\u001b[1;32mc:\\users\\qirui\\appdata\\local\\programs\\python\\python38\\lib\\site-packages\\urllib3\\connectionpool.py\u001b[0m in \u001b[0;36m_make_request\u001b[1;34m(self, conn, method, url, timeout, chunked, **httplib_request_kw)\u001b[0m\n\u001b[0;32m    438\u001b[0m                 \u001b[1;31m# Python 3\u001b[0m\u001b[1;33m\u001b[0m\u001b[1;33m\u001b[0m\u001b[1;33m\u001b[0m\u001b[0m\n\u001b[0;32m    439\u001b[0m                 \u001b[1;32mtry\u001b[0m\u001b[1;33m:\u001b[0m\u001b[1;33m\u001b[0m\u001b[1;33m\u001b[0m\u001b[0m\n\u001b[1;32m--> 440\u001b[1;33m                     \u001b[0mhttplib_response\u001b[0m \u001b[1;33m=\u001b[0m \u001b[0mconn\u001b[0m\u001b[1;33m.\u001b[0m\u001b[0mgetresponse\u001b[0m\u001b[1;33m(\u001b[0m\u001b[1;33m)\u001b[0m\u001b[1;33m\u001b[0m\u001b[1;33m\u001b[0m\u001b[0m\n\u001b[0m\u001b[0;32m    441\u001b[0m                 \u001b[1;32mexcept\u001b[0m \u001b[0mBaseException\u001b[0m \u001b[1;32mas\u001b[0m \u001b[0me\u001b[0m\u001b[1;33m:\u001b[0m\u001b[1;33m\u001b[0m\u001b[1;33m\u001b[0m\u001b[0m\n\u001b[0;32m    442\u001b[0m                     \u001b[1;31m# Remove the TypeError from the exception chain in\u001b[0m\u001b[1;33m\u001b[0m\u001b[1;33m\u001b[0m\u001b[1;33m\u001b[0m\u001b[0m\n",
      "\u001b[1;32mc:\\users\\qirui\\appdata\\local\\programs\\python\\python38\\lib\\http\\client.py\u001b[0m in \u001b[0;36mgetresponse\u001b[1;34m(self)\u001b[0m\n\u001b[0;32m   1345\u001b[0m         \u001b[1;32mtry\u001b[0m\u001b[1;33m:\u001b[0m\u001b[1;33m\u001b[0m\u001b[1;33m\u001b[0m\u001b[0m\n\u001b[0;32m   1346\u001b[0m             \u001b[1;32mtry\u001b[0m\u001b[1;33m:\u001b[0m\u001b[1;33m\u001b[0m\u001b[1;33m\u001b[0m\u001b[0m\n\u001b[1;32m-> 1347\u001b[1;33m                 \u001b[0mresponse\u001b[0m\u001b[1;33m.\u001b[0m\u001b[0mbegin\u001b[0m\u001b[1;33m(\u001b[0m\u001b[1;33m)\u001b[0m\u001b[1;33m\u001b[0m\u001b[1;33m\u001b[0m\u001b[0m\n\u001b[0m\u001b[0;32m   1348\u001b[0m             \u001b[1;32mexcept\u001b[0m \u001b[0mConnectionError\u001b[0m\u001b[1;33m:\u001b[0m\u001b[1;33m\u001b[0m\u001b[1;33m\u001b[0m\u001b[0m\n\u001b[0;32m   1349\u001b[0m                 \u001b[0mself\u001b[0m\u001b[1;33m.\u001b[0m\u001b[0mclose\u001b[0m\u001b[1;33m(\u001b[0m\u001b[1;33m)\u001b[0m\u001b[1;33m\u001b[0m\u001b[1;33m\u001b[0m\u001b[0m\n",
      "\u001b[1;32mc:\\users\\qirui\\appdata\\local\\programs\\python\\python38\\lib\\http\\client.py\u001b[0m in \u001b[0;36mbegin\u001b[1;34m(self)\u001b[0m\n\u001b[0;32m    305\u001b[0m         \u001b[1;31m# read until we get a non-100 response\u001b[0m\u001b[1;33m\u001b[0m\u001b[1;33m\u001b[0m\u001b[1;33m\u001b[0m\u001b[0m\n\u001b[0;32m    306\u001b[0m         \u001b[1;32mwhile\u001b[0m \u001b[1;32mTrue\u001b[0m\u001b[1;33m:\u001b[0m\u001b[1;33m\u001b[0m\u001b[1;33m\u001b[0m\u001b[0m\n\u001b[1;32m--> 307\u001b[1;33m             \u001b[0mversion\u001b[0m\u001b[1;33m,\u001b[0m \u001b[0mstatus\u001b[0m\u001b[1;33m,\u001b[0m \u001b[0mreason\u001b[0m \u001b[1;33m=\u001b[0m \u001b[0mself\u001b[0m\u001b[1;33m.\u001b[0m\u001b[0m_read_status\u001b[0m\u001b[1;33m(\u001b[0m\u001b[1;33m)\u001b[0m\u001b[1;33m\u001b[0m\u001b[1;33m\u001b[0m\u001b[0m\n\u001b[0m\u001b[0;32m    308\u001b[0m             \u001b[1;32mif\u001b[0m \u001b[0mstatus\u001b[0m \u001b[1;33m!=\u001b[0m \u001b[0mCONTINUE\u001b[0m\u001b[1;33m:\u001b[0m\u001b[1;33m\u001b[0m\u001b[1;33m\u001b[0m\u001b[0m\n\u001b[0;32m    309\u001b[0m                 \u001b[1;32mbreak\u001b[0m\u001b[1;33m\u001b[0m\u001b[1;33m\u001b[0m\u001b[0m\n",
      "\u001b[1;32mc:\\users\\qirui\\appdata\\local\\programs\\python\\python38\\lib\\http\\client.py\u001b[0m in \u001b[0;36m_read_status\u001b[1;34m(self)\u001b[0m\n\u001b[0;32m    266\u001b[0m \u001b[1;33m\u001b[0m\u001b[0m\n\u001b[0;32m    267\u001b[0m     \u001b[1;32mdef\u001b[0m \u001b[0m_read_status\u001b[0m\u001b[1;33m(\u001b[0m\u001b[0mself\u001b[0m\u001b[1;33m)\u001b[0m\u001b[1;33m:\u001b[0m\u001b[1;33m\u001b[0m\u001b[1;33m\u001b[0m\u001b[0m\n\u001b[1;32m--> 268\u001b[1;33m         \u001b[0mline\u001b[0m \u001b[1;33m=\u001b[0m \u001b[0mstr\u001b[0m\u001b[1;33m(\u001b[0m\u001b[0mself\u001b[0m\u001b[1;33m.\u001b[0m\u001b[0mfp\u001b[0m\u001b[1;33m.\u001b[0m\u001b[0mreadline\u001b[0m\u001b[1;33m(\u001b[0m\u001b[0m_MAXLINE\u001b[0m \u001b[1;33m+\u001b[0m \u001b[1;36m1\u001b[0m\u001b[1;33m)\u001b[0m\u001b[1;33m,\u001b[0m \u001b[1;34m\"iso-8859-1\"\u001b[0m\u001b[1;33m)\u001b[0m\u001b[1;33m\u001b[0m\u001b[1;33m\u001b[0m\u001b[0m\n\u001b[0m\u001b[0;32m    269\u001b[0m         \u001b[1;32mif\u001b[0m \u001b[0mlen\u001b[0m\u001b[1;33m(\u001b[0m\u001b[0mline\u001b[0m\u001b[1;33m)\u001b[0m \u001b[1;33m>\u001b[0m \u001b[0m_MAXLINE\u001b[0m\u001b[1;33m:\u001b[0m\u001b[1;33m\u001b[0m\u001b[1;33m\u001b[0m\u001b[0m\n\u001b[0;32m    270\u001b[0m             \u001b[1;32mraise\u001b[0m \u001b[0mLineTooLong\u001b[0m\u001b[1;33m(\u001b[0m\u001b[1;34m\"status line\"\u001b[0m\u001b[1;33m)\u001b[0m\u001b[1;33m\u001b[0m\u001b[1;33m\u001b[0m\u001b[0m\n",
      "\u001b[1;32mc:\\users\\qirui\\appdata\\local\\programs\\python\\python38\\lib\\socket.py\u001b[0m in \u001b[0;36mreadinto\u001b[1;34m(self, b)\u001b[0m\n\u001b[0;32m    667\u001b[0m         \u001b[1;32mwhile\u001b[0m \u001b[1;32mTrue\u001b[0m\u001b[1;33m:\u001b[0m\u001b[1;33m\u001b[0m\u001b[1;33m\u001b[0m\u001b[0m\n\u001b[0;32m    668\u001b[0m             \u001b[1;32mtry\u001b[0m\u001b[1;33m:\u001b[0m\u001b[1;33m\u001b[0m\u001b[1;33m\u001b[0m\u001b[0m\n\u001b[1;32m--> 669\u001b[1;33m                 \u001b[1;32mreturn\u001b[0m \u001b[0mself\u001b[0m\u001b[1;33m.\u001b[0m\u001b[0m_sock\u001b[0m\u001b[1;33m.\u001b[0m\u001b[0mrecv_into\u001b[0m\u001b[1;33m(\u001b[0m\u001b[0mb\u001b[0m\u001b[1;33m)\u001b[0m\u001b[1;33m\u001b[0m\u001b[1;33m\u001b[0m\u001b[0m\n\u001b[0m\u001b[0;32m    670\u001b[0m             \u001b[1;32mexcept\u001b[0m \u001b[0mtimeout\u001b[0m\u001b[1;33m:\u001b[0m\u001b[1;33m\u001b[0m\u001b[1;33m\u001b[0m\u001b[0m\n\u001b[0;32m    671\u001b[0m                 \u001b[0mself\u001b[0m\u001b[1;33m.\u001b[0m\u001b[0m_timeout_occurred\u001b[0m \u001b[1;33m=\u001b[0m \u001b[1;32mTrue\u001b[0m\u001b[1;33m\u001b[0m\u001b[1;33m\u001b[0m\u001b[0m\n",
      "\u001b[1;31mKeyboardInterrupt\u001b[0m: "
     ]
    }
   ],
   "source": [
    "# Main loop\n",
    "while True:\n",
    "    # Get new data\n",
    "    pose, clues = loc_service.get_pose()\n",
    "    pose = pose_filter.update(pose)\n",
    "    img = robot.camera.read_cv2_image(strategy='newest')\n",
    "    if not pose:\n",
    "        # no new data, continue to next iteration.\n",
    "        continue\n",
    "\n",
    "    #Set this location as visited in the planner (so no need to visit here again if there are no clues)    \n",
    "    planner.visit(pose[:2])\n",
    "    \n",
    "    # Filter out clues that were seen before\n",
    "    clues = filter(new_clues, clues)\n",
    "\n",
    "    # Process clues using NLP and determine any new locations of interest\n",
    "    if clues:\n",
    "        clues=list(clues) #It bugs without this\n",
    "        new_lois = nlp_service.locations_from_clues(clues) #new locations of interest\n",
    "        update_locations(lois, new_lois)\n",
    "        seen_clues.update([c.clue_id for c in clues])\n",
    "\n",
    "    \"\"\"    # Process image and detect targets\n",
    "    targets = cv_service.targets_from_image(img)\n",
    "\n",
    "    # Submit targets\n",
    "    if targets:\n",
    "        logging.getLogger('Main').info('{} targets detected.'.format(len(targets)))\n",
    "        #logging.getLogger('Reporting').info(rep_service.report(pose, img, targets))\n",
    "    \"\"\"\n",
    "    if not curr_loi:\n",
    "        if len(lois) == 0:\n",
    "            logging.getLogger('Main').info('No more locations of interest.')\n",
    "            explore_next = planner.get_explore(pose[:2])\n",
    "            if type(explore_next) == type(None):\n",
    "                break\n",
    "            plt.imshow(planner.big_grid)\n",
    "            plt.title(\"Places explored so far and the one to explore next\")\n",
    "            plt.scatter([explore_next[0]],[explore_next[1]])\n",
    "            plt.show()\n",
    "            lois.append(explore_next)\n",
    "            #break\n",
    "            \n",
    "        # Get new LOI\n",
    "        lois.sort(key=lambda l: euclidean_distance(l, pose), reverse=True)\n",
    "        curr_loi = lois.pop()\n",
    "        logging.getLogger('Main').info('Current LOI set to: {}'.format(curr_loi))\n",
    "\n",
    "        # Plan a path to the new LOI\n",
    "        logging.getLogger('Main').info('Planning path to: {}'.format(curr_loi))\n",
    "\n",
    "        path = planner.plan(pose[:2], curr_loi)\n",
    "        if type(path) == type(None):\n",
    "            logging.getLogger('Main').info('No possible path found, location skipped')\n",
    "            #print(\"lois\",lois)\n",
    "            #print(\"seen:\",seen_clues)\n",
    "            curr_loi = None\n",
    "        else:\n",
    "        #path = [curr_loi,curr_loi]\n",
    "            path.reverse() # reverse so closest wp is last so that pop() is cheap , waypoint\n",
    "            curr_wp = None\n",
    "            logging.getLogger('Main').info('Path planned.')\n",
    "    else:\n",
    "        # There is a current LOI objective.\n",
    "        # Continue with navigation along current path.\n",
    "        if path:\n",
    "            # Get next waypoint\n",
    "            if not curr_wp:\n",
    "                curr_wp = path.pop()\n",
    "                logging.getLogger('Navigation').info('New waypoint: {}'.format(curr_wp))\n",
    "\n",
    "            #logging.getLogger('Navigation').info('Calculating angle')\n",
    "            # Calculate distance and heading to waypoint\n",
    "            dist_to_wp = euclidean_distance(pose, curr_wp)\n",
    "            ang_to_wp = np.degrees(np.arctan2(curr_wp[1]-pose[1], curr_wp[0]-pose[0]))\n",
    "            ang_diff = -(ang_to_wp - pose[2]) # body frame\n",
    "\n",
    "            # ensure ang_diff is in [-180, 180]\n",
    "            if ang_diff < -180:\n",
    "                ang_diff += 360\n",
    "\n",
    "            if ang_diff > 180:\n",
    "                ang_diff -= 360\n",
    "\n",
    "            #logging.getLogger('Navigation').info('ang_to_wp: {}, hdg: {}, ang_diff: {}'.format(ang_to_wp, pose[2], ang_diff))\n",
    "            #logging.getLogger('Navigation').info('Pose: {}'.format(pose))\n",
    "            \n",
    "            # Consider waypoint reached if within a threshold distance\n",
    "            if dist_to_wp < REACHED_THRESHOLD_M:\n",
    "                logging.getLogger('Navigation').info('Reached wp: {}'.format(curr_wp))\n",
    "                tracker.reset()\n",
    "                curr_wp = None\n",
    "                continue\n",
    "\n",
    "            # Determine velocity commands given distance and heading to waypoint\n",
    "            vel_cmd = tracker.update((dist_to_wp, ang_diff))\n",
    "\n",
    "            #logging.getLogger('Navigation').info('dist: {} ang:{} vel:{}'.format(dist_to_wp,ang_diff,vel_cmd))\n",
    "            \n",
    "            # reduce x velocity\n",
    "            vel_cmd[0] *= np.cos(np.radians(ang_diff))\n",
    "\n",
    "            # If robot is facing the wrong direction, turn to face waypoint first before\n",
    "            # moving forward.\n",
    "            if abs(ang_diff) > ANGLE_THRESHOLD_DEG:\n",
    "                vel_cmd[0] = 0.0\n",
    "\n",
    "            # Send command to robot\n",
    "            robot.chassis.drive_speed(x=vel_cmd[0], z=vel_cmd[1])\n",
    "\n",
    "        else:\n",
    "            logging.getLogger('Navigation').info('End of path.')\n",
    "            curr_loi = None\n",
    "\n",
    "            # TODO: Perform search behaviour? Participant to complete.\n",
    "\n",
    "            continue\n",
    "\n",
    "robot.chassis.drive_speed(x=0.0, y=0.0, z=0.0)  # set stop for safety\n",
    "logging.getLogger('Main').info('Mission Terminated.')"
   ]
  },
  {
   "cell_type": "markdown",
   "id": "suited-florence",
   "metadata": {
    "pycharm": {
     "name": "#%% md\n"
    }
   },
   "source": [
    "# Below: Random working"
   ]
  },
  {
   "cell_type": "code",
   "execution_count": null,
   "id": "fewer-shareware",
   "metadata": {},
   "outputs": [],
   "source": [
    "planner.big_grid_centre"
   ]
  },
  {
   "cell_type": "code",
   "execution_count": null,
   "id": "first-massage",
   "metadata": {
    "pycharm": {
     "name": "#%%\n"
    }
   },
   "outputs": [],
   "source": [
    "fig, ax = plt.subplots(1,3,figsize=(12,30))\n",
    "ax[0].imshow(plt.imread(\"data/maps/map_complex_1cm.png\"))\n",
    "ax[0].title.set_text(\"Input map\")\n",
    "ax[1].imshow(map_.grid>0)\n",
    "ax[1].title.set_text(\"map._grid>0 (indicates passable)\")\n",
    "ax[2].imshow(map_.grid)\n",
    "ax[2].title.set_text(\"map._grid\")"
   ]
  },
  {
   "cell_type": "markdown",
   "id": "square-costs",
   "metadata": {
    "pycharm": {
     "name": "#%% md\n"
    }
   },
   "source": [
    "## Test planner manually"
   ]
  },
  {
   "cell_type": "code",
   "execution_count": null,
   "id": "applied-techno",
   "metadata": {
    "pycharm": {
     "name": "#%%\n"
    }
   },
   "outputs": [],
   "source": [
    "myplanner = MyPlanner(map_, sdf_weight=0.5,waypoint_sparsity = 0.5)\n",
    "curr_loi = RealLocation(x=4.0, y=3.0)\n",
    "pose = RealPose(x=4.0, y=1.0, z=0.0)"
   ]
  },
  {
   "cell_type": "code",
   "execution_count": null,
   "id": "infectious-bhutan",
   "metadata": {
    "pycharm": {
     "name": "#%%\n"
    }
   },
   "outputs": [],
   "source": [
    "import time\n",
    "start = time.time()\n",
    "path = None #Needed or path will be taken as a local variable in try\n",
    "try:\n",
    "    path = myplanner.plan(pose[:2], curr_loi, method=\"astar\")\n",
    "except Exception as e:\n",
    "    print(\"Error\",e)\n",
    "end = time.time()\n",
    "print(end - start)"
   ]
  },
  {
   "cell_type": "code",
   "execution_count": null,
   "id": "chronic-drunk",
   "metadata": {
    "pycharm": {
     "name": "#%%\n"
    },
    "scrolled": true
   },
   "outputs": [],
   "source": [
    "map = planner.map.grid.astype(np.float32)\n",
    "map[map>0] = np.inf\n",
    "map[map<=0] = 1\n",
    "path_astar = pyastar2d.astar_path(map, tuple(real_to_grid(RealLocation(1, 1), scale=planner.map.scale)), tuple(real_to_grid(RealLocation(4, 3), scale=planner.map.scale)), allow_diagonal=True)\n",
    "plt.imshow(map)\n",
    "# path_astar.reverse()\n",
    "# path_astar = path_astar[:1] + path_astar[1:-1:20]+ path_astar[-1:] #Take the 1st, last, and every 20th waypoint in the middle\n",
    "# path_astar = [(x[1],x[0]) for x in path_astar]"
   ]
  },
  {
   "cell_type": "code",
   "execution_count": null,
   "id": "ruled-applicant",
   "metadata": {
    "scrolled": true
   },
   "outputs": [],
   "source": [
    "path = myplanner.plan(pose[:2], RealLocation(4.0,4.5), method=\"astar\")"
   ]
  },
  {
   "cell_type": "code",
   "execution_count": null,
   "id": "professional-armor",
   "metadata": {},
   "outputs": [],
   "source": [
    "pose"
   ]
  },
  {
   "cell_type": "code",
   "execution_count": null,
   "id": "surprised-poverty",
   "metadata": {},
   "outputs": [],
   "source": [
    "myplanner.get_explore(pose[:2])"
   ]
  },
  {
   "cell_type": "code",
   "execution_count": null,
   "id": "buried-child",
   "metadata": {
    "scrolled": true
   },
   "outputs": [],
   "source": [
    "plt.imshow(myplanner.big_grid)"
   ]
  },
  {
   "cell_type": "code",
   "execution_count": null,
   "id": "pacific-cleaners",
   "metadata": {},
   "outputs": [],
   "source": []
  },
  {
   "cell_type": "code",
   "execution_count": null,
   "id": "western-reason",
   "metadata": {},
   "outputs": [],
   "source": [
    "big_grid_of(RealLocation(3.8,0.31))"
   ]
  },
  {
   "cell_type": "code",
   "execution_count": null,
   "id": "tribal-score",
   "metadata": {},
   "outputs": [],
   "source": []
  },
  {
   "cell_type": "code",
   "execution_count": null,
   "id": "unnecessary-journalist",
   "metadata": {},
   "outputs": [],
   "source": []
  }
 ],
 "metadata": {
  "kernelspec": {
   "display_name": "Python 3",
   "language": "python",
   "name": "python3"
  },
  "language_info": {
   "codemirror_mode": {
    "name": "ipython",
    "version": 3
   },
   "file_extension": ".py",
   "mimetype": "text/x-python",
   "name": "python",
   "nbconvert_exporter": "python",
   "pygments_lexer": "ipython3",
   "version": "3.8.8"
  }
 },
 "nbformat": 4,
 "nbformat_minor": 5
}
