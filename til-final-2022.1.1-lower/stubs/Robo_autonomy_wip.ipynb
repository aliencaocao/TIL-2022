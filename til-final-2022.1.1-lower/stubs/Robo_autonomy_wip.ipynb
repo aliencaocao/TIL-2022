{
 "cells": [
  {
   "cell_type": "code",
   "execution_count": 1,
   "metadata": {
    "collapsed": false,
    "pycharm": {
     "name": "#%%\n"
    }
   },
   "outputs": [],
   "source": [
    "from typing import List, Tuple, TypeVar, Dict\n",
    "import numpy as np\n",
    "from tilsdk.localization import *\n",
    "\n",
    "T = TypeVar('T')\n",
    "\n",
    "def visualise_path(path, map):\n",
    "    pathmap = map.grid.copy()\n",
    "    pathmap = pathmap > 0\n",
    "    pathmap = pathmap.astype(\"int32\")\n",
    "    gridpath = [map_.real_to_grid(x) if isinstance(x, RealLocation) else x for x in path]\n",
    "    gridpathx = [x[0] for x in gridpath]\n",
    "    gridpathy = [x[1] for x in gridpath]\n",
    "    plt.imshow(pathmap)\n",
    "    plt.scatter(gridpathx,gridpathy,c='r')\n",
    "    plt.title(\"visualise grid and path\")\n",
    "    plt.show()\n",
    "\n",
    "\n",
    "class MyPlanner:\n",
    "    def __init__(self, map_:SignedDistanceGrid=None, waypoint_sparsity=0.5, optimize_threshold=3, consider = 4):\n",
    "        '''\n",
    "        Parameters\n",
    "        ----------\n",
    "        map : SignedDistanceGrid\n",
    "            Distance grid map\n",
    "        sdf_weight: float\n",
    "            Relative weight of distance in cost function.\n",
    "        waypoint_sparsity: float\n",
    "            0.5 results in every 50th waypoint being taken at scale=0.01 and 10th at scale=0.05\n",
    "        consider: float\n",
    "            For the get_explore function only. See there for more details.\n",
    "        '''\n",
    "        self.optimize_threshold = optimize_threshold\n",
    "        self.map = map_\n",
    "        self.bgrid = self.transform_add_border(map_.grid.copy()) #Grid which takes the borders into account\n",
    "        self.astar_grid = self.transform_for_astar(self.bgrid.copy())\n",
    "        self.waypoint_sparsity = waypoint_sparsity\n",
    "        self.big_grid = [[0 for j in range(14)] for i in range(10)] #Big_grid stores whether each 0.5*0.5m tile of the arena has been visited\n",
    "        self.big_grid_centre = [[0 for j in range(14)] for i in range(10)]\n",
    "        self.consider = consider\n",
    "        for i in range(10):\n",
    "            for j in range(14):\n",
    "                self.big_grid_centre[i][j]=RealLocation(j+0.25,i+0.25)\n",
    "\n",
    "    def transform_add_border(self, og_grid):\n",
    "        grid = og_grid.copy()\n",
    "        a,b = grid.shape\n",
    "        for i in range(a):\n",
    "            for j in range(b):\n",
    "                grid[i][j] = min(grid[i][j],i+1,a-i,j+1,b-j)\n",
    "        return grid\n",
    "\n",
    "    def transform_for_astar(self, grid):\n",
    "        #!-- Possible to edit this transform if u want\n",
    "        grid2 = grid.copy()\n",
    "        grid2[grid2>0] = 1 + 100/(grid2[grid2>0])\n",
    "        grid2[grid2<=0] = np.inf\n",
    "        return grid2.astype(\"float32\")\n",
    "\n",
    "    @staticmethod\n",
    "    def big_grid_of(l:RealLocation): #Returns the big grid array indices of a real location\n",
    "        return int(l[0]//0.5),int(l[1]//0.5)\n",
    "    \n",
    "    def visit(self, l: RealLocation):\n",
    "        indices = self.big_grid_of(l)\n",
    "        self.big_grid[indices[0]][indices[1]] = max(1,self.big_grid[indices[0]][indices[1]])\n",
    "        \n",
    "    def get_explore(self, l:RealLocation, debug:bool = False): #Call this to get a location to go to if there are no locations of interest left\n",
    "        #debug: Whether to plot maps and show info\n",
    "        #consider (in __init__): Consider the astar paths of this number of closest unvisited cells by euclidean distance\n",
    "        #Larger number gives better performance but slower\n",
    "        m=100\n",
    "        for i in range(10):\n",
    "            for j in range(14):\n",
    "                m=min(m,self.big_grid[i][j])\n",
    "        if m == 1: #Can comment out this part if u want the robot to vroom around infinitely\n",
    "            return None\n",
    "        \n",
    "        closeness = []\n",
    "        for i in range(10):\n",
    "            for j in range(14):\n",
    "                if self.big_grid[i][j] == m:\n",
    "                    closeness.append((self.heuristic(self.big_grid_centre[i][j],l),(i,j)))\n",
    "        closeness.sort()\n",
    "        \n",
    "        if len(closeness) == 0:\n",
    "            return None\n",
    "        \n",
    "        closeness = closeness[:min(self.consider,len(closeness))]\n",
    "        for i in range(len(closeness)):\n",
    "            loc = self.big_grid_centre[closeness[i][1][0]][closeness[i][1][1]]\n",
    "            if debug:\n",
    "                print(\"l, loc:\",l,loc)\n",
    "            path = self.plan(l, loc, whole_path=True, display=debug)\n",
    "            closeness[i] = (1e18 if type(path) == type(None) else len(path) , closeness[i][1])\n",
    "            if debug:\n",
    "                print(\"Path length:\",closeness[i][0])\n",
    "                \n",
    "        closeness.sort()\n",
    "        if debug:\n",
    "            print(\"Closest guys\",closeness)\n",
    "            \n",
    "        closest = closeness[0]\n",
    "        self.big_grid[closest[1][0]][closest[1][1]] += 1\n",
    "        \n",
    "        if debug:\n",
    "            plt.imshow(self.big_grid)\n",
    "            plt.title(\"Big grid now\")\n",
    "            plt.show()\n",
    "        return self.big_grid_centre[closest[1][0]][closest[1][1]]\n",
    "\n",
    "    def heuristic(self, a:GridLocation, b:GridLocation) -> float:\n",
    "        '''Planning heuristic function.        \n",
    "        Parameters\n",
    "        ----------\n",
    "        a: GridLocation\n",
    "            Starting location.\n",
    "        b: GridLocation\n",
    "            Goal location.\n",
    "        '''\n",
    "        return euclidean_distance(a, b)\n",
    "    \n",
    "    def nearest_clear(self, loc, passable):\n",
    "        '''Utility function to find the nearest clear cell to a blocked cell'''\n",
    "        loc = loc[::-1]\n",
    "        if not passable[loc]:\n",
    "            best = (1e18,(-1,-1))\n",
    "            for i in range(map_.height): #y\n",
    "                for j in range(map_.width): #x\n",
    "                    if map_.grid[(i,j)]>0:\n",
    "                        best = min(best,(self.heuristic(GridLocation(i,j),loc),(i,j)))\n",
    "            loc = best[1]\n",
    "        return loc\n",
    "\n",
    "    def plan(self, start:RealLocation, goal:RealLocation, whole_path:bool = False, display:bool = True) -> List[RealLocation]:\n",
    "        '''Plan in real coordinates.\n",
    "        \n",
    "        Raises NoPathFileException path is not found.\n",
    "\n",
    "        Parameters\n",
    "        ----------\n",
    "        start: RealLocation\n",
    "            Starting location.\n",
    "        goal: RealLocation\n",
    "            Goal location.\n",
    "        whole_path:\n",
    "            Whether to return the whole path instead of version with select waypoints\n",
    "        display:\n",
    "            Whether to visualise the path\n",
    "        \n",
    "        Returns\n",
    "        -------\n",
    "        path\n",
    "            List of RealLocation from start to goal.\n",
    "        '''\n",
    "\n",
    "        path = self.plan_grid(self.map.real_to_grid(start), self.map.real_to_grid(goal), whole_path)\n",
    "        if path is None:\n",
    "            return path\n",
    "        if display:\n",
    "            visualise_path(path, self.map)\n",
    "        path = [self.map.grid_to_real(wp) for wp in path]\n",
    "        return path\n",
    "\n",
    "    def plan_grid(self, start:GridLocation, goal:GridLocation, whole_path:bool = False, debug=False) -> List[GridLocation]:\n",
    "        '''Plan in grid coordinates.\n",
    "        \n",
    "        Raises NoPathFileException path is not found.\n",
    "\n",
    "        Parameters\n",
    "        ----------\n",
    "        start: GridLocation\n",
    "            Starting location.\n",
    "        goal: GridLocation\n",
    "            Goal location.\n",
    "        whole_path:\n",
    "            Whether to return the whole path instead of version with select waypoints\n",
    "        debug:\n",
    "            Whether to print start and end locations\n",
    "        Returns\n",
    "        -------\n",
    "        path\n",
    "            List of GridLocation from start to goal.\n",
    "        '''\n",
    "        \n",
    "        \n",
    "        if not self.map:\n",
    "            raise RuntimeError('Planner map is not initialized.')\n",
    "        \n",
    "        start = start[1],start[0]\n",
    "        goal = goal[1],goal[0] #Use i=x,j=y convention for convenience\n",
    "        passable = self.map.grid>0\n",
    "\n",
    "        if debug:\n",
    "            print(\"original start\",start)\n",
    "            print(\"original goal\",goal)\n",
    "        start = self.nearest_clear(start, passable)\n",
    "        goal = self.nearest_clear(goal, passable)\n",
    "        if debug:\n",
    "            print(\"start\",start)\n",
    "            print(\"goal\",goal)\n",
    "\n",
    "        #astar\n",
    "        path = pyastar2d.astar_path(self.astar_grid, start, goal, allow_diagonal=True)\n",
    "        if path is None:\n",
    "            return None\n",
    "        coeff = int(self.waypoint_sparsity/self.map.scale) # default sparsity 0.5 --> 50 for 0.01, 10 for 0.05\n",
    "        path = list(path)\n",
    "        path = [(x[1],x[0]) for x in path]\n",
    "        if whole_path:\n",
    "            return path\n",
    "        coeff = max(coeff ,1)\n",
    "        path = path[:1] + path[:-1:coeff] + path[-1:] #Take the 1st, last, and every 20th waypoint in the middle\n",
    "        path.append(path[-1]) #Duplicate last waypoint to avoid bug in main loop\n",
    "        return self.optimize_path(path)\n",
    "\n",
    "    def optimize_path(self, path:List[GridLocation]) -> List[GridLocation]:\n",
    "        new_path = [path[0]]  # starting point always in path\n",
    "        for i in range(1, len(path)-1, 1):\n",
    "            if not ((abs(path[i-1][0] - path[i][0]) < self.optimize_threshold and abs(path[i][0] - path[i+1][0]) < self.optimize_threshold) or (abs(path[i-1][1] - path[i][1]) < self.optimize_threshold and abs(path[i][1] - path[i+1][1]) < self.optimize_threshold)):  # 3 consecutive points are on a straight line in either x or y direction\n",
    "                new_path.append(path[i])\n",
    "        new_path.append(path[-1])  # add last point\n",
    "        return new_path"
   ]
  },
  {
   "cell_type": "code",
   "execution_count": 2,
   "metadata": {
    "collapsed": false,
    "pycharm": {
     "name": "#%%\n"
    }
   },
   "outputs": [],
   "source": [
    "import logging\n",
    "from typing import List\n",
    "\n",
    "from tilsdk import *                                            # import the SDK\n",
    "from tilsdk.utilities import PIDController, SimpleMovingAverage # import optional useful things\n",
    "#from tilsdk.mock_robomaster.robot import Robot                  # Use this for the simulator\n",
    "from robomaster.robot import Robot                             # Use this for real robot\n",
    "\n",
    "# Import your code\n",
    "from nlp_service import MockNLPService\n",
    "# from stubs.planner import Planner\n",
    "import pyastar2d\n",
    "# import copy"
   ]
  },
  {
   "cell_type": "code",
   "execution_count": 3,
   "metadata": {
    "collapsed": false,
    "pycharm": {
     "name": "#%%\n"
    }
   },
   "outputs": [],
   "source": [
    "# Setup logging in a nice readable format\n",
    "logging.basicConfig(level=logging.INFO,\n",
    "                format='[%(levelname)5s][%(asctime)s][%(name)s]: %(message)s',\n",
    "                datefmt='%H:%M:%S')\n",
    "\n",
    "# Define config variables in an easily accessible location\n",
    "# You may consider using a config file\n",
    "REACHED_THRESHOLD_M = 0.3   # TODO: Participant may tune.\n",
    "ANGLE_THRESHOLD_DEG = 20.0  # TODO: Participant may tune.\n",
    "ROBOT_RADIUS_M = 0.17       # TODO: Participant may tune.\n",
    "NLP_MODEL_DIR = '../model.onnx'          # TODO: Participant to fill in.\n",
    "NLP_PREPROCESSOR_DIR = '../finals_audio_model/'          # TODO: Participant to fill in.\n",
    "CV_MODEL_DIR = ''           # TODO: Participant to fill in.\n",
    "\n",
    "# Convenience function to update locations of interest.\n",
    "def update_locations(old:List[RealLocation], new:List[RealLocation]) -> None:\n",
    "    '''Update locations with no duplicates.'''\n",
    "    if new:\n",
    "        for loc in new:\n",
    "            if loc not in old:\n",
    "                logging.getLogger('update_locations').info('New location of interest: {}'.format(loc))\n",
    "                old.append(loc)"
   ]
  },
  {
   "cell_type": "code",
   "execution_count": 4,
   "metadata": {
    "collapsed": false,
    "pycharm": {
     "name": "#%%\n"
    }
   },
   "outputs": [
    {
     "data": {
      "text/plain": [
       "True"
      ]
     },
     "execution_count": 4,
     "metadata": {},
     "output_type": "execute_result"
    }
   ],
   "source": [
    "# Initialize services\n",
    "# cv_service = CVService(model_dir=CV_MODEL_DIR)\n",
    "\n",
    "# cv_service = MockCVService(model_dir=CV_MODEL_DIR)\n",
    "\n",
    "# #nlp_service = NLPService(model_dir=NLP_MODEL_DIR, preprocessor_dir=NLP_PREPROCESSOR_DIR)\n",
    "nlp_service = MockNLPService(model_dir=NLP_MODEL_DIR)\n",
    "\n",
    "loc_service = LocalizationService(host='192.168.20.55', port=5512)\n",
    "\n",
    "#rep_service = ReportingService(host='localhost', port=5501)\n",
    "# Start the run\n",
    "#rep_service.start_run()\n",
    "\n",
    "robot = Robot()\n",
    "robot.initialize(conn_type=\"sta\", sn=\"3JKDH2T001176G\")\n",
    "robot.camera.start_video_stream(display=False, resolution='720p')"
   ]
  },
  {
   "cell_type": "code",
   "execution_count": 5,
   "metadata": {
    "collapsed": false,
    "pycharm": {
     "name": "#%%\n"
    }
   },
   "outputs": [],
   "source": [
    "# Initialize planner\n",
    "map_:SignedDistanceGrid = loc_service.get_map()\n",
    "map_ = map_.dilated(1.5*ROBOT_RADIUS_M/map_.scale)\n",
    "planner = MyPlanner(map_, waypoint_sparsity=0.4, optimize_threshold=3)\n",
    "\n",
    "# Initialize variables\n",
    "seen_clues = set()\n",
    "curr_loi:RealLocation = None\n",
    "path:List[RealLocation] = []\n",
    "lois:List[RealLocation] = []\n",
    "curr_wp:RealLocation = None\n",
    "\n",
    "# Initialize pose filter\n",
    "pose_filter = SimpleMovingAverage(n=10)\n",
    "\n",
    "# Define filter function to exclude clues seen before   \n",
    "new_clues = lambda c: c.clue_id not in seen_clues"
   ]
  },
  {
   "cell_type": "code",
   "execution_count": 6,
   "metadata": {
    "collapsed": false,
    "pycharm": {
     "name": "#%%\n"
    }
   },
   "outputs": [],
   "source": [
    "#Tune here\n",
    "tracker = PIDController(Kp=(0.4, 0.2), Kd=(0.4, 0.2), Ki=(0.4, 0.2)) #first: displacement, second: angle"
   ]
  },
  {
   "cell_type": "code",
   "execution_count": 7,
   "metadata": {
    "collapsed": false,
    "pycharm": {
     "name": "#%%\n"
    }
   },
   "outputs": [
    {
     "name": "stderr",
     "output_type": "stream",
     "text": [
      "[ INFO][17:20:00][Main]: No more locations of interest.\n"
     ]
    },
    {
     "data": {
      "image/png": "[encoded data removed]",
      "text/plain": [
       "<Figure size 640x480 with 1 Axes>"
      ]
     },
     "metadata": {},
     "output_type": "display_data"
    },
    {
     "name": "stderr",
     "output_type": "stream",
     "text": [
      "[ INFO][17:20:00][Main]: Current LOI set to: RealLocation(x=0.25, y=5.25)\n",
      "[ INFO][17:20:00][Main]: Planning path to: RealLocation(x=0.25, y=5.25)\n"
     ]
    },
    {
     "data": {
      "image/png": "[encoded data removed]",
      "text/plain": [
       "<Figure size 640x480 with 1 Axes>"
      ]
     },
     "metadata": {},
     "output_type": "display_data"
    },
    {
     "name": "stderr",
     "output_type": "stream",
     "text": [
      "[ INFO][17:20:00][Main]: Path planned.\n",
      "[ INFO][17:20:00][Navigation]: New waypoint: RealLocation(x=0.35000000000000003, y=4.800000000000001)\n",
      "[ INFO][17:20:00][Navigation]: Reached wp: RealLocation(x=0.35000000000000003, y=4.800000000000001)\n",
      "[ INFO][17:20:00][Navigation]: New waypoint: RealLocation(x=0.35000000000000003, y=5.25)\n",
      "[ INFO][17:20:00][Navigation]: End of path.\n",
      "[ INFO][17:20:00][Main]: No more locations of interest.\n"
     ]
    },
    {
     "data": {
      "image/png": "[encoded data removed]",
      "text/plain": [
       "<Figure size 640x480 with 1 Axes>"
      ]
     },
     "metadata": {},
     "output_type": "display_data"
    },
    {
     "name": "stderr",
     "output_type": "stream",
     "text": [
      "[ INFO][17:20:01][Main]: Current LOI set to: RealLocation(x=0.25, y=4.25)\n",
      "[ INFO][17:20:01][Main]: Planning path to: RealLocation(x=0.25, y=4.25)\n"
     ]
    },
    {
     "data": {
      "image/png": "[encoded data removed]",
      "text/plain": [
       "<Figure size 640x480 with 1 Axes>"
      ]
     },
     "metadata": {},
     "output_type": "display_data"
    },
    {
     "name": "stderr",
     "output_type": "stream",
     "text": [
      "[ INFO][17:20:01][Main]: Path planned.\n",
      "[ INFO][17:20:01][Navigation]: New waypoint: RealLocation(x=0.35000000000000003, y=4.800000000000001)\n",
      "[ INFO][17:20:01][Navigation]: Reached wp: RealLocation(x=0.35000000000000003, y=4.800000000000001)\n",
      "[ INFO][17:20:01][Navigation]: New waypoint: RealLocation(x=0.35000000000000003, y=4.800000000000001)\n",
      "[ INFO][17:20:01][Navigation]: Reached wp: RealLocation(x=0.35000000000000003, y=4.800000000000001)\n",
      "[ INFO][17:20:02][Navigation]: New waypoint: RealLocation(x=0.5, y=4.4)\n",
      "[ INFO][17:20:13][Navigation]: Reached wp: RealLocation(x=0.5, y=4.4)\n",
      "[ INFO][17:20:13][Navigation]: New waypoint: RealLocation(x=0.35000000000000003, y=4.25)\n",
      "[ INFO][17:20:13][Navigation]: Reached wp: RealLocation(x=0.35000000000000003, y=4.25)\n",
      "[ INFO][17:20:13][Navigation]: New waypoint: RealLocation(x=0.35000000000000003, y=4.25)\n",
      "[ INFO][17:20:13][Navigation]: Reached wp: RealLocation(x=0.35000000000000003, y=4.25)\n",
      "[ INFO][17:20:13][Navigation]: End of path.\n",
      "[ INFO][17:20:13][Main]: No more locations of interest.\n"
     ]
    },
    {
     "data": {
      "image/png": "[encoded data removed]",
      "text/plain": [
       "<Figure size 640x480 with 1 Axes>"
      ]
     },
     "metadata": {},
     "output_type": "display_data"
    },
    {
     "name": "stderr",
     "output_type": "stream",
     "text": [
      "[ INFO][17:20:13][Main]: Current LOI set to: RealLocation(x=1.25, y=4.25)\n",
      "[ INFO][17:20:13][Main]: Planning path to: RealLocation(x=1.25, y=4.25)\n"
     ]
    },
    {
     "data": {
      "image/png": "[encoded data removed]",
      "text/plain": [
       "<Figure size 640x480 with 1 Axes>"
      ]
     },
     "metadata": {},
     "output_type": "display_data"
    },
    {
     "name": "stderr",
     "output_type": "stream",
     "text": [
      "[ INFO][17:20:13][Main]: Path planned.\n",
      "[ INFO][17:20:13][Navigation]: New waypoint: RealLocation(x=0.35000000000000003, y=4.55)\n",
      "[ INFO][17:20:13][Navigation]: Reached wp: RealLocation(x=0.35000000000000003, y=4.55)\n",
      "[ INFO][17:20:13][Navigation]: New waypoint: RealLocation(x=0.35000000000000003, y=4.55)\n",
      "[ INFO][17:20:13][Navigation]: Reached wp: RealLocation(x=0.35000000000000003, y=4.55)\n",
      "[ INFO][17:20:13][Navigation]: New waypoint: RealLocation(x=0.75, y=4.2)\n",
      "[ INFO][17:20:15][Navigation]: Reached wp: RealLocation(x=0.75, y=4.2)\n",
      "[ INFO][17:20:15][Navigation]: New waypoint: RealLocation(x=1.25, y=4.25)\n",
      "[ INFO][17:20:15][Navigation]: End of path.\n",
      "[ INFO][17:20:15][Main]: No more locations of interest.\n"
     ]
    },
    {
     "data": {
      "image/png": "[encoded data removed]",
      "text/plain": [
       "<Figure size 640x480 with 1 Axes>"
      ]
     },
     "metadata": {},
     "output_type": "display_data"
    },
    {
     "name": "stderr",
     "output_type": "stream",
     "text": [
      "[ INFO][17:20:15][Main]: Current LOI set to: RealLocation(x=1.25, y=5.25)\n",
      "[ INFO][17:20:15][Main]: Planning path to: RealLocation(x=1.25, y=5.25)\n"
     ]
    },
    {
     "data": {
      "image/png": "[encoded data removed]",
      "text/plain": [
       "<Figure size 640x480 with 1 Axes>"
      ]
     },
     "metadata": {},
     "output_type": "display_data"
    },
    {
     "name": "stderr",
     "output_type": "stream",
     "text": [
      "[ INFO][17:20:16][Main]: Path planned.\n",
      "[ INFO][17:20:16][Navigation]: New waypoint: RealLocation(x=0.55, y=4.3500000000000005)\n",
      "[ INFO][17:20:16][Navigation]: Reached wp: RealLocation(x=0.55, y=4.3500000000000005)\n",
      "[ INFO][17:20:16][Navigation]: New waypoint: RealLocation(x=0.55, y=4.3500000000000005)\n",
      "[ INFO][17:20:16][Navigation]: Reached wp: RealLocation(x=0.55, y=4.3500000000000005)\n",
      "[ INFO][17:20:16][Navigation]: New waypoint: RealLocation(x=0.9500000000000001, y=4.2)\n",
      "[ INFO][17:20:17][Navigation]: Reached wp: RealLocation(x=0.9500000000000001, y=4.2)\n",
      "[ INFO][17:20:17][Navigation]: New waypoint: RealLocation(x=1.35, y=4.45)\n",
      "[ INFO][17:20:24][Navigation]: Reached wp: RealLocation(x=1.35, y=4.45)\n",
      "[ INFO][17:20:24][Navigation]: New waypoint: RealLocation(x=1.5, y=4.8500000000000005)\n"
     ]
    },
    {
     "ename": "KeyboardInterrupt",
     "evalue": "",
     "output_type": "error",
     "traceback": [
      "\u001B[0;31m---------------------------------------------------------------------------\u001B[0m",
      "\u001B[0;31mKeyboardInterrupt\u001B[0m                         Traceback (most recent call last)",
      "\u001B[1;32m/home/dh/Desktop/til-final-2022.1.1-lower/stubs/Robo_autonomy_wip.ipynb Cell 7'\u001B[0m in \u001B[0;36m<cell line: 4>\u001B[0;34m()\u001B[0m\n\u001B[1;32m      <a href='vscode-notebook-cell:/home/dh/Desktop/til-final-2022.1.1-lower/stubs/Robo_autonomy_wip.ipynb#ch0000006?line=0'>1</a>\u001B[0m \u001B[39m# Main loop\u001B[39;00m\n\u001B[1;32m      <a href='vscode-notebook-cell:/home/dh/Desktop/til-final-2022.1.1-lower/stubs/Robo_autonomy_wip.ipynb#ch0000006?line=1'>2</a>\u001B[0m \u001B[39mwhile\u001B[39;00m \u001B[39mTrue\u001B[39;00m:\n\u001B[1;32m      <a href='vscode-notebook-cell:/home/dh/Desktop/til-final-2022.1.1-lower/stubs/Robo_autonomy_wip.ipynb#ch0000006?line=2'>3</a>\u001B[0m     \u001B[39m# Get new data\u001B[39;00m\n\u001B[0;32m----> <a href='vscode-notebook-cell:/home/dh/Desktop/til-final-2022.1.1-lower/stubs/Robo_autonomy_wip.ipynb#ch0000006?line=3'>4</a>\u001B[0m     pose, clues \u001B[39m=\u001B[39m loc_service\u001B[39m.\u001B[39;49mget_pose()\n\u001B[1;32m      <a href='vscode-notebook-cell:/home/dh/Desktop/til-final-2022.1.1-lower/stubs/Robo_autonomy_wip.ipynb#ch0000006?line=4'>5</a>\u001B[0m     pose \u001B[39m=\u001B[39m pose_filter\u001B[39m.\u001B[39mupdate(pose)\n\u001B[1;32m      <a href='vscode-notebook-cell:/home/dh/Desktop/til-final-2022.1.1-lower/stubs/Robo_autonomy_wip.ipynb#ch0000006?line=5'>6</a>\u001B[0m     img \u001B[39m=\u001B[39m robot\u001B[39m.\u001B[39mcamera\u001B[39m.\u001B[39mread_cv2_image(strategy\u001B[39m=\u001B[39m\u001B[39m'\u001B[39m\u001B[39mnewest\u001B[39m\u001B[39m'\u001B[39m)\n",
      "File \u001B[0;32m~/.local/lib/python3.8/site-packages/tilsdk/localization/service.py:57\u001B[0m, in \u001B[0;36mLocalizationService.get_pose\u001B[0;34m(self)\u001B[0m\n\u001B[1;32m     46\u001B[0m \u001B[39mdef\u001B[39;00m \u001B[39mget_pose\u001B[39m(\u001B[39mself\u001B[39m) \u001B[39m-\u001B[39m\u001B[39m>\u001B[39m Tuple[RealPose, List[Clue]]:\n\u001B[1;32m     47\u001B[0m     \u001B[39m'''Get real-world pose of robot.\u001B[39;00m\n\u001B[1;32m     48\u001B[0m \u001B[39m    \u001B[39;00m\n\u001B[1;32m     49\u001B[0m \u001B[39m    Returns\u001B[39;00m\n\u001B[0;32m   (...)\u001B[0m\n\u001B[1;32m     54\u001B[0m \u001B[39m        Clues available at robot's location.\u001B[39;00m\n\u001B[1;32m     55\u001B[0m \u001B[39m    '''\u001B[39;00m\n\u001B[0;32m---> 57\u001B[0m     response \u001B[39m=\u001B[39m \u001B[39mself\u001B[39;49m\u001B[39m.\u001B[39;49mmanager\u001B[39m.\u001B[39;49mrequest(method\u001B[39m=\u001B[39;49m\u001B[39m'\u001B[39;49m\u001B[39mGET\u001B[39;49m\u001B[39m'\u001B[39;49m,\n\u001B[1;32m     58\u001B[0m                                     url\u001B[39m=\u001B[39;49m\u001B[39mself\u001B[39;49m\u001B[39m.\u001B[39;49murl\u001B[39m+\u001B[39;49m\u001B[39m'\u001B[39;49m\u001B[39m/pose\u001B[39;49m\u001B[39m'\u001B[39;49m)\n\u001B[1;32m     60\u001B[0m     \u001B[39mif\u001B[39;00m response\u001B[39m.\u001B[39mstatus \u001B[39m!=\u001B[39m \u001B[39m200\u001B[39m:\n\u001B[1;32m     61\u001B[0m         logging\u001B[39m.\u001B[39mgetLogger(\u001B[39m'\u001B[39m\u001B[39mLocalization Service\u001B[39m\u001B[39m'\u001B[39m)\u001B[39m.\u001B[39mdebug(\u001B[39m'\u001B[39m\u001B[39mCould not get pose.\u001B[39m\u001B[39m'\u001B[39m)\n",
      "File \u001B[0;32m/usr/lib/python3/dist-packages/urllib3/request.py:75\u001B[0m, in \u001B[0;36mRequestMethods.request\u001B[0;34m(self, method, url, fields, headers, **urlopen_kw)\u001B[0m\n\u001B[1;32m     72\u001B[0m urlopen_kw[\u001B[39m\"\u001B[39m\u001B[39mrequest_url\u001B[39m\u001B[39m\"\u001B[39m] \u001B[39m=\u001B[39m url\n\u001B[1;32m     74\u001B[0m \u001B[39mif\u001B[39;00m method \u001B[39min\u001B[39;00m \u001B[39mself\u001B[39m\u001B[39m.\u001B[39m_encode_url_methods:\n\u001B[0;32m---> 75\u001B[0m     \u001B[39mreturn\u001B[39;00m \u001B[39mself\u001B[39;49m\u001B[39m.\u001B[39;49mrequest_encode_url(\n\u001B[1;32m     76\u001B[0m         method, url, fields\u001B[39m=\u001B[39;49mfields, headers\u001B[39m=\u001B[39;49mheaders, \u001B[39m*\u001B[39;49m\u001B[39m*\u001B[39;49murlopen_kw\n\u001B[1;32m     77\u001B[0m     )\n\u001B[1;32m     78\u001B[0m \u001B[39melse\u001B[39;00m:\n\u001B[1;32m     79\u001B[0m     \u001B[39mreturn\u001B[39;00m \u001B[39mself\u001B[39m\u001B[39m.\u001B[39mrequest_encode_body(\n\u001B[1;32m     80\u001B[0m         method, url, fields\u001B[39m=\u001B[39mfields, headers\u001B[39m=\u001B[39mheaders, \u001B[39m*\u001B[39m\u001B[39m*\u001B[39murlopen_kw\n\u001B[1;32m     81\u001B[0m     )\n",
      "File \u001B[0;32m/usr/lib/python3/dist-packages/urllib3/request.py:97\u001B[0m, in \u001B[0;36mRequestMethods.request_encode_url\u001B[0;34m(self, method, url, fields, headers, **urlopen_kw)\u001B[0m\n\u001B[1;32m     94\u001B[0m \u001B[39mif\u001B[39;00m fields:\n\u001B[1;32m     95\u001B[0m     url \u001B[39m+\u001B[39m\u001B[39m=\u001B[39m \u001B[39m\"\u001B[39m\u001B[39m?\u001B[39m\u001B[39m\"\u001B[39m \u001B[39m+\u001B[39m urlencode(fields)\n\u001B[0;32m---> 97\u001B[0m \u001B[39mreturn\u001B[39;00m \u001B[39mself\u001B[39;49m\u001B[39m.\u001B[39;49murlopen(method, url, \u001B[39m*\u001B[39;49m\u001B[39m*\u001B[39;49mextra_kw)\n",
      "File \u001B[0;32m/usr/lib/python3/dist-packages/urllib3/poolmanager.py:330\u001B[0m, in \u001B[0;36mPoolManager.urlopen\u001B[0;34m(self, method, url, redirect, **kw)\u001B[0m\n\u001B[1;32m    328\u001B[0m     response \u001B[39m=\u001B[39m conn\u001B[39m.\u001B[39murlopen(method, url, \u001B[39m*\u001B[39m\u001B[39m*\u001B[39mkw)\n\u001B[1;32m    329\u001B[0m \u001B[39melse\u001B[39;00m:\n\u001B[0;32m--> 330\u001B[0m     response \u001B[39m=\u001B[39m conn\u001B[39m.\u001B[39;49murlopen(method, u\u001B[39m.\u001B[39;49mrequest_uri, \u001B[39m*\u001B[39;49m\u001B[39m*\u001B[39;49mkw)\n\u001B[1;32m    332\u001B[0m redirect_location \u001B[39m=\u001B[39m redirect \u001B[39mand\u001B[39;00m response\u001B[39m.\u001B[39mget_redirect_location()\n\u001B[1;32m    333\u001B[0m \u001B[39mif\u001B[39;00m \u001B[39mnot\u001B[39;00m redirect_location:\n",
      "File \u001B[0;32m/usr/lib/python3/dist-packages/urllib3/connectionpool.py:665\u001B[0m, in \u001B[0;36mHTTPConnectionPool.urlopen\u001B[0;34m(self, method, url, body, headers, retries, redirect, assert_same_host, timeout, pool_timeout, release_conn, chunked, body_pos, **response_kw)\u001B[0m\n\u001B[1;32m    662\u001B[0m     \u001B[39mself\u001B[39m\u001B[39m.\u001B[39m_prepare_proxy(conn)\n\u001B[1;32m    664\u001B[0m \u001B[39m# Make the request on the httplib connection object.\u001B[39;00m\n\u001B[0;32m--> 665\u001B[0m httplib_response \u001B[39m=\u001B[39m \u001B[39mself\u001B[39;49m\u001B[39m.\u001B[39;49m_make_request(\n\u001B[1;32m    666\u001B[0m     conn,\n\u001B[1;32m    667\u001B[0m     method,\n\u001B[1;32m    668\u001B[0m     url,\n\u001B[1;32m    669\u001B[0m     timeout\u001B[39m=\u001B[39;49mtimeout_obj,\n\u001B[1;32m    670\u001B[0m     body\u001B[39m=\u001B[39;49mbody,\n\u001B[1;32m    671\u001B[0m     headers\u001B[39m=\u001B[39;49mheaders,\n\u001B[1;32m    672\u001B[0m     chunked\u001B[39m=\u001B[39;49mchunked,\n\u001B[1;32m    673\u001B[0m )\n\u001B[1;32m    675\u001B[0m \u001B[39m# If we're going to release the connection in ``finally:``, then\u001B[39;00m\n\u001B[1;32m    676\u001B[0m \u001B[39m# the response doesn't need to know about the connection. Otherwise\u001B[39;00m\n\u001B[1;32m    677\u001B[0m \u001B[39m# it will also try to release it and we'll have a double-release\u001B[39;00m\n\u001B[1;32m    678\u001B[0m \u001B[39m# mess.\u001B[39;00m\n\u001B[1;32m    679\u001B[0m response_conn \u001B[39m=\u001B[39m conn \u001B[39mif\u001B[39;00m \u001B[39mnot\u001B[39;00m release_conn \u001B[39melse\u001B[39;00m \u001B[39mNone\u001B[39;00m\n",
      "File \u001B[0;32m/usr/lib/python3/dist-packages/urllib3/connectionpool.py:387\u001B[0m, in \u001B[0;36mHTTPConnectionPool._make_request\u001B[0;34m(self, conn, method, url, timeout, chunked, **httplib_request_kw)\u001B[0m\n\u001B[1;32m    385\u001B[0m     conn\u001B[39m.\u001B[39mrequest_chunked(method, url, \u001B[39m*\u001B[39m\u001B[39m*\u001B[39mhttplib_request_kw)\n\u001B[1;32m    386\u001B[0m \u001B[39melse\u001B[39;00m:\n\u001B[0;32m--> 387\u001B[0m     conn\u001B[39m.\u001B[39;49mrequest(method, url, \u001B[39m*\u001B[39;49m\u001B[39m*\u001B[39;49mhttplib_request_kw)\n\u001B[1;32m    389\u001B[0m \u001B[39m# Reset the timeout for the recv() on the socket\u001B[39;00m\n\u001B[1;32m    390\u001B[0m read_timeout \u001B[39m=\u001B[39m timeout_obj\u001B[39m.\u001B[39mread_timeout\n",
      "File \u001B[0;32m/usr/lib/python3.8/http/client.py:1256\u001B[0m, in \u001B[0;36mHTTPConnection.request\u001B[0;34m(self, method, url, body, headers, encode_chunked)\u001B[0m\n\u001B[1;32m   1253\u001B[0m \u001B[39mdef\u001B[39;00m \u001B[39mrequest\u001B[39m(\u001B[39mself\u001B[39m, method, url, body\u001B[39m=\u001B[39m\u001B[39mNone\u001B[39;00m, headers\u001B[39m=\u001B[39m{}, \u001B[39m*\u001B[39m,\n\u001B[1;32m   1254\u001B[0m             encode_chunked\u001B[39m=\u001B[39m\u001B[39mFalse\u001B[39;00m):\n\u001B[1;32m   1255\u001B[0m     \u001B[39m\"\"\"Send a complete request to the server.\"\"\"\u001B[39;00m\n\u001B[0;32m-> 1256\u001B[0m     \u001B[39mself\u001B[39;49m\u001B[39m.\u001B[39;49m_send_request(method, url, body, headers, encode_chunked)\n",
      "File \u001B[0;32m/usr/lib/python3.8/http/client.py:1302\u001B[0m, in \u001B[0;36mHTTPConnection._send_request\u001B[0;34m(self, method, url, body, headers, encode_chunked)\u001B[0m\n\u001B[1;32m   1298\u001B[0m \u001B[39mif\u001B[39;00m \u001B[39misinstance\u001B[39m(body, \u001B[39mstr\u001B[39m):\n\u001B[1;32m   1299\u001B[0m     \u001B[39m# RFC 2616 Section 3.7.1 says that text default has a\u001B[39;00m\n\u001B[1;32m   1300\u001B[0m     \u001B[39m# default charset of iso-8859-1.\u001B[39;00m\n\u001B[1;32m   1301\u001B[0m     body \u001B[39m=\u001B[39m _encode(body, \u001B[39m'\u001B[39m\u001B[39mbody\u001B[39m\u001B[39m'\u001B[39m)\n\u001B[0;32m-> 1302\u001B[0m \u001B[39mself\u001B[39;49m\u001B[39m.\u001B[39;49mendheaders(body, encode_chunked\u001B[39m=\u001B[39;49mencode_chunked)\n",
      "File \u001B[0;32m/usr/lib/python3.8/http/client.py:1251\u001B[0m, in \u001B[0;36mHTTPConnection.endheaders\u001B[0;34m(self, message_body, encode_chunked)\u001B[0m\n\u001B[1;32m   1249\u001B[0m \u001B[39melse\u001B[39;00m:\n\u001B[1;32m   1250\u001B[0m     \u001B[39mraise\u001B[39;00m CannotSendHeader()\n\u001B[0;32m-> 1251\u001B[0m \u001B[39mself\u001B[39;49m\u001B[39m.\u001B[39;49m_send_output(message_body, encode_chunked\u001B[39m=\u001B[39;49mencode_chunked)\n",
      "File \u001B[0;32m/usr/lib/python3.8/http/client.py:1011\u001B[0m, in \u001B[0;36mHTTPConnection._send_output\u001B[0;34m(self, message_body, encode_chunked)\u001B[0m\n\u001B[1;32m   1009\u001B[0m msg \u001B[39m=\u001B[39m \u001B[39mb\u001B[39m\u001B[39m\"\u001B[39m\u001B[39m\\r\u001B[39;00m\u001B[39m\\n\u001B[39;00m\u001B[39m\"\u001B[39m\u001B[39m.\u001B[39mjoin(\u001B[39mself\u001B[39m\u001B[39m.\u001B[39m_buffer)\n\u001B[1;32m   1010\u001B[0m \u001B[39mdel\u001B[39;00m \u001B[39mself\u001B[39m\u001B[39m.\u001B[39m_buffer[:]\n\u001B[0;32m-> 1011\u001B[0m \u001B[39mself\u001B[39;49m\u001B[39m.\u001B[39;49msend(msg)\n\u001B[1;32m   1013\u001B[0m \u001B[39mif\u001B[39;00m message_body \u001B[39mis\u001B[39;00m \u001B[39mnot\u001B[39;00m \u001B[39mNone\u001B[39;00m:\n\u001B[1;32m   1014\u001B[0m \n\u001B[1;32m   1015\u001B[0m     \u001B[39m# create a consistent interface to message_body\u001B[39;00m\n\u001B[1;32m   1016\u001B[0m     \u001B[39mif\u001B[39;00m \u001B[39mhasattr\u001B[39m(message_body, \u001B[39m'\u001B[39m\u001B[39mread\u001B[39m\u001B[39m'\u001B[39m):\n\u001B[1;32m   1017\u001B[0m         \u001B[39m# Let file-like take precedence over byte-like.  This\u001B[39;00m\n\u001B[1;32m   1018\u001B[0m         \u001B[39m# is needed to allow the current position of mmap'ed\u001B[39;00m\n\u001B[1;32m   1019\u001B[0m         \u001B[39m# files to be taken into account.\u001B[39;00m\n",
      "File \u001B[0;32m/usr/lib/python3.8/http/client.py:951\u001B[0m, in \u001B[0;36mHTTPConnection.send\u001B[0;34m(self, data)\u001B[0m\n\u001B[1;32m    949\u001B[0m \u001B[39mif\u001B[39;00m \u001B[39mself\u001B[39m\u001B[39m.\u001B[39msock \u001B[39mis\u001B[39;00m \u001B[39mNone\u001B[39;00m:\n\u001B[1;32m    950\u001B[0m     \u001B[39mif\u001B[39;00m \u001B[39mself\u001B[39m\u001B[39m.\u001B[39mauto_open:\n\u001B[0;32m--> 951\u001B[0m         \u001B[39mself\u001B[39;49m\u001B[39m.\u001B[39;49mconnect()\n\u001B[1;32m    952\u001B[0m     \u001B[39melse\u001B[39;00m:\n\u001B[1;32m    953\u001B[0m         \u001B[39mraise\u001B[39;00m NotConnected()\n",
      "File \u001B[0;32m/usr/lib/python3/dist-packages/urllib3/connection.py:187\u001B[0m, in \u001B[0;36mHTTPConnection.connect\u001B[0;34m(self)\u001B[0m\n\u001B[1;32m    186\u001B[0m \u001B[39mdef\u001B[39;00m \u001B[39mconnect\u001B[39m(\u001B[39mself\u001B[39m):\n\u001B[0;32m--> 187\u001B[0m     conn \u001B[39m=\u001B[39m \u001B[39mself\u001B[39;49m\u001B[39m.\u001B[39;49m_new_conn()\n\u001B[1;32m    188\u001B[0m     \u001B[39mself\u001B[39m\u001B[39m.\u001B[39m_prepare_conn(conn)\n",
      "File \u001B[0;32m/usr/lib/python3/dist-packages/urllib3/connection.py:159\u001B[0m, in \u001B[0;36mHTTPConnection._new_conn\u001B[0;34m(self)\u001B[0m\n\u001B[1;32m    156\u001B[0m     extra_kw[\u001B[39m\"\u001B[39m\u001B[39msocket_options\u001B[39m\u001B[39m\"\u001B[39m] \u001B[39m=\u001B[39m \u001B[39mself\u001B[39m\u001B[39m.\u001B[39msocket_options\n\u001B[1;32m    158\u001B[0m \u001B[39mtry\u001B[39;00m:\n\u001B[0;32m--> 159\u001B[0m     conn \u001B[39m=\u001B[39m connection\u001B[39m.\u001B[39;49mcreate_connection(\n\u001B[1;32m    160\u001B[0m         (\u001B[39mself\u001B[39;49m\u001B[39m.\u001B[39;49m_dns_host, \u001B[39mself\u001B[39;49m\u001B[39m.\u001B[39;49mport), \u001B[39mself\u001B[39;49m\u001B[39m.\u001B[39;49mtimeout, \u001B[39m*\u001B[39;49m\u001B[39m*\u001B[39;49mextra_kw\n\u001B[1;32m    161\u001B[0m     )\n\u001B[1;32m    163\u001B[0m \u001B[39mexcept\u001B[39;00m SocketTimeout:\n\u001B[1;32m    164\u001B[0m     \u001B[39mraise\u001B[39;00m ConnectTimeoutError(\n\u001B[1;32m    165\u001B[0m         \u001B[39mself\u001B[39m,\n\u001B[1;32m    166\u001B[0m         \u001B[39m\"\u001B[39m\u001B[39mConnection to \u001B[39m\u001B[39m%s\u001B[39;00m\u001B[39m timed out. (connect timeout=\u001B[39m\u001B[39m%s\u001B[39;00m\u001B[39m)\u001B[39m\u001B[39m\"\u001B[39m\n\u001B[1;32m    167\u001B[0m         \u001B[39m%\u001B[39m (\u001B[39mself\u001B[39m\u001B[39m.\u001B[39mhost, \u001B[39mself\u001B[39m\u001B[39m.\u001B[39mtimeout),\n\u001B[1;32m    168\u001B[0m     )\n",
      "File \u001B[0;32m/usr/lib/python3/dist-packages/urllib3/util/connection.py:74\u001B[0m, in \u001B[0;36mcreate_connection\u001B[0;34m(address, timeout, source_address, socket_options)\u001B[0m\n\u001B[1;32m     72\u001B[0m     \u001B[39mif\u001B[39;00m source_address:\n\u001B[1;32m     73\u001B[0m         sock\u001B[39m.\u001B[39mbind(source_address)\n\u001B[0;32m---> 74\u001B[0m     sock\u001B[39m.\u001B[39;49mconnect(sa)\n\u001B[1;32m     75\u001B[0m     \u001B[39mreturn\u001B[39;00m sock\n\u001B[1;32m     77\u001B[0m \u001B[39mexcept\u001B[39;00m socket\u001B[39m.\u001B[39merror \u001B[39mas\u001B[39;00m e:\n",
      "\u001B[0;31mKeyboardInterrupt\u001B[0m: "
     ]
    }
   ],
   "source": [
    "# Main loop\n",
    "while True:\n",
    "    # Get new data\n",
    "    pose, clues = loc_service.get_pose()\n",
    "    pose = pose_filter.update(pose)\n",
    "    img = robot.camera.read_cv2_image(strategy='newest')\n",
    "    if not pose:\n",
    "        # no new data, continue to next iteration.\n",
    "        continue\n",
    "\n",
    "    #Set this location as visited in the planner (so no need to visit here again if there are no clues)    \n",
    "    planner.visit(pose[:2])\n",
    "    \n",
    "    # Filter out clues that were seen before\n",
    "    clues = list(filter(new_clues, clues))\n",
    "\n",
    "    # Process clues using NLP and determine any new locations of interest\n",
    "    if clues:\n",
    "        new_lois = nlp_service.locations_from_clues(clues) #new locations of interest\n",
    "        if len(new_lois):\n",
    "            logging.getLogger('Main').info('New location(s) of interest: {}.'.format(new_lois))\n",
    "        update_locations(lois, new_lois)\n",
    "        seen_clues.update([c.clue_id for c in clues])\n",
    "\n",
    "    \"\"\"    # Process image and detect targets\n",
    "    targets = cv_service.targets_from_image(img)\n",
    "\n",
    "    # Submit targets\n",
    "    if targets:\n",
    "        logging.getLogger('Main').info('{} targets detected.'.format(len(targets)))\n",
    "        #logging.getLogger('Reporting').info(rep_service.report(pose, img, targets))\n",
    "    \"\"\"\n",
    "    if not curr_loi:\n",
    "        if len(lois) == 0:\n",
    "            logging.getLogger('Main').info('No more locations of interest.')\n",
    "            explore_next = planner.get_explore(pose[:2])\n",
    "            if type(explore_next) == type(None):\n",
    "                break\n",
    "            plt.imshow(planner.big_grid)\n",
    "            plt.title(\"Places explored so far and the one to explore next\")\n",
    "            plt.scatter([explore_next[0]],[explore_next[1]])\n",
    "            plt.scatter(pose[0], pose[1], c='red')\n",
    "            plt.show()\n",
    "            lois.append(explore_next)\n",
    "            #break\n",
    "            \n",
    "        # Get new LOI\n",
    "        lois.sort(key=lambda l: euclidean_distance(l, pose), reverse=True)\n",
    "        curr_loi = lois.pop()\n",
    "        logging.getLogger('Main').info('Current LOI set to: {}'.format(curr_loi))\n",
    "\n",
    "        # Plan a path to the new LOI\n",
    "        logging.getLogger('Main').info('Planning path to: {}'.format(curr_loi))\n",
    "\n",
    "        path = planner.plan(pose[:2], curr_loi)\n",
    "        if type(path) == type(None):\n",
    "            logging.getLogger('Main').info('No possible path found, location skipped')\n",
    "            #print(\"lois\",lois)\n",
    "            #print(\"seen:\",seen_clues)\n",
    "            curr_loi = None\n",
    "        else:\n",
    "        #path = [curr_loi,curr_loi]\n",
    "            path.reverse() # reverse so closest wp is last so that pop() is cheap , waypoint\n",
    "            curr_wp = None\n",
    "            logging.getLogger('Main').info('Path planned.')\n",
    "    else:\n",
    "        # There is a current LOI objective.\n",
    "        # Continue with navigation along current path.\n",
    "        if path:\n",
    "            # Get next waypoint\n",
    "            if not curr_wp:\n",
    "                curr_wp = path.pop()\n",
    "                logging.getLogger('Navigation').info('New waypoint: {}'.format(curr_wp))\n",
    "\n",
    "            #logging.getLogger('Navigation').info('Calculating angle')\n",
    "            # Calculate distance and heading to waypoint\n",
    "            dist_to_wp = euclidean_distance(pose, curr_wp)\n",
    "            ang_to_wp = np.degrees(np.arctan2(curr_wp[1]-pose[1], curr_wp[0]-pose[0]))\n",
    "            ang_diff = -(ang_to_wp - pose[2]) # body frame\n",
    "\n",
    "            # ensure ang_diff is in [-180, 180]\n",
    "            if ang_diff < -180:\n",
    "                ang_diff += 360\n",
    "\n",
    "            if ang_diff > 180:\n",
    "                ang_diff -= 360\n",
    "\n",
    "            #logging.getLogger('Navigation').info('ang_to_wp: {}, hdg: {}, ang_diff: {}'.format(ang_to_wp, pose[2], ang_diff))\n",
    "            #logging.getLogger('Navigation').info('Pose: {}'.format(pose))\n",
    "            \n",
    "            # Consider waypoint reached if within a threshold distance\n",
    "            if dist_to_wp < REACHED_THRESHOLD_M:\n",
    "                logging.getLogger('Navigation').info('Reached wp: {}'.format(curr_wp))\n",
    "                tracker.reset()\n",
    "                curr_wp = None\n",
    "                continue\n",
    "\n",
    "            # Determine velocity commands given distance and heading to waypoint\n",
    "            vel_cmd = tracker.update((dist_to_wp, ang_diff))\n",
    "\n",
    "            #logging.getLogger('Navigation').info('dist: {} ang:{} vel:{}'.format(dist_to_wp,ang_diff,vel_cmd))\n",
    "            \n",
    "            # reduce x velocity\n",
    "            vel_cmd[0] *= np.cos(np.radians(ang_diff))\n",
    "\n",
    "            # If robot is facing the wrong direction, turn to face waypoint first before\n",
    "            # moving forward.\n",
    "            if abs(ang_diff) > ANGLE_THRESHOLD_DEG:\n",
    "                vel_cmd[0] = 0.0\n",
    "\n",
    "            # Send command to robot\n",
    "            robot.chassis.drive_speed(x=vel_cmd[0], z=vel_cmd[1])\n",
    "\n",
    "        else:\n",
    "            logging.getLogger('Navigation').info('End of path.')\n",
    "            curr_loi = None\n",
    "\n",
    "            # TODO: Perform search behaviour? Participant to complete.\n",
    "\n",
    "            continue\n",
    "\n",
    "robot.chassis.drive_speed(x=0.0, y=0.0, z=0.0)  # set stop for safety\n",
    "logging.getLogger('Main').info('Mission Terminated.')"
   ]
  },
  {
   "cell_type": "code",
   "execution_count": 9,
   "id": "72895622",
   "metadata": {
    "pycharm": {
     "name": "#%%\n"
    }
   },
   "outputs": [
    {
     "data": {
      "text/plain": [
       "False"
      ]
     },
     "execution_count": 9,
     "metadata": {},
     "output_type": "execute_result"
    }
   ],
   "source": [
    "robot.chassis.drive_speed(x=0.0, y=0.0, z=0.0)"
   ]
  },
  {
   "cell_type": "markdown",
   "metadata": {
    "collapsed": false,
    "pycharm": {
     "name": "#%% md\n"
    }
   },
   "source": [
    "# Below: Random working"
   ]
  },
  {
   "cell_type": "code",
   "execution_count": null,
   "metadata": {
    "collapsed": false,
    "pycharm": {
     "name": "#%%\n"
    }
   },
   "outputs": [],
   "source": [
    "fig, ax = plt.subplots(1,3,figsize=(12,30))\n",
    "ax[0].imshow(plt.imread(\"data/maps/map_complex_1cm.png\"))\n",
    "ax[0].title.set_text(\"Input map\")\n",
    "ax[1].imshow(map_.grid>0)\n",
    "ax[1].title.set_text(\"map._grid>0 (indicates passable)\")\n",
    "ax[2].imshow(map_.grid)\n",
    "ax[2].title.set_text(\"map._grid\")"
   ]
  },
  {
   "cell_type": "markdown",
   "metadata": {
    "collapsed": false,
    "pycharm": {
     "name": "#%% md\n"
    }
   },
   "source": [
    "## Test planner manually"
   ]
  },
  {
   "cell_type": "code",
   "execution_count": null,
   "metadata": {
    "collapsed": false,
    "pycharm": {
     "name": "#%%\n"
    }
   },
   "outputs": [],
   "source": [
    "myplanner = MyPlanner(map_, waypoint_sparsity = 1, optimize_threshold=5)\n",
    "curr_loi = RealLocation(x=1.0, y=2.5)\n",
    "pose = RealPose(x=2.8, y=1.0, z=0.0)"
   ]
  },
  {
   "cell_type": "code",
   "execution_count": null,
   "metadata": {
    "collapsed": false,
    "pycharm": {
     "name": "#%%\n"
    }
   },
   "outputs": [],
   "source": [
    "import time\n",
    "start = time.time()\n",
    "path = None #Needed or path will be taken as a local variable in try\n",
    "path = myplanner.plan(pose[:2], curr_loi)\n",
    "end = time.time()\n",
    "print(end - start)"
   ]
  },
  {
   "cell_type": "code",
   "execution_count": null,
   "metadata": {
    "collapsed": false,
    "pycharm": {
     "name": "#%%\n"
    }
   },
   "outputs": [],
   "source": [
    "import time\n",
    "start = time.time()\n",
    "pose = myplanner.get_explore(pose[:2], debug=True)\n",
    "end = time.time()\n",
    "print(end - start)\n"
   ]
  },
  {
   "cell_type": "code",
   "execution_count": null,
   "id": "tribal-score",
   "metadata": {
    "pycharm": {
     "name": "#%%\n"
    }
   },
   "outputs": [],
   "source": []
  },
  {
   "cell_type": "code",
   "execution_count": null,
   "id": "unnecessary-journalist",
   "metadata": {
    "pycharm": {
     "name": "#%%\n"
    }
   },
   "outputs": [],
   "source": []
  }
 ],
 "metadata": {
  "kernelspec": {
   "display_name": "Python 3.8.10 64-bit",
   "language": "python",
   "name": "python3"
  },
  "language_info": {
   "codemirror_mode": {
    "name": "ipython",
    "version": 3
   },
   "file_extension": ".py",
   "mimetype": "text/x-python",
   "name": "python",
   "nbconvert_exporter": "python",
   "pygments_lexer": "ipython3",
   "version": "3.8.10"
  },
  "vscode": {
   "interpreter": {
    "hash": "e7370f93d1d0cde622a1f8e1c04877d8463912d04d973331ad4851f04de6915a"
   }
  }
 },
 "nbformat": 4,
 "nbformat_minor": 5
}