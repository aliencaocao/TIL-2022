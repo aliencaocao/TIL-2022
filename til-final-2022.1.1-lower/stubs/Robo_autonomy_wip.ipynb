{
 "cells": [
  {
   "cell_type": "code",
   "execution_count": null,
   "outputs": [],
   "source": [
    "from typing import List, Tuple, TypeVar, Dict\n",
    "import numpy as np\n",
    "from tilsdk.localization import *\n",
    "import math, pyastar2d\n",
    "\n",
    "T = TypeVar('T')\n",
    "\n",
    "def visualise_path(path, map):\n",
    "    pathmap = map.grid.copy()\n",
    "    pathmap = pathmap > 0\n",
    "    pathmap = pathmap.astype(\"int32\")\n",
    "    gridpath = [map_.real_to_grid(x) if isinstance(x, RealLocation) else x for x in path]\n",
    "    gridpathx = [x[0] for x in gridpath]\n",
    "    gridpathy = [x[1] for x in gridpath]\n",
    "    plt.imshow(pathmap)\n",
    "    plt.scatter(gridpathx,gridpathy,c=np.arange(len(gridpathx)),cmap='Greys')\n",
    "    plt.title(\"Path: White -> start, black -> end\")\n",
    "    plt.show()\n",
    "\n",
    "\n",
    "class MyPlanner:\n",
    "    def __init__(self, map_: SignedDistanceGrid = None, waypoint_sparsity=0.5, optimize_threshold=3, consider=4, biggrid_size=0.5):\n",
    "        '''\n",
    "        Parameters\n",
    "        ----------\n",
    "        map : SignedDistanceGrid\n",
    "            Distance grid map\n",
    "        sdf_weight: float\n",
    "            Relative weight of distance in cost function.\n",
    "        waypoint_sparsity: float\n",
    "            0.5 results in every 50th waypoint being taken at scale=0.01 and 10th at scale=0.05\n",
    "        consider: float\n",
    "            For the get_explore function only. See there for more details.\n",
    "        biggrid_size:\n",
    "            Divide the grid into squares of side length biggrid_size m.\n",
    "            When there are no clues, the planner will try to explore every square of this big grid.\n",
    "        '''\n",
    "        # ALL grids (including big_grid use [y][x] convention)\n",
    "        self.optimize_threshold = optimize_threshold\n",
    "        self.map = map_\n",
    "        self.bgrid = self.transform_add_border(map_.grid.copy())  # Grid which takes the borders into account\n",
    "        self.astar_grid = self.transform_for_astar(self.bgrid.copy())\n",
    "        self.waypoint_sparsity = waypoint_sparsity\n",
    "        self.biggrid_size = biggrid_size\n",
    "        self.bg_idim = math.ceil(5 / biggrid_size)  # i:y\n",
    "        self.bg_jdim = math.ceil(7 / biggrid_size)  # j:x\n",
    "        self.big_grid = [[0 for j in range(self.bg_jdim)] for i in range(self.bg_idim)]  # Big_grid stores whether each 0.5*0.5m tile of the arena has been visited\n",
    "        self.big_grid_centre = [[0 for j in range(self.bg_jdim)] for i in range(self.bg_idim)]\n",
    "        self.consider = consider\n",
    "        self.passable = self.map.grid > 0\n",
    "\n",
    "        for i in range(self.bg_idim):\n",
    "            for j in range(self.bg_jdim):\n",
    "                # Find closest free location to centre of this cell\n",
    "                y_pos = min(4.9, i * self.biggrid_size + self.biggrid_size / 2)\n",
    "                x_pos = min(6.9, j * self.biggrid_size + self.biggrid_size / 2)\n",
    "\n",
    "                grid_loc = self.map.real_to_grid(RealLocation(x_pos, y_pos))\n",
    "                grid_loc = grid_loc[1], grid_loc[0]\n",
    "                nc = self.nearest_clear(grid_loc, self.passable)\n",
    "                # If the closest free location to the entre of the cell is in another cell,\n",
    "                # ignore this cell by marking it as visited\n",
    "                # This doesn't happen though\n",
    "                nc = nc[1], nc[0]\n",
    "                nc = self.map.grid_to_real(nc)\n",
    "                # print(\"gridctr\",RealLocation(x_pos,y_pos),\"nc\",nc)\n",
    "                if self.big_grid_of(nc) != (j, i):\n",
    "                    self.big_grid[i][j] = 1\n",
    "                else:\n",
    "                    self.big_grid_centre[i][j] = nc\n",
    "\n",
    "    def transform_add_border(self, og_grid):\n",
    "        grid = og_grid.copy()\n",
    "        a, b = grid.shape\n",
    "        for i in range(a):\n",
    "            for j in range(b):\n",
    "                grid[i][j] = min(grid[i][j], i + 1, a - i, j + 1, b - j)\n",
    "        return grid\n",
    "\n",
    "    def transform_for_astar(self, grid):\n",
    "        # Possible to edit this transform if u want\n",
    "        k = 100  # tune this for sensitive to stay away from wall. Lower means less sensitive -> allow closer to walls\n",
    "        grid2 = grid.copy()\n",
    "        grid2[grid2 > 0] = 1 + k / (grid2[grid2 > 0])\n",
    "        grid2[grid2 <= 0] = np.inf\n",
    "        return grid2.astype(\"float32\")\n",
    "\n",
    "    def big_grid_of(self, l: RealLocation):  # Returns the big grid array indices of a real location\n",
    "        return int(l[0] // self.biggrid_size), int(l[1] // self.biggrid_size)\n",
    "\n",
    "    def visit(self, l: RealLocation):\n",
    "        indices = self.big_grid_of(l)\n",
    "        self.big_grid[indices[1]][indices[0]] = max(1, self.big_grid[indices[1]][indices[0]])\n",
    "\n",
    "    def get_explore(self, l: RealLocation, debug: bool = False):  # Call this to get a location to go to if there are no locations of interest left\n",
    "        # debug: Whether to plot maps and show info\n",
    "        # consider (in __init__): Consider the astar paths of this number of closest unvisited cells by euclidean distance\n",
    "        # Larger number gives better performance but slower\n",
    "        m = 100\n",
    "        for i in range(self.bg_idim):\n",
    "            for j in range(self.bg_jdim):\n",
    "                m = min(m, self.big_grid[i][j])\n",
    "        if m == 1:  # Can comment out this part if u want the robot to vroom around infinitely\n",
    "            return None\n",
    "\n",
    "        distance = []\n",
    "        for i in range(self.bg_idim):\n",
    "            for j in range(self.bg_jdim):\n",
    "                if self.big_grid[i][j] == m:\n",
    "                    distance.append((self.heuristic(self.big_grid_centre[i][j], l), (i, j)))\n",
    "        distance.sort()\n",
    "\n",
    "        if len(distance) == 0:\n",
    "            return None\n",
    "\n",
    "        distance = distance[:min(self.consider, len(distance))]\n",
    "        for i in range(len(distance)):\n",
    "            loc = self.big_grid_centre[distance[i][1][0]][distance[i][1][1]]\n",
    "            if debug:\n",
    "                print(\"l, loc:\", l, loc)\n",
    "            path = self.plan(l, loc, whole_path=True, display=debug)\n",
    "            distance[i] = (1e18 if path is None else len(path), distance[i][1])\n",
    "            if debug:\n",
    "                print(\"Path length:\", distance[i][0])\n",
    "\n",
    "        distance.sort()\n",
    "        if debug:\n",
    "            print(\"Closest guys\", distance[:min(5, len(distance))])\n",
    "\n",
    "        closest = distance[0]\n",
    "        self.big_grid[closest[1][0]][closest[1][1]] += 1\n",
    "\n",
    "        if debug:\n",
    "            plt.imshow(self.big_grid)\n",
    "            plt.title(\"Big grid now\")\n",
    "            plt.show()\n",
    "        return self.big_grid_centre[closest[1][0]][closest[1][1]]\n",
    "\n",
    "    def heuristic(self, a: GridLocation, b: GridLocation) -> float:\n",
    "        '''Planning heuristic function.\n",
    "        Parameters\n",
    "        ----------\n",
    "        a: GridLocation\n",
    "            Starting location.\n",
    "        b: GridLocation\n",
    "            Goal location.\n",
    "        '''\n",
    "        return euclidean_distance(a, b)\n",
    "\n",
    "    def nearest_clear(self, loc, passable):\n",
    "        '''Utility function to find the nearest clear cell to a blocked cell'''\n",
    "        if not passable[loc]:\n",
    "            best = (1e18, (-1, -1))\n",
    "            for i in range(map_.height):  # y\n",
    "                for j in range(map_.width):  # x\n",
    "                    if map_.grid[(i, j)] > 0:\n",
    "                        best = min(best, (self.heuristic(GridLocation(i, j), loc), (i, j)))\n",
    "            loc = best[1]\n",
    "        return loc\n",
    "\n",
    "    def plan(self, start: RealLocation, goal: RealLocation, whole_path: bool = False, display: bool = True) -> List[RealLocation]:\n",
    "        '''Plan in real coordinates.\n",
    "\n",
    "        Raises NoPathFileException path is not found.\n",
    "\n",
    "        Parameters\n",
    "        ----------\n",
    "        start: RealLocation\n",
    "            Starting location.\n",
    "        goal: RealLocation\n",
    "            Goal location.\n",
    "        whole_path:\n",
    "            Whether to return the whole path instead of version with select waypoints\n",
    "        display:\n",
    "            Whether to visualise the path\n",
    "\n",
    "        Returns\n",
    "        -------\n",
    "        path\n",
    "            List of RealLocation from start to goal.\n",
    "        '''\n",
    "\n",
    "        path = self.plan_grid(self.map.real_to_grid(start), self.map.real_to_grid(goal), whole_path)\n",
    "        if path is None:\n",
    "            return path\n",
    "        if display:\n",
    "            visualise_path(path, self.map)\n",
    "        path = [self.map.grid_to_real(wp) for wp in path]\n",
    "        return path\n",
    "\n",
    "    def plan_grid(self, start: GridLocation, goal: GridLocation, whole_path: bool = False, debug=False) -> List[GridLocation]:\n",
    "        '''Plan in grid coordinates.\n",
    "\n",
    "        Raises NoPathFileException path is not found.\n",
    "\n",
    "        Parameters\n",
    "        ----------\n",
    "        start: GridLocation\n",
    "            Starting location.\n",
    "        goal: GridLocation\n",
    "            Goal location.\n",
    "        whole_path:\n",
    "            Whether to return the whole path instead of version with select waypoints\n",
    "        debug:\n",
    "            Whether to print start and end locations\n",
    "        Returns\n",
    "        -------\n",
    "        path\n",
    "            List of GridLocation from start to goal.\n",
    "        '''\n",
    "\n",
    "        if not self.map:\n",
    "            raise RuntimeError('Planner map is not initialized.')\n",
    "\n",
    "        start = start[1], start[0]\n",
    "        goal = goal[1], goal[0]  # Use i=x,j=y convention for convenience\n",
    "        passable = self.map.grid > 0\n",
    "\n",
    "        if debug:\n",
    "            print(\"original start\", start)\n",
    "            print(\"original goal\", goal)\n",
    "        start = self.nearest_clear(start, passable)\n",
    "        goal = self.nearest_clear(goal, passable)\n",
    "        if debug:\n",
    "            print(\"start\", start)\n",
    "            print(\"goal\", goal)\n",
    "\n",
    "        # astar\n",
    "        path = pyastar2d.astar_path(self.astar_grid, start, goal, allow_diagonal=True)\n",
    "        if path is None:\n",
    "            return None\n",
    "        coeff = int(self.waypoint_sparsity / self.map.scale)  # default sparsity 0.5 --> 50 for 0.01, 10 for 0.05\n",
    "        path = list(path)\n",
    "        path = [(x[1], x[0]) for x in path]\n",
    "        if whole_path:\n",
    "            return path\n",
    "        coeff = max(coeff, 1)\n",
    "        path = path[:1] + path[:-1:coeff] + path[-1:]  # Take the 1st, last, and every 20th waypoint in the middle\n",
    "        path.append(path[-1])  # Duplicate last waypoint to avoid bug in main loop\n",
    "        return self.optimize_path(path)\n",
    "\n",
    "    def optimize_path(self, path: List[GridLocation]) -> List[GridLocation]:\n",
    "        new_path = [path[0]]  # starting point always in path\n",
    "        for i in range(1, len(path) - 1, 1):\n",
    "            if not ((abs(path[i - 1][0] - path[i][0]) < self.optimize_threshold and abs(path[i][0] - path[i + 1][0]) < self.optimize_threshold) or\n",
    "                    (abs(path[i - 1][1] - path[i][1]) < self.optimize_threshold and abs(path[i][1] - path[i + 1][1]) < self.optimize_threshold)):  # 3 consecutive points are on a straight line in either x or y direction\n",
    "                new_path.append(path[i])\n",
    "        new_path.append(path[-1])  # add last point\n",
    "        return new_path"
   ],
   "metadata": {
    "collapsed": false,
    "pycharm": {
     "name": "#%%\n"
    }
   }
  },
  {
   "cell_type": "code",
   "execution_count": null,
   "outputs": [],
   "source": [
    "import logging\n",
    "from typing import List\n",
    "\n",
    "from tilsdk import *                                            # import the SDK\n",
    "from tilsdk.utilities import PIDController, SimpleMovingAverage # import optional useful things\n",
    "from tilsdk.mock_robomaster.robot import Robot                  # Use this for the simulator\n",
    "# from robomaster.robot import Robot                             # Use this for real robot\n",
    "\n",
    "# Import your code\n",
    "#from stubs.cv_service import MockCVService #,CVService\n",
    "from stubs.nlp_service import NLPService, MockNLPService\n",
    "from stubs.planner import Planner\n",
    "import pyastar2d\n",
    "import copy"
   ],
   "metadata": {
    "collapsed": false,
    "pycharm": {
     "name": "#%%\n"
    }
   }
  },
  {
   "cell_type": "code",
   "execution_count": null,
   "outputs": [],
   "source": [
    "# Setup logging in a nice readable format\n",
    "logging.basicConfig(level=logging.INFO,\n",
    "                format='[%(levelname)5s][%(asctime)s][%(name)s]: %(message)s',\n",
    "                datefmt='%H:%M:%S')\n",
    "\n",
    "# Define config variables in an easily accessible location\n",
    "# You may consider using a config file\n",
    "REACHED_THRESHOLD_M = 0.3   # TODO: Participant may tune.\n",
    "ANGLE_THRESHOLD_DEG = 20.0  # TODO: Participant may tune.\n",
    "ROBOT_RADIUS_M = 0.17       # TODO: Participant may tune.\n",
    "NLP_MODEL_DIR = '../model.onnx'          # TODO: Participant to fill in.\n",
    "NLP_PREPROCESSOR_DIR = '../finals_audio_model/'          # TODO: Participant to fill in.\n",
    "CV_MODEL_DIR = ''           # TODO: Participant to fill in.\n",
    "\n",
    "# Convenience function to update locations of interest.\n",
    "def update_locations(old:List[RealLocation], new:List[RealLocation]) -> None:\n",
    "    '''Update locations with no duplicates.'''\n",
    "    if new:\n",
    "        for loc in new:\n",
    "            if loc not in old:\n",
    "                logging.getLogger('update_locations').info('New location of interest: {}'.format(loc))\n",
    "                old.append(loc)"
   ],
   "metadata": {
    "collapsed": false,
    "pycharm": {
     "name": "#%%\n"
    }
   }
  },
  {
   "cell_type": "code",
   "execution_count": null,
   "outputs": [],
   "source": [
    "# Initialize services\n",
    "# cv_service = CVService(model_dir=CV_MODEL_DIR)\n",
    "\n",
    "#cv_service = MockCVService(model_dir=CV_MODEL_DIR)\n",
    "\n",
    "#nlp_service = NLPService(model_dir=NLP_MODEL_DIR, preprocessor_dir=NLP_PREPROCESSOR_DIR)\n",
    "nlp_service = MockNLPService(model_dir=NLP_MODEL_DIR)\n",
    "\n",
    "loc_service = LocalizationService(host='localhost', port=5566)\n",
    "\n",
    "#rep_service = ReportingService(host='localhost', port=5501)\n",
    "# Start the run\n",
    "#rep_service.start_run()\n",
    "\n",
    "robot = Robot()\n",
    "robot.initialize(conn_type=\"sta\")\n",
    "robot.camera.start_video_stream(display=False, resolution='720p')"
   ],
   "metadata": {
    "collapsed": false,
    "pycharm": {
     "name": "#%%\n"
    }
   }
  },
  {
   "cell_type": "code",
   "execution_count": null,
   "outputs": [],
   "source": [
    "# Initialize planner\n",
    "map_:SignedDistanceGrid = loc_service.get_map()\n",
    "map_ = map_.dilated(1.5*ROBOT_RADIUS_M/map_.scale)\n",
    "planner = MyPlanner(map_, waypoint_sparsity=0.4, optimize_threshold=3, biggrid_size=0.8)\n",
    "\n",
    "# Initialize variables\n",
    "seen_clues = set()\n",
    "curr_loi:RealLocation = None\n",
    "path:List[RealLocation] = []\n",
    "lois:List[RealLocation] = []\n",
    "curr_wp:RealLocation = None\n",
    "\n",
    "# Initialize pose filter\n",
    "pose_filter = SimpleMovingAverage(n=10)\n",
    "\n",
    "# Define filter function to exclude clues seen before   \n",
    "new_clues = lambda c: c.clue_id not in seen_clues"
   ],
   "metadata": {
    "collapsed": false,
    "pycharm": {
     "name": "#%%\n"
    }
   }
  },
  {
   "cell_type": "code",
   "execution_count": null,
   "outputs": [],
   "source": [
    "#Tune here\n",
    "tracker = PIDController(Kp=(0.4, 0.2), Kd=(0.2, 0.1), Ki=(0.0, 0.0)) #first: displacement, second: angle"
   ],
   "metadata": {
    "collapsed": false,
    "pycharm": {
     "name": "#%%\n"
    }
   }
  },
  {
   "cell_type": "code",
   "execution_count": null,
   "outputs": [],
   "source": [
    "# Main loop\n",
    "while True:\n",
    "    # Get new data\n",
    "    pose, clues = loc_service.get_pose()\n",
    "    pose = pose_filter.update(pose)\n",
    "    img = robot.camera.read_cv2_image(strategy='newest')\n",
    "    if not pose:\n",
    "        # no new data, continue to next iteration.\n",
    "        continue\n",
    "\n",
    "    #Set this location as visited in the planner (so no need to visit here again if there are no clues)    \n",
    "    #planner.visit(pose[:2])\n",
    "    \n",
    "    # Filter out clues that were seen before\n",
    "    clues = filter(new_clues, clues)\n",
    "\n",
    "    # Process clues using NLP and determine any new locations of interest\n",
    "    if clues:\n",
    "        clues=list(clues) #It bugs without this\n",
    "        new_lois = nlp_service.locations_from_clues(clues) #new locations of interest\n",
    "        if len(new_lois):\n",
    "            logging.getLogger('Main').info('New location(s) of interest: {}.'.format(new_lois))\n",
    "        update_locations(lois, new_lois)\n",
    "        seen_clues.update([c.clue_id for c in clues])\n",
    "\n",
    "    \"\"\"    # Process image and detect targets\n",
    "    targets = cv_service.targets_from_image(img)\n",
    "\n",
    "    # Submit targets\n",
    "    if targets:\n",
    "        logging.getLogger('Main').info('{} targets detected.'.format(len(targets)))\n",
    "        #logging.getLogger('Reporting').info(rep_service.report(pose, img, targets))\n",
    "    \"\"\"\n",
    "    if not curr_loi:\n",
    "        if len(lois) == 0:\n",
    "            logging.getLogger('Main').info('No more locations of interest.')\n",
    "            explore_next = planner.get_explore(pose[:2])\n",
    "            if type(explore_next) == type(None):\n",
    "                logging.getLogger('Main').info('Whole map explored. Terminating.')\n",
    "                break\n",
    "            plt.imshow(planner.big_grid)\n",
    "            plt.title(\"Places explored. Next: green, robo location: blue\")\n",
    "            plt.scatter(explore_next[0]/planner.biggrid_size-planner.biggrid_size,explore_next[1]/planner.biggrid_size-planner.biggrid_size,c=\"green\")\n",
    "            plt.scatter(pose[0]/planner.biggrid_size-planner.biggrid_size,pose[1]/planner.biggrid_size-planner.biggrid_size,c=\"blue\")\n",
    "            plt.show()\n",
    "            lois.append(explore_next)\n",
    "            #break\n",
    "            \n",
    "        # Get new LOI\n",
    "        lois.sort(key=lambda l: euclidean_distance(l, pose), reverse=True)\n",
    "        curr_loi = lois.pop()\n",
    "        logging.getLogger('Main').info('Current LOI set to: {}'.format(curr_loi))\n",
    "\n",
    "        # Plan a path to the new LOI\n",
    "        logging.getLogger('Main').info('Planning path to: {}'.format(curr_loi))\n",
    "\n",
    "        path = planner.plan(pose[:2], curr_loi)\n",
    "        if type(path) == type(None):\n",
    "            logging.getLogger('Main').info('No possible path found, location skipped')\n",
    "            #print(\"lois\",lois)\n",
    "            #print(\"seen:\",seen_clues)\n",
    "            curr_loi = None\n",
    "        else:\n",
    "        #path = [curr_loi,curr_loi]\n",
    "            path.reverse() # reverse so closest wp is last so that pop() is cheap , waypoint\n",
    "            curr_wp = None\n",
    "            logging.getLogger('Main').info('Path planned.')\n",
    "    else:\n",
    "        # There is a current LOI objective.\n",
    "        # Continue with navigation along current path.\n",
    "        if path:\n",
    "            # Get next waypoint\n",
    "            if not curr_wp:\n",
    "                curr_wp = path.pop()\n",
    "                logging.getLogger('Navigation').info('New waypoint: {}'.format(curr_wp))\n",
    "\n",
    "            #logging.getLogger('Navigation').info('Calculating angle')\n",
    "            # Calculate distance and heading to waypoint\n",
    "            dist_to_wp = euclidean_distance(pose, curr_wp)\n",
    "            ang_to_wp = np.degrees(np.arctan2(curr_wp[1]-pose[1], curr_wp[0]-pose[0]))\n",
    "            ang_diff = -(ang_to_wp - pose[2]) # body frame\n",
    "\n",
    "            # ensure ang_diff is in [-180, 180]\n",
    "            if ang_diff < -180:\n",
    "                ang_diff += 360\n",
    "\n",
    "            if ang_diff > 180:\n",
    "                ang_diff -= 360\n",
    "\n",
    "            #logging.getLogger('Navigation').info('ang_to_wp: {}, hdg: {}, ang_diff: {}'.format(ang_to_wp, pose[2], ang_diff))\n",
    "            #logging.getLogger('Navigation').info('Pose: {}'.format(pose))\n",
    "            \n",
    "            # Consider waypoint reached if within a threshold distance\n",
    "            logging.getLogger('Navigation').info('End of path.')\n",
    "            curr_loi = None\n",
    "\n",
    "            # TODO: Perform search behaviour? Participant to complete.\n",
    "\n",
    "            continue\n",
    "\n",
    "robot.chassis.drive_speed(x=0.0, y=0.0, z=0.0)  # set stop for safety\n",
    "logging.getLogger('Main').info('Mission Terminated.')"
   ],
   "metadata": {
    "collapsed": false,
    "pycharm": {
     "name": "#%%\n"
    }
   }
  },
  {
   "cell_type": "markdown",
   "source": [
    "# Below: Random working"
   ],
   "metadata": {
    "collapsed": false,
    "pycharm": {
     "name": "#%% md\n"
    }
   }
  },
  {
   "cell_type": "code",
   "execution_count": null,
   "outputs": [],
   "source": [
    "fig, ax = plt.subplots(1,3,figsize=(12,30))\n",
    "ax[0].imshow(plt.imread(\"data/maps/map_complex_1cm.png\"))\n",
    "ax[0].title.set_text(\"Input map\")\n",
    "ax[1].imshow(map_.grid>0)\n",
    "ax[1].title.set_text(\"map._grid>0 (indicates passable)\")\n",
    "ax[2].imshow(map_.grid)\n",
    "ax[2].title.set_text(\"map._grid\")"
   ],
   "metadata": {
    "collapsed": false,
    "pycharm": {
     "name": "#%%\n"
    }
   }
  },
  {
   "cell_type": "markdown",
   "source": [
    "## Test planner manually"
   ],
   "metadata": {
    "collapsed": false,
    "pycharm": {
     "name": "#%% md\n"
    }
   }
  },
  {
   "cell_type": "code",
   "execution_count": null,
   "outputs": [],
   "source": [],
   "metadata": {
    "collapsed": false,
    "pycharm": {
     "name": "#%%\n"
    }
   }
  },
  {
   "cell_type": "code",
   "execution_count": null,
   "outputs": [],
   "source": [
    "myplanner = MyPlanner(map_, waypoint_sparsity = 1, optimize_threshold=5, biggrid_size=4.99)\n",
    "#curr_loi = RealLocation(x=1.0, y=2.5)\n",
    "pose = RealPose(x=0.5, y=4.0, z=0.0)"
   ],
   "metadata": {
    "collapsed": false,
    "pycharm": {
     "name": "#%%\n"
    }
   }
  },
  {
   "cell_type": "code",
   "execution_count": null,
   "outputs": [],
   "source": [
    "import time\n",
    "start = time.time()\n",
    "pose = myplanner.get_explore(pose[:2], debug=True)\n",
    "end = time.time()\n",
    "print(end - start)\n"
   ],
   "metadata": {
    "collapsed": false,
    "pycharm": {
     "name": "#%%\n"
    }
   }
  },
  {
   "cell_type": "code",
   "execution_count": null,
   "outputs": [],
   "source": [
    "for i in range(50):\n",
    "    pose = myplanner.get_explore(pose[:2], debug=False)"
   ],
   "metadata": {
    "collapsed": false,
    "pycharm": {
     "name": "#%%\n"
    }
   }
  },
  {
   "cell_type": "code",
   "execution_count": null,
   "outputs": [],
   "source": [
    "pose = myplanner.get_explore(pose[:2], debug=False)"
   ],
   "metadata": {
    "collapsed": false,
    "pycharm": {
     "name": "#%%\n"
    }
   }
  },
  {
   "cell_type": "code",
   "execution_count": null,
   "outputs": [],
   "source": [],
   "metadata": {
    "collapsed": false,
    "pycharm": {
     "name": "#%%\n"
    }
   }
  },
  {
   "cell_type": "code",
   "execution_count": null,
   "outputs": [],
   "source": [
    "myplanner.visit(RealLocation(x=6.92423,y=4.8453489))"
   ],
   "metadata": {
    "collapsed": false,
    "pycharm": {
     "name": "#%%\n"
    }
   }
  },
  {
   "cell_type": "code",
   "execution_count": null,
   "outputs": [],
   "source": [
    "myplanner.big_grid"
   ],
   "metadata": {
    "collapsed": false,
    "pycharm": {
     "name": "#%%\n"
    }
   }
  },
  {
   "cell_type": "code",
   "execution_count": null,
   "outputs": [],
   "source": [
    "myplanner.big_grid_centre"
   ],
   "metadata": {
    "collapsed": false,
    "pycharm": {
     "name": "#%%\n"
    }
   }
  },
  {
   "cell_type": "code",
   "execution_count": null,
   "outputs": [],
   "source": [
    "myplanner.get_explore(pose[:2])"
   ],
   "metadata": {
    "collapsed": false,
    "pycharm": {
     "name": "#%%\n"
    }
   }
  },
  {
   "cell_type": "code",
   "execution_count": null,
   "outputs": [],
   "source": [
    "plt.imshow(myplanner.big_grid)\n",
    "#1 unit = 0.5m, so *2 from the real coordinates\n",
    "#Plt thinks that box 0,0 represents box -0.5,-0.5 to 0.5,0.5\n",
    "#But actually it represents 0,0 to 1,1\n",
    "#For an accurate visualisation, -0.5 (Still quite scammy yes)\n",
    "#plt.scatter(12,8,c=\"blue\")\n",
    "#plt.scatter(1*2-0.5,1*2-0.5,c=\"red\")\n",
    "plt.show()"
   ],
   "metadata": {
    "collapsed": false,
    "pycharm": {
     "name": "#%%\n"
    }
   }
  },
  {
   "cell_type": "code",
   "execution_count": null,
   "outputs": [],
   "source": [],
   "metadata": {
    "collapsed": false,
    "pycharm": {
     "name": "#%%\n"
    }
   }
  },
  {
   "cell_type": "code",
   "execution_count": null,
   "outputs": [],
   "source": [
    "import time\n",
    "start = time.time()\n",
    "path = None #Needed or path will be taken as a local variable in try\n",
    "path = myplanner.plan(pose[:2], curr_loi)\n",
    "end = time.time()\n",
    "print(end - start)"
   ],
   "metadata": {
    "collapsed": false,
    "pycharm": {
     "name": "#%%\n"
    }
   }
  },
  {
   "cell_type": "code",
   "execution_count": 102,
   "id": "short-framing",
   "metadata": {},
   "outputs": [],
   "source": [
    "myplanner.visit(RealLocation(x=6.92423,y=4.8453489))"
   ]
  },
  {
   "cell_type": "code",
   "execution_count": 40,
   "id": "current-curtis",
   "metadata": {
    "scrolled": true
   },
   "outputs": [
    {
     "data": {
      "text/plain": [
       "[[1, 1], [1, 1]]"
      ]
     },
     "execution_count": 40,
     "metadata": {},
     "output_type": "execute_result"
    }
   ],
   "source": [
    "myplanner.big_grid"
   ]
  },
  {
   "cell_type": "code",
   "execution_count": 31,
   "id": "removed-budapest",
   "metadata": {
    "scrolled": false
   },
   "outputs": [
    {
     "data": {
      "text/plain": [
       "[[RealLocation(x=2.5, y=2.5), RealLocation(x=6.6000000000000005, y=2.5)],\n",
       " [0, 0]]"
      ]
     },
     "execution_count": 31,
     "metadata": {},
     "output_type": "execute_result"
    }
   ],
   "source": [
    "myplanner.big_grid_centre"
   ]
  },
  {
   "cell_type": "code",
   "execution_count": 35,
   "id": "apparent-heather",
   "metadata": {},
   "outputs": [
    {
     "data": {
      "text/plain": [
       "RealLocation(x=2.5, y=2.5)"
      ]
     },
     "execution_count": 35,
     "metadata": {},
     "output_type": "execute_result"
    }
   ],
   "source": [
    "myplanner.get_explore(pose[:2])"
   ]
  },
  {
   "cell_type": "code",
   "execution_count": 28,
   "id": "growing-dubai",
   "metadata": {
    "pycharm": {
     "name": "#%%\n"
    },
    "scrolled": false
   },
   "outputs": [
    {
     "data": {
      "image/png": "[encoded data removed]",
      "text/plain": [
       "<Figure size 432x288 with 1 Axes>"
      ]
     },
     "metadata": {
      "needs_background": "light"
     },
     "output_type": "display_data"
    }
   ],
   "source": [
    "plt.imshow(myplanner.big_grid)\n",
    "#1 unit = 0.5m, so *2 from the real coordinates\n",
    "#Plt thinks that box 0,0 represents box -0.5,-0.5 to 0.5,0.5\n",
    "#But actually it represents 0,0 to 1,1\n",
    "#For an accurate visualisation, -0.5 (Still quite scammy yes)\n",
    "#plt.scatter(12,8,c=\"blue\")\n",
    "#plt.scatter(1*2-0.5,1*2-0.5,c=\"red\")\n",
    "plt.show()"
   ]
  },
  {
   "cell_type": "code",
   "execution_count": null,
   "id": "tribal-score",
   "metadata": {},
   "outputs": [],
   "source": []
  },
  {
   "cell_type": "code",
   "execution_count": null,
   "id": "unnecessary-journalist",
   "metadata": {},
   "outputs": [],
   "source": [
    "import time\n",
    "start = time.time()\n",
    "path = None #Needed or path will be taken as a local variable in try\n",
    "path = myplanner.plan(pose[:2], curr_loi)\n",
    "end = time.time()\n",
    "print(end - start)"
   ]
  }
 ],
 "metadata": {
  "kernelspec": {
   "display_name": "Python 3",
   "language": "python",
   "name": "python3"
  },
  "language_info": {
   "codemirror_mode": {
    "name": "ipython",
    "version": 3
   },
   "file_extension": ".py",
   "mimetype": "text/x-python",
   "name": "python",
   "nbconvert_exporter": "python",
   "pygments_lexer": "ipython3",
   "version": "3.8.8"
  }
 },
 "nbformat": 4,
 "nbformat_minor": 5
}