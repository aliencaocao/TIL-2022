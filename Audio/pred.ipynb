{
 "cells": [
  {
   "cell_type": "code",
   "execution_count": 10,
   "metadata": {
    "collapsed": true,
    "pycharm": {
     "name": "#%%\n"
    }
   },
   "outputs": [],
   "source": [
    "import os\n",
    "import shutil\n",
    "import numpy as np\n",
    "import pandas as pd\n",
    "import tensorflow as tf\n",
    "import tensorflow_io as tfio\n",
    "from tensorflow.keras import models\n",
    "import tensorflow_addons as tfa"
   ]
  },
  {
   "cell_type": "code",
   "execution_count": 11,
   "outputs": [
    {
     "name": "stdout",
     "output_type": "stream",
     "text": [
      "WARNING:tensorflow:Using a while_loop for converting IO>AudioResample\n"
     ]
    }
   ],
   "source": [
    "class_index = {0: 'angry', 1: 'fear', 2: 'happy',3: 'neutral', 4: 'sad'}\n",
    "filenames_with_path = tf.io.gfile.glob('data/TIL_test_normalized/*')\n",
    "filenames = os.listdir('data/TIL_test_normalized/')\n",
    "sample_rate = 16000\n",
    "\n",
    "\n",
    "@tf.function(jit_compile=False)\n",
    "def preprocess_val(filepath):\n",
    "      wav = tf.io.read_file(filepath)\n",
    "      wav, sr = tf.audio.decode_wav(wav, desired_channels=1)\n",
    "      wav = tf.squeeze(wav, axis=-1)\n",
    "      if no_norm: wav *= 32768.0\n",
    "      sr = tf.cast(sr, dtype=tf.int64)\n",
    "      wav = tfio.audio.resample(wav, rate_in=sr, rate_out=sample_rate)\n",
    "      spectrogram = tfio.audio.spectrogram(wav, nfft=512, window=512, stride=256)\n",
    "      mel_spectrogram = tfio.audio.melscale(spectrogram, rate=sample_rate, mels=128, fmin=80, fmax=7600)\n",
    "\n",
    "      # Augmentations\n",
    "      # mel_spectrogram = tfio.audio.freq_mask(mel_spectrogram, param=10)\n",
    "      # mel_spectrogram = tfio.audio.time_mask(mel_spectrogram, param=10)\n",
    "\n",
    "      # Resizing\n",
    "      mel_spectrogram = tf.expand_dims(mel_spectrogram, axis=-1)\n",
    "      mel_spectrogram = tf.image.resize_with_pad(mel_spectrogram, target_height=224, target_width=224, method=tf.image.ResizeMethod.BILINEAR)  # any sharper resizing method produce black gaps\n",
    "      mel_spectrogram = tf.squeeze(tf.stack([mel_spectrogram, mel_spectrogram, mel_spectrogram], axis=-1))\n",
    "      mel_spectrogram.set_shape([224, 224, 3])\n",
    "      return mel_spectrogram\n",
    "\n",
    "\n",
    "no_norm = True\n",
    "test_ds = tf.data.Dataset.from_tensor_slices(filenames_with_path).map(preprocess_val, num_parallel_calls=-1)\n",
    "test_ds = test_ds.batch(32).cache().prefetch(-1)"
   ],
   "metadata": {
    "collapsed": false,
    "pycharm": {
     "name": "#%%\n"
    }
   }
  },
  {
   "cell_type": "code",
   "execution_count": 12,
   "outputs": [],
   "source": [
    "opt = tfa.optimizers.AdamW(learning_rate=1e-3, weight_decay=5e-5)\n",
    "opt = tfa.optimizers.Lookahead(opt)\n",
    "\n",
    "model1 = models.load_model('models/regnetx032_19epoch_full_f1_5730_ranger_real5792/', compile=False, custom_objects={'Addons>Lookahead': opt})\n",
    "model2 = models.load_model('models/regnetx032_13epoch_full_f1_5295_ranger_real5239/', compile=False, custom_objects={'Addons>Lookahead': opt})\n",
    "model3 = models.load_model('models/regnetx032_14epoch_TILonly_f1_5162_ranger_real5160/', compile=False, custom_objects={'Addons>Lookahead': opt})"
   ],
   "metadata": {
    "collapsed": false,
    "pycharm": {
     "name": "#%%\n"
    }
   }
  },
  {
   "cell_type": "code",
   "execution_count": 13,
   "outputs": [
    {
     "name": "stdout",
     "output_type": "stream",
     "text": [
      "19/19 [==============================] - 3s 66ms/step\n",
      "19/19 [==============================] - 3s 72ms/step\n",
      "19/19 [==============================] - 3s 72ms/step\n"
     ]
    }
   ],
   "source": [
    "preds1 = model1.predict(test_ds)\n",
    "preds1 = tf.nn.softmax(preds1, axis=-1)\n",
    "preds2 = model2.predict(test_ds)\n",
    "preds2 = tf.nn.softmax(preds2, axis=-1)\n",
    "preds3 = model3.predict(test_ds)\n",
    "preds3 = tf.nn.softmax(preds3, axis=-1)"
   ],
   "metadata": {
    "collapsed": false,
    "pycharm": {
     "name": "#%%\n"
    }
   }
  },
  {
   "cell_type": "code",
   "execution_count": 15,
   "outputs": [],
   "source": [
    "pred = 0.8 * preds1 + 0.1 * preds2 + 0.1 * preds3\n",
    "#pred = preds1\n",
    "pred_classes = tf.argmax(pred, axis=-1).numpy()\n",
    "pred_classes = [class_index[i] for i in pred_classes]\n",
    "pred_df = pd.DataFrame({'filename': filenames, 'pred': pred_classes})\n",
    "pred_df.to_csv('submission.csv', index=False, header=None)"
   ],
   "metadata": {
    "collapsed": false,
    "pycharm": {
     "name": "#%%\n"
    }
   }
  },
  {
   "cell_type": "code",
   "execution_count": 97,
   "outputs": [
    {
     "name": "stdout",
     "output_type": "stream",
     "text": [
      "Accuracy: 53.714285714285715%\n"
     ]
    }
   ],
   "source": [
    "print(f\"Accuracy: {(len(pred_df[pred_df['pred'] == 'sad']) / len(pred_df)) * 100}%\")"
   ],
   "metadata": {
    "collapsed": false,
    "pycharm": {
     "name": "#%%\n"
    }
   }
  }
 ],
 "metadata": {
  "kernelspec": {
   "display_name": "Python 3",
   "language": "python",
   "name": "python3"
  },
  "language_info": {
   "codemirror_mode": {
    "name": "ipython",
    "version": 2
   },
   "file_extension": ".py",
   "mimetype": "text/x-python",
   "name": "python",
   "nbconvert_exporter": "python",
   "pygments_lexer": "ipython2",
   "version": "2.7.6"
  }
 },
 "nbformat": 4,
 "nbformat_minor": 0
}