{
 "cells": [
  {
   "cell_type": "code",
   "execution_count": 4,
   "metadata": {
    "collapsed": true,
    "pycharm": {
     "name": "#%%\n"
    }
   },
   "outputs": [
    {
     "data": {
      "text/plain": "['TensorrtExecutionProvider', 'CUDAExecutionProvider', 'CPUExecutionProvider']"
     },
     "execution_count": 4,
     "metadata": {},
     "output_type": "execute_result"
    }
   ],
   "source": [
    "import numpy as np\n",
    "import io\n",
    "import librosa\n",
    "import onnxruntime as ort\n",
    "from transformers import Wav2Vec2FeatureExtractor\n",
    "\n",
    "sess_options = ort.SessionOptions()\n",
    "sess_options.graph_optimization_level = ort.GraphOptimizationLevel.ORT_ENABLE_ALL\n",
    "\n",
    "ort.get_available_providers()"
   ]
  },
  {
   "cell_type": "code",
   "execution_count": 2,
   "outputs": [],
   "source": [
    "processor = Wav2Vec2FeatureExtractor.from_pretrained(\"models/finals_audio_model\")\n",
    "model = ort.InferenceSession('model.onnx', sess_options=sess_options, providers=['CUDAExecutionProvider', 'CPUExecutionProvider'])"
   ],
   "metadata": {
    "collapsed": false,
    "pycharm": {
     "name": "#%%\n"
    }
   }
  },
  {
   "cell_type": "code",
   "execution_count": 35,
   "outputs": [
    {
     "name": "stdout",
     "output_type": "stream",
     "text": [
      "[[-4.227799  4.726426]]\n"
     ]
    },
    {
     "data": {
      "text/plain": "'happy_neutral'"
     },
     "execution_count": 35,
     "metadata": {},
     "output_type": "execute_result"
    }
   ],
   "source": [
    "id2label = {\n",
    "    0: \"angry_sad\",\n",
    "    1: \"happy_neutral\"}\n",
    "\n",
    "def predict(filepath):\n",
    "    with open(filepath, 'rb') as f:\n",
    "        data = f.read()  # simulates the behavior of the TIL SDK of supplying bytes\n",
    "    speech_array, sr = librosa.load(io.BytesIO(data), sr=16000, mono=True)\n",
    "    features = processor(speech_array, sampling_rate=16000, return_tensors=\"np\")\n",
    "    onnx_outputs = model.run(None, {model.get_inputs()[0].name: features.input_values})[0]\n",
    "    print(onnx_outputs)\n",
    "    prediction = np.argmax(onnx_outputs, axis=-1)\n",
    "    return prediction.squeeze().tolist()\n",
    "\n",
    "\n",
    "id2label[predict('data/finals_combined_singaporean/happy_neutral/aeaacae349.wav')]"
   ],
   "metadata": {
    "collapsed": false,
    "pycharm": {
     "name": "#%%\n"
    }
   }
  },
  {
   "cell_type": "code",
   "execution_count": 19,
   "outputs": [
    {
     "data": {
      "text/plain": "array([ 0.00011178,  0.00182088,  0.00159959, ...,  0.00527226,\n        0.0024491 , -0.00182516], dtype=float32)"
     },
     "execution_count": 19,
     "metadata": {},
     "output_type": "execute_result"
    }
   ],
   "source": [
    "with open('data/finals_combined_singaporean/happy_neutral/aeaacae349.wav', 'rb') as f:\n",
    "    data = f.read()\n",
    "\n",
    "speech_array, sr = librosa.load(io.BytesIO(data), sr=16000, mono=True)\n",
    "features = processor(speech_array, sampling_rate=16000, return_tensors=\"np\")"
   ],
   "metadata": {
    "collapsed": false,
    "pycharm": {
     "name": "#%%\n"
    }
   }
  }
 ],
 "metadata": {
  "kernelspec": {
   "display_name": "Python 3",
   "language": "python",
   "name": "python3"
  },
  "language_info": {
   "codemirror_mode": {
    "name": "ipython",
    "version": 2
   },
   "file_extension": ".py",
   "mimetype": "text/x-python",
   "name": "python",
   "nbconvert_exporter": "python",
   "pygments_lexer": "ipython2",
   "version": "2.7.6"
  }
 },
 "nbformat": 4,
 "nbformat_minor": 0
}