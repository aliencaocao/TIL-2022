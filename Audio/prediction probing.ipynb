{
 "cells": [
  {
   "cell_type": "code",
   "execution_count": 1,
   "metadata": {
    "collapsed": true,
    "pycharm": {
     "name": "#%%\n"
    }
   },
   "outputs": [],
   "source": [
    "import os\n",
    "import glob\n",
    "import pandas as pd"
   ]
  },
  {
   "cell_type": "code",
   "execution_count": 8,
   "outputs": [],
   "source": [
    "submissions_dict = []\n",
    "for file in glob.glob('submissions/*.csv'):\n",
    "    df = pd.read_csv(file, names=['id', 'label'])\n",
    "    submissions_dict.append({os.path.basename(file).split('.')[0].split('-')[0]: df})\n",
    "submissions_dict.sort(key=lambda x: list(x.keys())[0])\n",
    "\n",
    "wavs = os.listdir('data/TIL_test_normalized')"
   ],
   "metadata": {
    "collapsed": false,
    "pycharm": {
     "name": "#%%\n"
    }
   }
  },
  {
   "cell_type": "code",
   "execution_count": 9,
   "outputs": [],
   "source": [
    "wav_preds_dict = {}\n",
    "for wav in wavs:\n",
    "    wav_preds_dict[wav] = {}\n",
    "    for submission in submissions_dict:\n",
    "        score = list(submission.keys())[0]\n",
    "        df = submission[score]\n",
    "        pred = df[df['id'] == wav]['label'].values[0]\n",
    "        try:\n",
    "            wav_preds_dict[wav][pred] += [score]\n",
    "        except KeyError:\n",
    "            wav_preds_dict[wav][pred] = [score]"
   ],
   "metadata": {
    "collapsed": false,
    "pycharm": {
     "name": "#%%\n"
    }
   }
  },
  {
   "cell_type": "code",
   "execution_count": 10,
   "outputs": [],
   "source": [
    "wav_preds_dict_scored = {}\n",
    "for wav, preds in wav_preds_dict.items():\n",
    "    wav_preds_dict_scored[wav] = {k: sum(map(int, v)) / len(submissions_dict) for k, v in preds.items()}\n",
    "\n",
    "wav_preds_dict_max_score = {}\n",
    "for wav, preds in wav_preds_dict_scored.items():\n",
    "    wav_preds_dict_max_score[wav] = max(preds, key=preds.get)"
   ],
   "metadata": {
    "collapsed": false,
    "pycharm": {
     "name": "#%%\n"
    }
   }
  },
  {
   "cell_type": "code",
   "execution_count": 12,
   "outputs": [],
   "source": [
    "ans_df = pd.DataFrame.from_dict(wav_preds_dict_max_score, orient='index')\n",
    "ans_df.to_csv('combined_without.csv', header=False)"
   ],
   "metadata": {
    "collapsed": false,
    "pycharm": {
     "name": "#%%\n"
    }
   }
  },
  {
   "cell_type": "code",
   "execution_count": 16,
   "outputs": [
    {
     "name": "stdout",
     "output_type": "stream",
     "text": [
      "0511fae35f.wav\n",
      "0a79bd9dc0.wav\n",
      "123e60142b.wav\n",
      "15b3b2d2b0.wav\n",
      "1888317cd7.wav\n",
      "1a3ba17b8b.wav\n",
      "2031a15187.wav\n",
      "2829825223.wav\n",
      "29ebb4e355.wav\n",
      "2dba08d924.wav\n",
      "3a816b0d50.wav\n",
      "54573f0f81.wav\n",
      "5a3e04eb19.wav\n",
      "75dbedaeab.wav\n",
      "877c664143.wav\n",
      "8ff6a50fbb.wav\n",
      "9d1263b826.wav\n",
      "9efef8fe7e.wav\n",
      "a4189a8711.wav\n",
      "a5e6cb0912.wav\n",
      "b9c6038815.wav\n",
      "c20419c236.wav\n",
      "c6aa7edc1d.wav\n",
      "d418ef05e5.wav\n",
      "e08ba27aa9.wav\n",
      "e7e6074ba6.wav\n",
      "f0c2a69ca5.wav\n"
     ]
    },
    {
     "data": {
      "text/plain": "27"
     },
     "execution_count": 16,
     "metadata": {},
     "output_type": "execute_result"
    }
   ],
   "source": [
    "c = 0\n",
    "for wav, preds in wav_preds_dict.items():\n",
    "    if len(preds) == 5:\n",
    "        print(wav)\n",
    "        c += 1\n",
    "\n",
    "c"
   ],
   "metadata": {
    "collapsed": false,
    "pycharm": {
     "name": "#%%\n"
    }
   }
  },
  {
   "cell_type": "code",
   "execution_count": 11,
   "outputs": [],
   "source": [
    "ans_df_new = pd.read_csv('answer-new.csv')\n",
    "not_sure = ans_df_new[ans_df_new['notsure'] == 1]\n",
    "notsure_dict = {}\n",
    "for wav, preds in wav_preds_dict_max_score.items():\n",
    "    if wav in not_sure['filename'].values:\n",
    "        notsure_dict[wav] = preds"
   ],
   "metadata": {
    "collapsed": false,
    "pycharm": {
     "name": "#%%\n"
    }
   }
  },
  {
   "cell_type": "code",
   "execution_count": 12,
   "outputs": [],
   "source": [
    "# update ans_df_new with notsure dict\n",
    "for wav, preds in notsure_dict.items():\n",
    "    ans_df_new.loc[ans_df_new['filename'] == wav, 'handlabelled'] = preds\n",
    "\n",
    "ans_df_new.to_csv('combined-new2.csv', index=False, header=False, columns=['filename', 'handlabelled'])"
   ],
   "metadata": {
    "collapsed": false,
    "pycharm": {
     "name": "#%%\n"
    }
   }
  }
 ],
 "metadata": {
  "kernelspec": {
   "display_name": "Python 3",
   "language": "python",
   "name": "python3"
  },
  "language_info": {
   "codemirror_mode": {
    "name": "ipython",
    "version": 2
   },
   "file_extension": ".py",
   "mimetype": "text/x-python",
   "name": "python",
   "nbconvert_exporter": "python",
   "pygments_lexer": "ipython2",
   "version": "2.7.6"
  }
 },
 "nbformat": 4,
 "nbformat_minor": 0
}