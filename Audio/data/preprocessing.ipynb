{
 "cells": [
  {
   "cell_type": "code",
   "execution_count": 5,
   "metadata": {
    "collapsed": true,
    "pycharm": {
     "name": "#%%\n"
    }
   },
   "outputs": [],
   "source": [
    "import os, sys, shutil\n",
    "from random import random\n",
    "from glob import glob\n",
    "from pydub import AudioSegment"
   ]
  },
  {
   "cell_type": "code",
   "execution_count": 7,
   "outputs": [],
   "source": [
    "def match_target_amplitude(sound, target_dBFS):\n",
    "    change_in_dBFS = target_dBFS - sound.dBFS\n",
    "    return sound.apply_gain(change_in_dBFS)\n",
    "\n",
    "\n",
    "for path in glob('data/nlp_egg_2/*/*.wav'):\n",
    "    split_path = path.split(os.path.sep)\n",
    "    root, cls, filename = split_path[0], split_path[1], split_path[2]\n",
    "    try:\n",
    "        sound = AudioSegment.from_file(path, 'wav')\n",
    "        # sound = sound.set_frame_rate(16000)\n",
    "        normalized_sound = match_target_amplitude(sound, -20.0)\n",
    "        normalized_sound_path = os.path.join(root + '_normalized', cls, filename)\n",
    "        os.makedirs(os.path.dirname(normalized_sound_path), exist_ok=True)\n",
    "        normalized_sound.export(''.join(normalized_sound_path.split('.')[:-1]) + '.wav', format=\"wav\", parameters=[\"-sample_fmt\", 's16', '-sample_rate', '16000'])\n",
    "    except Exception as e:\n",
    "        print(e)\n",
    "        print(path)\n",
    "        pass"
   ],
   "metadata": {
    "collapsed": false,
    "pycharm": {
     "name": "#%%\n"
    }
   }
  },
  {
   "cell_type": "code",
   "execution_count": 13,
   "outputs": [],
   "source": [
    "import hashlib\n",
    "\n",
    "TILtrain = glob('data/TIL_train/*/*.wav')\n",
    "TILtrain_hashes = {f: hashlib.sha256(open(f, 'rb').read()).hexdigest() for f in TILtrain}\n",
    "other = glob('data/NCSE_sorted/*.wav')\n",
    "other = {f: hashlib.sha256(open(f, 'rb').read()).hexdigest() for f in other}\n",
    "for k, v in TILtrain_hashes.items():\n",
    "    if v in CREMAD_hashes.values():\n",
    "        print(k)"
   ],
   "metadata": {
    "collapsed": false,
    "pycharm": {
     "name": "#%%\n"
    }
   }
  },
  {
   "cell_type": "code",
   "execution_count": 5,
   "outputs": [],
   "source": [
    "for path in glob('data/self_recorded_normalized/*/*'):\n",
    "    # Convert all files to 16khz\n",
    "    sound = AudioSegment.from_file(path, path.split('.')[-1])\n",
    "    sound = sound.set_frame_rate(16000)\n",
    "    sound_path = path.replace('self_recorded_normalized', 'self_recorded_normalized_16khz')\n",
    "    os.makedirs(os.path.dirname(sound_path), exist_ok=True)\n",
    "    sound.export(sound_path, format=\"wav\", parameters=[\"-sample_fmt\", 's16'])"
   ],
   "metadata": {
    "collapsed": false,
    "pycharm": {
     "name": "#%%\n"
    }
   }
  },
  {
   "cell_type": "code",
   "execution_count": 11,
   "outputs": [
    {
     "name": "stdout",
     "output_type": "stream",
     "text": [
      "data/finals_combined_singaporean\\happy_neutral\\0028c4fbc5.wav\n",
      "data/finals_combined_singaporean\\happy_neutral\\086c232666.wav\n",
      "data/finals_combined_singaporean\\happy_neutral\\135587a143.wav\n",
      "data/finals_combined_singaporean\\happy_neutral\\17d884d538.wav\n",
      "data/finals_combined_singaporean\\happy_neutral\\18376cf721.wav\n",
      "data/finals_combined_singaporean\\happy_neutral\\1a37c04b86.wav\n",
      "data/finals_combined_singaporean\\happy_neutral\\28b7eb6c60.wav\n",
      "data/finals_combined_singaporean\\happy_neutral\\2ae37cf9a6.wav\n",
      "data/finals_combined_singaporean\\happy_neutral\\3127762570.wav\n",
      "data/finals_combined_singaporean\\happy_neutral\\318c13a5c4.wav\n",
      "data/finals_combined_singaporean\\happy_neutral\\36911d0780.wav\n",
      "data/finals_combined_singaporean\\happy_neutral\\3d441e282f.wav\n",
      "data/finals_combined_singaporean\\happy_neutral\\442309220e.wav\n",
      "data/finals_combined_singaporean\\happy_neutral\\44e4e90313.wav\n",
      "data/finals_combined_singaporean\\happy_neutral\\4c7e3d764e.wav\n",
      "data/finals_combined_singaporean\\happy_neutral\\4fa1569ffb.wav\n",
      "data/finals_combined_singaporean\\happy_neutral\\4fa99fd181.wav\n",
      "data/finals_combined_singaporean\\happy_neutral\\50c86d1cc9.wav\n",
      "data/finals_combined_singaporean\\happy_neutral\\5270847af8.wav\n",
      "data/finals_combined_singaporean\\happy_neutral\\53fb4442f3.wav\n",
      "data/finals_combined_singaporean\\happy_neutral\\5744517e9f.wav\n",
      "data/finals_combined_singaporean\\happy_neutral\\57500f44b0.wav\n",
      "data/finals_combined_singaporean\\happy_neutral\\57878fb6cc.wav\n",
      "data/finals_combined_singaporean\\happy_neutral\\5b3bba927c.wav\n",
      "data/finals_combined_singaporean\\happy_neutral\\6098010f31.wav\n",
      "data/finals_combined_singaporean\\happy_neutral\\65285e7bd5.wav\n",
      "data/finals_combined_singaporean\\happy_neutral\\667e7c886d.wav\n",
      "data/finals_combined_singaporean\\happy_neutral\\67f52994c2.wav\n",
      "data/finals_combined_singaporean\\happy_neutral\\71c45c13e2.wav\n",
      "data/finals_combined_singaporean\\happy_neutral\\73950b3748.wav\n",
      "data/finals_combined_singaporean\\happy_neutral\\747971db55.wav\n",
      "data/finals_combined_singaporean\\happy_neutral\\78f11b3092.wav\n",
      "data/finals_combined_singaporean\\happy_neutral\\79c0de6cbd.wav\n",
      "data/finals_combined_singaporean\\happy_neutral\\837e26067b.wav\n",
      "data/finals_combined_singaporean\\happy_neutral\\8694fbea3d.wav\n",
      "data/finals_combined_singaporean\\happy_neutral\\89f3d4e86f.wav\n",
      "data/finals_combined_singaporean\\happy_neutral\\8c0711735b.wav\n",
      "data/finals_combined_singaporean\\happy_neutral\\92caf051b2.wav\n",
      "data/finals_combined_singaporean\\happy_neutral\\971bab6640.wav\n",
      "data/finals_combined_singaporean\\happy_neutral\\9f0e5b1f8c.wav\n",
      "data/finals_combined_singaporean\\happy_neutral\\a71e57f0b8.wav\n",
      "data/finals_combined_singaporean\\happy_neutral\\Aufnahme (113).wav\n",
      "data/finals_combined_singaporean\\happy_neutral\\Aufnahme (114).wav\n",
      "data/finals_combined_singaporean\\happy_neutral\\Aufnahme (115).wav\n",
      "data/finals_combined_singaporean\\happy_neutral\\Aufnahme (116).wav\n",
      "data/finals_combined_singaporean\\happy_neutral\\Aufnahme (117).wav\n",
      "data/finals_combined_singaporean\\happy_neutral\\Aufnahme (118).wav\n",
      "data/finals_combined_singaporean\\happy_neutral\\Aufnahme (119).wav\n",
      "data/finals_combined_singaporean\\happy_neutral\\Aufnahme (120).wav\n",
      "data/finals_combined_singaporean\\happy_neutral\\Aufnahme (121).wav\n",
      "data/finals_combined_singaporean\\happy_neutral\\Aufnahme (122).wav\n",
      "data/finals_combined_singaporean\\happy_neutral\\Aufnahme (123).wav\n",
      "data/finals_combined_singaporean\\happy_neutral\\Aufnahme (124).wav\n",
      "data/finals_combined_singaporean\\happy_neutral\\Aufnahme (125).wav\n",
      "data/finals_combined_singaporean\\happy_neutral\\Aufnahme (126).wav\n",
      "data/finals_combined_singaporean\\happy_neutral\\Aufnahme (127).wav\n",
      "data/finals_combined_singaporean\\happy_neutral\\Aufnahme (128).wav\n",
      "data/finals_combined_singaporean\\happy_neutral\\Aufnahme (129).wav\n",
      "data/finals_combined_singaporean\\happy_neutral\\Aufnahme (130).wav\n",
      "data/finals_combined_singaporean\\happy_neutral\\Aufnahme (131).wav\n",
      "data/finals_combined_singaporean\\happy_neutral\\Aufnahme (132).wav\n",
      "data/finals_combined_singaporean\\happy_neutral\\b05f55b2b8.wav\n",
      "data/finals_combined_singaporean\\happy_neutral\\b4292b2c37.wav\n",
      "data/finals_combined_singaporean\\happy_neutral\\b758f25462.wav\n",
      "data/finals_combined_singaporean\\happy_neutral\\ba8df01694.wav\n",
      "data/finals_combined_singaporean\\happy_neutral\\be057f106a.wav\n",
      "data/finals_combined_singaporean\\happy_neutral\\c16a2d9580.wav\n",
      "data/finals_combined_singaporean\\happy_neutral\\d47d13ecf6.wav\n",
      "data/finals_combined_singaporean\\happy_neutral\\dd7de3f99b.wav\n",
      "data/finals_combined_singaporean\\happy_neutral\\dfb1e907ee.wav\n",
      "data/finals_combined_singaporean\\happy_neutral\\ed654cf316.wav\n",
      "data/finals_combined_singaporean\\happy_neutral\\eeb78816cc.wav\n",
      "data/finals_combined_singaporean\\happy_neutral\\f037555554.wav\n",
      "data/finals_combined_singaporean\\happy_neutral\\f97ccb5c32.wav\n",
      "data/finals_combined_singaporean\\happy_neutral\\fcda617ac8.wav\n",
      "data/finals_combined_singaporean\\happy_neutral\\fdbc183ccf.wav\n"
     ]
    }
   ],
   "source": [
    "# Handle torchaudio zero tensor bug\n",
    "\n",
    "import torch\n",
    "import torchaudio\n",
    "import glob\n",
    "import shutil\n",
    "import os\n",
    "\n",
    "\n",
    "for path in glob.glob('data/finals_combined_singaporean/*/*.wav'):\n",
    "    if not torch.all(torchaudio.load(path)[0][0][0]):\n",
    "        print(path)\n",
    "        shutil.move(path, path.replace('finals_combined_singaporean', 'finals_combined_singaporean_torch_bugged'))"
   ],
   "metadata": {
    "collapsed": false,
    "pycharm": {
     "name": "#%%\n"
    }
   }
  },
  {
   "cell_type": "code",
   "execution_count": 3,
   "outputs": [],
   "source": [
    "import os\n",
    "import glob\n",
    "import shutil\n",
    "import pandas as pd\n",
    "\n",
    "ans = pd.read_csv('wav2vec2 finals handlabelled without fear.csv', usecols=[0, 1], names=['filename', 'label'])\n",
    "# ans.columns = ['filename', 'label']\n",
    "# ans.to_csv('answer.csv', index=False)\n",
    "for path in glob.glob('data/TIL_finals_normalized/*.wav'):\n",
    "    try:\n",
    "        label = ans[ans['filename'] == path.split(os.path.sep)[-1]]['label'].tolist()[0]\n",
    "        new_path = os.path.join('data/TIL_finals_ans', label, path.split(os.path.sep)[-1])\n",
    "        os.makedirs(os.path.join('data/TIL_finals_ans', label), exist_ok=True)\n",
    "        shutil.copy(path, new_path)\n",
    "    except IndexError:\n",
    "        pass"
   ],
   "metadata": {
    "collapsed": false,
    "pycharm": {
     "name": "#%%\n"
    }
   }
  }
 ],
 "metadata": {
  "kernelspec": {
   "display_name": "Python 3",
   "language": "python",
   "name": "python3"
  },
  "language_info": {
   "codemirror_mode": {
    "name": "ipython",
    "version": 2
   },
   "file_extension": ".py",
   "mimetype": "text/x-python",
   "name": "python",
   "nbconvert_exporter": "python",
   "pygments_lexer": "ipython2",
   "version": "2.7.6"
  }
 },
 "nbformat": 4,
 "nbformat_minor": 0
}