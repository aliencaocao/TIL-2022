{
 "cells": [
  {
   "cell_type": "code",
   "execution_count": 1,
   "metadata": {
    "collapsed": true,
    "pycharm": {
     "name": "#%%\n"
    }
   },
   "outputs": [],
   "source": [
    "import os\n",
    "import shutil"
   ]
  },
  {
   "cell_type": "code",
   "execution_count": 4,
   "outputs": [],
   "source": [
    "CREMAD_cls_map = {'ANG': 'angry', 'FEA': 'fear', 'HAP': 'happy', 'NEU': 'neutral', 'SAD': 'sad'}\n",
    "for file in os.listdir('CREMA-D'):\n",
    "    filename = file.split('_')\n",
    "    if filename[2] in CREMAD_cls_map:\n",
    "        emotion = CREMAD_cls_map[filename[2]]\n",
    "        shutil.copy(os.path.join('CREMA-D', file), os.path.join('combined', emotion, file))"
   ],
   "metadata": {
    "collapsed": false,
    "pycharm": {
     "name": "#%%\n"
    }
   }
  },
  {
   "cell_type": "code",
   "execution_count": 8,
   "outputs": [],
   "source": [
    "# German\n",
    "EmoDB_cls_map = {'W': 'angry', 'A': 'fear', 'F': 'happy', 'N': 'neutral', 'T': 'sad'}\n",
    "for file in os.listdir('EmoDB'):\n",
    "    emotion = file[5]\n",
    "    if emotion in EmoDB_cls_map:\n",
    "        shutil.copy(os.path.join('EmoDB', file), os.path.join('combined', EmoDB_cls_map[emotion], file))"
   ],
   "metadata": {
    "collapsed": false,
    "pycharm": {
     "name": "#%%\n"
    }
   }
  },
  {
   "cell_type": "code",
   "execution_count": 6,
   "outputs": [],
   "source": [
    "RAVDESS_cls_map = {'01': 'neutral', '03': 'happy', '04': 'sad', '05': 'angry', '06': 'fear'}\n",
    "for actor in os.listdir('RAVDESS'):\n",
    "    for file in os.listdir(os.path.join('RAVDESS', actor)):\n",
    "        filename = file.split('-')\n",
    "        if filename[2] in RAVDESS_cls_map:\n",
    "            emotion = RAVDESS_cls_map[filename[2]]\n",
    "            shutil.copy(os.path.join('RAVDESS', actor, file), os.path.join('combined', emotion, file))"
   ],
   "metadata": {
    "collapsed": false,
    "pycharm": {
     "name": "#%%\n"
    }
   }
  },
  {
   "cell_type": "code",
   "execution_count": 3,
   "outputs": [],
   "source": [
    "SAVEE_cls_map = {'a': 'angry', 'f': 'fear', 'h': 'happy', 'n': 'neutral', 'sa': 'sad'}\n",
    "for speaker in os.listdir('SAVEE'):\n",
    "    if os.path.isdir(os.path.join('SAVEE', speaker)):\n",
    "        for file in os.listdir(os.path.join('SAVEE', speaker)):\n",
    "            if file[0] in SAVEE_cls_map or file[:2] in SAVEE_cls_map:\n",
    "                emotion = SAVEE_cls_map[file[0]] if file[0] != 's' else SAVEE_cls_map[file[:2]]\n",
    "                shutil.copy(os.path.join('SAVEE', speaker, file), os.path.join('combined', emotion, file))"
   ],
   "metadata": {
    "collapsed": false,
    "pycharm": {
     "name": "#%%\n"
    }
   }
  },
  {
   "cell_type": "code",
   "execution_count": 5,
   "outputs": [],
   "source": [
    "TESS_cls_map = {'angry': 'angry', 'fear': 'fear', 'happy': 'happy', 'neutral': 'neutral', 'sad': 'sad'}\n",
    "for file in os.listdir('TESS'):\n",
    "    filename = file.split('.')[0].split('_')\n",
    "    if filename[-1] in TESS_cls_map:\n",
    "        emotion = TESS_cls_map[filename[-1]]\n",
    "        shutil.copy(os.path.join('TESS', file), os.path.join('combined', emotion, file))"
   ],
   "metadata": {
    "collapsed": false,
    "pycharm": {
     "name": "#%%\n"
    }
   }
  },
  {
   "cell_type": "code",
   "execution_count": 8,
   "outputs": [
    {
     "name": "stdout",
     "output_type": "stream",
     "text": [
      "{'angry': 2005, 'fear': 1947, 'happy': 1949, 'neutral': 1692, 'sad': 1940}\n",
      "{'angry': 0.210322039232141, 'fear': 0.20423791041644812, 'happy': 0.20444770796181685, 'neutral': 0.17748872338193644, 'sad': 0.20350361900765762}\n"
     ]
    }
   ],
   "source": [
    "# Count class distribution\n",
    "emotions = ['angry', 'fear', 'happy', 'neutral', 'sad']\n",
    "emotions_count = {emotion: 0 for emotion in emotions}\n",
    "for emotion in emotions:\n",
    "    emotions_count[emotion] = len(os.listdir(os.path.join('combined', emotion)))\n",
    "print(emotions_count)\n",
    "class_weights = {emotion: emotions_count[emotion]/sum(emotions_count.values()) for emotion in emotions}\n",
    "print(class_weights)"
   ],
   "metadata": {
    "collapsed": false,
    "pycharm": {
     "name": "#%%\n"
    }
   }
  }
 ],
 "metadata": {
  "kernelspec": {
   "display_name": "Python 3",
   "language": "python",
   "name": "python3"
  },
  "language_info": {
   "codemirror_mode": {
    "name": "ipython",
    "version": 2
   },
   "file_extension": ".py",
   "mimetype": "text/x-python",
   "name": "python",
   "nbconvert_exporter": "python",
   "pygments_lexer": "ipython2",
   "version": "2.7.6"
  }
 },
 "nbformat": 4,
 "nbformat_minor": 0
}