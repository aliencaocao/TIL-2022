{
 "cells": [
  {
   "cell_type": "code",
   "execution_count": 3,
   "metadata": {
    "collapsed": true,
    "pycharm": {
     "name": "#%%\n"
    }
   },
   "outputs": [],
   "source": [
    "import os\n",
    "import glob\n",
    "import shutil"
   ]
  },
  {
   "cell_type": "code",
   "execution_count": 2,
   "outputs": [],
   "source": [
    "CREMAD_cls_map = {'ANG': 'angry', 'FEA': 'fear', 'HAP': 'happy', 'NEU': 'neutral', 'SAD': 'sad'}\n",
    "for file in os.listdir('CREMA-D'):\n",
    "    filename = file.split('_')\n",
    "    if filename[2] in CREMAD_cls_map:\n",
    "        emotion = CREMAD_cls_map[filename[2]]\n",
    "        shutil.copy(os.path.join('CREMA-D', file), os.path.join('combined', emotion, file))"
   ],
   "metadata": {
    "collapsed": false,
    "pycharm": {
     "name": "#%%\n"
    }
   }
  },
  {
   "cell_type": "code",
   "execution_count": 3,
   "outputs": [],
   "source": [
    "# German\n",
    "EmoDB_cls_map = {'W': 'angry', 'A': 'fear', 'F': 'happy', 'N': 'neutral', 'T': 'sad'}\n",
    "for file in os.listdir('EmoDB'):\n",
    "    emotion = file[5]\n",
    "    if emotion in EmoDB_cls_map:\n",
    "        shutil.copy(os.path.join('EmoDB', file), os.path.join('combined', EmoDB_cls_map[emotion], file))"
   ],
   "metadata": {
    "collapsed": false,
    "pycharm": {
     "name": "#%%\n"
    }
   }
  },
  {
   "cell_type": "code",
   "execution_count": 12,
   "outputs": [],
   "source": [
    "RAVDESS_cls_map = {'01': 'neutral', '03': 'happy', '04': 'sad', '05': 'angry', '06': 'fear'}\n",
    "for actor in os.listdir('RAVDESS'):\n",
    "    for file in os.listdir(os.path.join('RAVDESS', actor)):\n",
    "        filename = file.split('-')\n",
    "        if filename[2] in RAVDESS_cls_map:\n",
    "            emotion = RAVDESS_cls_map[filename[2]]\n",
    "            shutil.copy(os.path.join('RAVDESS', actor, file), os.path.join('combined', emotion, file))"
   ],
   "metadata": {
    "collapsed": false,
    "pycharm": {
     "name": "#%%\n"
    }
   }
  },
  {
   "cell_type": "code",
   "execution_count": 5,
   "outputs": [],
   "source": [
    "SAVEE_cls_map = {'a': 'angry', 'f': 'fear', 'h': 'happy', 'n': 'neutral', 'sa': 'sad'}\n",
    "for speaker in os.listdir('SAVEE'):\n",
    "    if os.path.isdir(os.path.join('SAVEE', speaker)):\n",
    "        for file in os.listdir(os.path.join('SAVEE', speaker)):\n",
    "            if file[0] in SAVEE_cls_map or file[:2] in SAVEE_cls_map:\n",
    "                emotion = SAVEE_cls_map[file[0]] if file[0] != 's' else SAVEE_cls_map[file[:2]]\n",
    "                shutil.copy(os.path.join('SAVEE', speaker, file), os.path.join('combined', emotion, file))"
   ],
   "metadata": {
    "collapsed": false,
    "pycharm": {
     "name": "#%%\n"
    }
   }
  },
  {
   "cell_type": "code",
   "execution_count": 6,
   "outputs": [],
   "source": [
    "TESS_cls_map = {'angry': 'angry', 'fear': 'fear', 'happy': 'happy', 'neutral': 'neutral', 'sad': 'sad'}\n",
    "for file in os.listdir('TESS'):\n",
    "    filename = file.split('.')[0].split('_')\n",
    "    if filename[-1] in TESS_cls_map:\n",
    "        emotion = TESS_cls_map[filename[-1]]\n",
    "        shutil.copy(os.path.join('TESS', file), os.path.join('combined', emotion, file))"
   ],
   "metadata": {
    "collapsed": false,
    "pycharm": {
     "name": "#%%\n"
    }
   }
  },
  {
   "cell_type": "code",
   "execution_count": 34,
   "outputs": [
    {
     "name": "stdout",
     "output_type": "stream",
     "text": [
      "Neutral Content Said Emotionally database\\English - recordings\\F2\\F23a2+3(48).wav\n",
      "Neutral Content Said Emotionally database\\English - recordings\\F2\\F25a2+3(81).wav\n",
      "Neutral Content Said Emotionally database\\English - recordings\\F2\\F26a1+2(95).wav\n",
      "Neutral Content Said Emotionally database\\English - recordings\\M3\\M31n2_long(5).wav\n",
      "Neutral Content Said Emotionally database\\Japanese - recordings\\F2\\F22h2wav.wav\n",
      "Neutral Content Said Emotionally database\\Japanese - recordings\\F3\\F35s2wav.wav\n",
      "Neutral Content Said Emotionally database\\Japanese - recordings\\F6\\F63h3wav.wav\n"
     ]
    }
   ],
   "source": [
    "NCSE_cls_map = {'a': 'fear', 'h': 'happy', 'n': 'neutral', 's': 'sad'}\n",
    "filenames = glob.glob('Neutral Content Said Emotionally database/*/*/*.wav')\n",
    "copied = []\n",
    "c = 0\n",
    "for filename in filenames:\n",
    "    fn = filename.split(os.path.sep)[-1].split('.')[0]\n",
    "    if 'wav' in fn:\n",
    "        print(filename)\n",
    "    else:\n",
    "        try:\n",
    "            emotion = NCSE_cls_map[fn[-2]]\n",
    "        except Exception as e:\n",
    "            print(filename)\n",
    "        else:\n",
    "            os.makedirs(os.path.join('NCSE_sorted', emotion), exist_ok=True)\n",
    "            if fn not in copied:\n",
    "                shutil.copy(filename, os.path.join('NCSE_sorted', emotion, fn+'.wav'))\n",
    "                copied.append(fn)\n",
    "            else:\n",
    "                shutil.copy(filename, os.path.join('NCSE_sorted', emotion, fn+str(c)+'.wav'))  # have duplicated file names in diff speaker folder\n",
    "                c += 1"
   ],
   "metadata": {
    "collapsed": false,
    "pycharm": {
     "name": "#%%\n"
    }
   }
  },
  {
   "cell_type": "code",
   "execution_count": 14,
   "outputs": [],
   "source": [
    "emovo_cls_map = {'rab': 'angry', 'pau': 'fear', 'gio': 'happy', 'neu': 'neutral', 'tri': 'sad'}\n",
    "for file in glob.glob('emovo/*/*.wav'):\n",
    "    emotion = file.split(os.path.sep)[-1].split('.')[0][:3]\n",
    "    if emotion in emovo_cls_map:\n",
    "        shutil.copy(file, os.path.join('combinedv2_to_normalize', emovo_cls_map[emotion], file.split(os.path.sep)[-1]))"
   ],
   "metadata": {
    "collapsed": false,
    "pycharm": {
     "name": "#%%\n"
    }
   }
  },
  {
   "cell_type": "code",
   "execution_count": 2,
   "outputs": [
    {
     "name": "stdout",
     "output_type": "stream",
     "text": [
      "{'angry': 2655, 'fear': 3022, 'happy': 2998, 'neutral': 3668, 'sad': 3048}\n",
      "{'angry': 0.17250341108439998, 'fear': 0.19634851536612305, 'happy': 0.1947891624975635, 'neutral': 0.23832109674485089, 'sad': 0.19803781430706258}\n"
     ]
    }
   ],
   "source": [
    "# Count class distribution\n",
    "import os\n",
    "emotions = ['angry', 'fear', 'happy', 'neutral', 'sad']\n",
    "emotions_count = {emotion: 0 for emotion in emotions}\n",
    "for emotion in emotions:\n",
    "    emotions_count[emotion] = len(os.listdir(os.path.join('combined_normalized_16khz v2', emotion)))\n",
    "print(emotions_count)\n",
    "class_weights = {emotion: emotions_count[emotion]/sum(emotions_count.values()) for emotion in emotions}\n",
    "print(class_weights)"
   ],
   "metadata": {
    "collapsed": false,
    "pycharm": {
     "name": "#%%\n"
    }
   }
  }
 ],
 "metadata": {
  "kernelspec": {
   "display_name": "Python 3",
   "language": "python",
   "name": "python3"
  },
  "language_info": {
   "codemirror_mode": {
    "name": "ipython",
    "version": 2
   },
   "file_extension": ".py",
   "mimetype": "text/x-python",
   "name": "python",
   "nbconvert_exporter": "python",
   "pygments_lexer": "ipython2",
   "version": "2.7.6"
  }
 },
 "nbformat": 4,
 "nbformat_minor": 0
}