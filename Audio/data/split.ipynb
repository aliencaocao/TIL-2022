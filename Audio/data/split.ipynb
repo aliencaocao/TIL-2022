{
 "cells": [
  {
   "cell_type": "code",
   "execution_count": 1,
   "metadata": {
    "collapsed": true,
    "pycharm": {
     "name": "#%%\n"
    }
   },
   "outputs": [],
   "source": [
    "import os\n",
    "import shutil"
   ]
  },
  {
   "cell_type": "code",
   "execution_count": 4,
   "outputs": [],
   "source": [
    "CREMAD_cls_map = {'ANG': 'angry', 'FEA': 'fear', 'HAP': 'happy', 'NEU': 'neutral', 'SAD': 'sad'}\n",
    "for file in os.listdir('CREMA-D'):\n",
    "    filename = file.split('_')\n",
    "    if filename[2] in CREMAD_cls_map:\n",
    "        emotion = CREMAD_cls_map[filename[2]]\n",
    "        shutil.copy(os.path.join('CREMA-D', file), os.path.join('combined', emotion, file))"
   ],
   "metadata": {
    "collapsed": false,
    "pycharm": {
     "name": "#%%\n"
    }
   }
  },
  {
   "cell_type": "code",
   "execution_count": 6,
   "outputs": [],
   "source": [
    "RAVDESS_cls_map = {'01': 'neutral', '03': 'happy', '04': 'sad', '05': 'angry', '06': 'fear'}\n",
    "for actor in os.listdir('RAVDESS'):\n",
    "    for file in os.listdir(os.path.join('RAVDESS', actor)):\n",
    "        filename = file.split('-')\n",
    "        if filename[2] in RAVDESS_cls_map:\n",
    "            emotion = RAVDESS_cls_map[filename[2]]\n",
    "            shutil.copy(os.path.join('RAVDESS', actor, file), os.path.join('combined', emotion, file))"
   ],
   "metadata": {
    "collapsed": false,
    "pycharm": {
     "name": "#%%\n"
    }
   }
  }
 ],
 "metadata": {
  "kernelspec": {
   "display_name": "Python 3",
   "language": "python",
   "name": "python3"
  },
  "language_info": {
   "codemirror_mode": {
    "name": "ipython",
    "version": 2
   },
   "file_extension": ".py",
   "mimetype": "text/x-python",
   "name": "python",
   "nbconvert_exporter": "python",
   "pygments_lexer": "ipython2",
   "version": "2.7.6"
  }
 },
 "nbformat": 4,
 "nbformat_minor": 0
}