{
 "cells": [
  {
   "cell_type": "code",
   "execution_count": 2,
   "metadata": {
    "collapsed": true,
    "pycharm": {
     "name": "#%%\n"
    }
   },
   "outputs": [],
   "source": [
    "import os, sys, shutil\n",
    "from random import random\n",
    "from glob import glob\n",
    "from pydub import AudioSegment"
   ]
  },
  {
   "cell_type": "code",
   "execution_count": 5,
   "outputs": [
    {
     "name": "stdout",
     "output_type": "stream",
     "text": [
      "Decoding failed. ffmpeg returned error code: 1\n",
      "\n",
      "Output from ffmpeg/avlib:\n",
      "\n",
      "ffmpeg version 2021-11-18-git-85a6b7f7b7-essentials_build-www.gyan.dev Copyright (c) 2000-2021 the FFmpeg developers\r\n",
      "  built with gcc 11.2.0 (Rev2, Built by MSYS2 project)\r\n",
      "  configuration: --enable-gpl --enable-version3 --enable-static --disable-w32threads --disable-autodetect --enable-fontconfig --enable-iconv --enable-gnutls --enable-libxml2 --enable-gmp --enable-lzma --enable-zlib --enable-libsrt --enable-libssh --enable-libzmq --enable-avisynth --enable-sdl2 --enable-libwebp --enable-libx264 --enable-libx265 --enable-libxvid --enable-libaom --enable-libopenjpeg --enable-libvpx --enable-libass --enable-libfreetype --enable-libfribidi --enable-libvidstab --enable-libvmaf --enable-libzimg --enable-amf --enable-cuda-llvm --enable-cuvid --enable-ffnvcodec --enable-nvdec --enable-nvenc --enable-d3d11va --enable-dxva2 --enable-libmfx --enable-libgme --enable-libopenmpt --enable-libopencore-amrwb --enable-libmp3lame --enable-libtheora --enable-libvo-amrwbenc --enable-libgsm --enable-libopencore-amrnb --enable-libopus --enable-libspeex --enable-libvorbis --enable-librubberband\r\n",
      "  libavutil      57.  9.100 / 57.  9.100\r\n",
      "  libavcodec     59. 13.100 / 59. 13.100\r\n",
      "  libavformat    59.  9.101 / 59.  9.101\r\n",
      "  libavdevice    59.  0.101 / 59.  0.101\r\n",
      "  libavfilter     8. 17.100 /  8. 17.100\r\n",
      "  libswscale      6.  1.100 /  6.  1.100\r\n",
      "  libswresample   4.  0.100 /  4.  0.100\r\n",
      "  libpostproc    56.  0.100 / 56.  0.100\r\n",
      "[wav @ 0000027c8e9ebbc0] no 'data' tag found\r\n",
      "data/combinedv2\\sad\\s05 (3).wav: Invalid data found when processing input\r\n",
      "\n",
      "data/combinedv2\\sad\\s05 (3).wav\n"
     ]
    }
   ],
   "source": [
    "def match_target_amplitude(sound, target_dBFS):\n",
    "    change_in_dBFS = target_dBFS - sound.dBFS\n",
    "    return sound.apply_gain(change_in_dBFS)\n",
    "\n",
    "\n",
    "for path in glob('data/TIL_finals/*'):\n",
    "    split_path = path.split(os.path.sep)\n",
    "    root, filename = split_path[0], split_path[1]\n",
    "    try:\n",
    "        sound = AudioSegment.from_file(path, 'wav')\n",
    "        # sound = sound.set_frame_rate(16000)\n",
    "        normalized_sound = match_target_amplitude(sound, -20.0)\n",
    "        normalized_sound_path = os.path.join(root + '_normalized', cls, filename)\n",
    "        os.makedirs(os.path.dirname(normalized_sound_path), exist_ok=True)\n",
    "        normalized_sound.export(''.join(normalized_sound_path.split('.')[:-1]) + '.wav', format=\"wav\", parameters=[\"-sample_fmt\", 's16', '-sample_rate', '16000'])\n",
    "    except Exception as e:\n",
    "        print(e)\n",
    "        print(path)\n",
    "        pass"
   ],
   "metadata": {
    "collapsed": false,
    "pycharm": {
     "name": "#%%\n"
    }
   }
  },
  {
   "cell_type": "code",
   "execution_count": 13,
   "outputs": [],
   "source": [
    "import hashlib\n",
    "\n",
    "TILtrain = glob('data/TIL_train/*/*.wav')\n",
    "TILtrain_hashes = {f: hashlib.sha256(open(f, 'rb').read()).hexdigest() for f in TILtrain}\n",
    "other = glob('data/NCSE_sorted/*.wav')\n",
    "other = {f: hashlib.sha256(open(f, 'rb').read()).hexdigest() for f in other}\n",
    "for k, v in TILtrain_hashes.items():\n",
    "    if v in CREMAD_hashes.values():\n",
    "        print(k)"
   ],
   "metadata": {
    "collapsed": false,
    "pycharm": {
     "name": "#%%\n"
    }
   }
  },
  {
   "cell_type": "code",
   "execution_count": 5,
   "outputs": [],
   "source": [
    "for path in glob('data/self_recorded_normalized/*/*'):\n",
    "    # Convert all files to 16khz\n",
    "    sound = AudioSegment.from_file(path, path.split('.')[-1])\n",
    "    sound = sound.set_frame_rate(16000)\n",
    "    sound_path = path.replace('self_recorded_normalized', 'self_recorded_normalized_16khz')\n",
    "    os.makedirs(os.path.dirname(sound_path), exist_ok=True)\n",
    "    sound.export(sound_path, format=\"wav\", parameters=[\"-sample_fmt\", 's16'])"
   ],
   "metadata": {
    "collapsed": false,
    "pycharm": {
     "name": "#%%\n"
    }
   }
  },
  {
   "cell_type": "code",
   "execution_count": 1,
   "outputs": [],
   "source": [
    "# Handle torchaudio zero tensor bug\n",
    "\n",
    "import torch\n",
    "import torchaudio\n",
    "import glob\n",
    "import shutil\n",
    "import os\n",
    "\n",
    "\n",
    "for path in glob.glob('data/combined_normalized_16khz v2/*/*.wav'):\n",
    "    if not torch.all(torchaudio.load(path)[0][0][0]):\n",
    "        print(path)\n",
    "        shutil.move(path, path.replace('combined_normalized_16khz v2', 'combinedv2_normalized_torch_bugged'))"
   ],
   "metadata": {
    "collapsed": false,
    "pycharm": {
     "name": "#%%\n"
    }
   }
  },
  {
   "cell_type": "code",
   "execution_count": 1,
   "outputs": [],
   "source": [
    "import os\n",
    "import glob\n",
    "import shutil\n",
    "import pandas as pd\n",
    "\n",
    "ans = pd.read_csv('answer.csv', usecols=[0, 1], names=['filename', 'label'])\n",
    "# ans.columns = ['filename', 'label']\n",
    "# ans.to_csv('answer.csv', index=False)\n",
    "for path in glob.glob('data/TIL_test_normalized/*.wav'):\n",
    "    label = ans[ans['filename'] == path.split(os.path.sep)[-1]]['label'].tolist()[0]\n",
    "    new_path = os.path.join('data/TIL_ans', label, path.split(os.path.sep)[-1])\n",
    "    os.makedirs(os.path.join('data/TIL_ans', label), exist_ok=True)\n",
    "    shutil.copy(path, new_path)"
   ],
   "metadata": {
    "collapsed": false,
    "pycharm": {
     "name": "#%%\n"
    }
   }
  }
 ],
 "metadata": {
  "kernelspec": {
   "display_name": "Python 3",
   "language": "python",
   "name": "python3"
  },
  "language_info": {
   "codemirror_mode": {
    "name": "ipython",
    "version": 2
   },
   "file_extension": ".py",
   "mimetype": "text/x-python",
   "name": "python",
   "nbconvert_exporter": "python",
   "pygments_lexer": "ipython2",
   "version": "2.7.6"
  }
 },
 "nbformat": 4,
 "nbformat_minor": 0
}