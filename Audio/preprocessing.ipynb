{
 "cells": [
  {
   "cell_type": "code",
   "execution_count": 1,
   "metadata": {
    "collapsed": true,
    "pycharm": {
     "name": "#%%\n"
    }
   },
   "outputs": [],
   "source": [
    "import os, sys, shutil\n",
    "from random import random\n",
    "from glob import glob\n",
    "from pydub import AudioSegment"
   ]
  },
  {
   "cell_type": "code",
   "execution_count": 2,
   "outputs": [],
   "source": [
    "def match_target_amplitude(sound, target_dBFS):\n",
    "    change_in_dBFS = target_dBFS - sound.dBFS\n",
    "    return sound.apply_gain(change_in_dBFS)\n",
    "\n",
    "\n",
    "for path in glob('data/nlp_egg/*/*'):\n",
    "    split_path = path.split('\\\\')\n",
    "    root, cls, filename = split_path[0], split_path[1], split_path[2]\n",
    "    sound = AudioSegment.from_file(path, filename.split('.')[-1])\n",
    "    # sound = sound.set_frame_rate(16000)\n",
    "    normalized_sound = match_target_amplitude(sound, -20.0)\n",
    "    normalized_sound_path = os.path.join(root + '_normalized', cls, filename)\n",
    "    os.makedirs(os.path.dirname(normalized_sound_path), exist_ok=True)\n",
    "    normalized_sound.export(''.join(normalized_sound_path.split('.')[:-1]) + '.wav', format=\"wav\", parameters=[\"-sample_fmt\", 's16', '-sample_rate', '16000'])"
   ],
   "metadata": {
    "collapsed": false,
    "pycharm": {
     "name": "#%%\n"
    }
   }
  },
  {
   "cell_type": "code",
   "execution_count": 13,
   "outputs": [],
   "source": [
    "import hashlib\n",
    "\n",
    "TILtrain = glob('data/TIL_train/*/*.wav')\n",
    "TILtrain_hashes = {f: hashlib.sha256(open(f, 'rb').read()).hexdigest() for f in TILtrain}\n",
    "other = glob('data/NCSE_sorted/*.wav')\n",
    "other = {f: hashlib.sha256(open(f, 'rb').read()).hexdigest() for f in other}\n",
    "for k, v in TILtrain_hashes.items():\n",
    "    if v in CREMAD_hashes.values():\n",
    "        print(k)"
   ],
   "metadata": {
    "collapsed": false,
    "pycharm": {
     "name": "#%%\n"
    }
   }
  },
  {
   "cell_type": "code",
   "execution_count": 5,
   "outputs": [],
   "source": [
    "for path in glob('data/self_recorded_normalized/*/*'):\n",
    "    # Convert all files to 16khz\n",
    "    sound = AudioSegment.from_file(path, path.split('.')[-1])\n",
    "    sound = sound.set_frame_rate(16000)\n",
    "    sound_path = path.replace('self_recorded_normalized', 'self_recorded_normalized_16khz')\n",
    "    os.makedirs(os.path.dirname(sound_path), exist_ok=True)\n",
    "    sound.export(sound_path, format=\"wav\", parameters=[\"-sample_fmt\", 's16'])"
   ],
   "metadata": {
    "collapsed": false,
    "pycharm": {
     "name": "#%%\n"
    }
   }
  },
  {
   "cell_type": "code",
   "execution_count": null,
   "outputs": [],
   "source": [
    "# Handle torchaudio zero tensor bug\n",
    "\n",
    "import torch\n",
    "import torchaudio\n",
    "import glob\n",
    "import shutil\n",
    "import os\n",
    "\n",
    "\n",
    "for path in glob.glob('data/nlp_egg_normalized/*/*.wav'):\n",
    "    if not torch.all(torchaudio.load(path)[0][0][0]):\n",
    "        print(path)\n",
    "        shutil.move(path, path.replace('nlp_egg_normalized', 'nlp_egg_normalized_torch_bugged'))"
   ],
   "metadata": {
    "collapsed": false,
    "pycharm": {
     "name": "#%%\n",
     "is_executing": true
    }
   }
  },
  {
   "cell_type": "code",
   "execution_count": 1,
   "outputs": [],
   "source": [
    "import os\n",
    "import glob\n",
    "import shutil\n",
    "import pandas as pd\n",
    "\n",
    "ans = pd.read_csv('answer.csv', usecols=[0, 1], names=['filename', 'label'])\n",
    "# ans.columns = ['filename', 'label']\n",
    "# ans.to_csv('answer.csv', index=False)\n",
    "for path in glob.glob('data/TIL_test_normalized/*.wav'):\n",
    "    label = ans[ans['filename'] == path.split(os.path.sep)[-1]]['label'].tolist()[0]\n",
    "    new_path = os.path.join('data/TIL_ans', label, path.split(os.path.sep)[-1])\n",
    "    os.makedirs(os.path.join('data/TIL_ans', label), exist_ok=True)\n",
    "    shutil.copy(path, new_path)"
   ],
   "metadata": {
    "collapsed": false,
    "pycharm": {
     "name": "#%%\n"
    }
   }
  }
 ],
 "metadata": {
  "kernelspec": {
   "display_name": "Python 3",
   "language": "python",
   "name": "python3"
  },
  "language_info": {
   "codemirror_mode": {
    "name": "ipython",
    "version": 2
   },
   "file_extension": ".py",
   "mimetype": "text/x-python",
   "name": "python",
   "nbconvert_exporter": "python",
   "pygments_lexer": "ipython2",
   "version": "2.7.6"
  }
 },
 "nbformat": 4,
 "nbformat_minor": 0
}