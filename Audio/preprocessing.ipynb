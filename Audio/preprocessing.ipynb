{
 "cells": [
  {
   "cell_type": "code",
   "execution_count": 2,
   "metadata": {
    "collapsed": true,
    "pycharm": {
     "name": "#%%\n"
    }
   },
   "outputs": [],
   "source": [
    "import os, sys, shutil\n",
    "from random import random\n",
    "from glob import glob\n",
    "from pydub import AudioSegment"
   ]
  },
  {
   "cell_type": "code",
   "execution_count": 5,
   "outputs": [],
   "source": [
    "def match_target_amplitude(sound, target_dBFS):\n",
    "    change_in_dBFS = target_dBFS - sound.dBFS\n",
    "    return sound.apply_gain(change_in_dBFS)\n",
    "\n",
    "\n",
    "for path in glob('data/bad_files/*.wav'):\n",
    "    try:\n",
    "        split_path = path.split('\\\\')\n",
    "        root, filename = split_path[0], split_path[1]\n",
    "        sound = AudioSegment.from_file(path, \"wav\")\n",
    "        normalized_sound = match_target_amplitude(sound, -20.0)\n",
    "        normalized_sound_path = os.path.join(root + '_normalized', filename)\n",
    "        os.makedirs(os.path.dirname(normalized_sound_path), exist_ok=True)\n",
    "        normalized_sound.export(normalized_sound_path, format=\"wav\")\n",
    "    except:\n",
    "        pass"
   ],
   "metadata": {
    "collapsed": false,
    "pycharm": {
     "name": "#%%\n"
    }
   }
  }
 ],
 "metadata": {
  "kernelspec": {
   "display_name": "Python 3",
   "language": "python",
   "name": "python3"
  },
  "language_info": {
   "codemirror_mode": {
    "name": "ipython",
    "version": 2
   },
   "file_extension": ".py",
   "mimetype": "text/x-python",
   "name": "python",
   "nbconvert_exporter": "python",
   "pygments_lexer": "ipython2",
   "version": "2.7.6"
  }
 },
 "nbformat": 4,
 "nbformat_minor": 0
}