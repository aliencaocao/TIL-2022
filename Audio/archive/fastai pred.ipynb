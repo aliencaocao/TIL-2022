{
 "cells": [
  {
   "cell_type": "code",
   "execution_count": 1,
   "metadata": {
    "collapsed": true,
    "pycharm": {
     "name": "#%%\n"
    }
   },
   "outputs": [
    {
     "name": "stderr",
     "output_type": "stream",
     "text": [
      "C:\\Program Files\\Python39\\lib\\site-packages\\torchaudio\\extension\\extension.py:13: UserWarning: torchaudio C++ extension is not available.\n",
      "  warnings.warn('torchaudio C++ extension is not available.')\n",
      "C:\\Program Files\\Python39\\lib\\site-packages\\torchaudio\\backend\\utils.py:46: UserWarning: \"torchaudio.USE_SOUNDFILE_LEGACY_INTERFACE\" flag is deprecated and will be removed in 0.9.0. Please remove the use of flag.\n",
      "  warnings.warn(\n"
     ]
    }
   ],
   "source": [
    "import os.path\n",
    "\n",
    "from fastai.vision.all import *\n",
    "from fastaudio.core.all import *\n",
    "from fastaudio.augment.all import *\n",
    "from fastaudio.ci import skip_if_ci\n",
    "import random"
   ]
  },
  {
   "cell_type": "code",
   "execution_count": 2,
   "outputs": [],
   "source": [
    "cfg = AudioConfig.Voice()\n",
    "a2s = AudioToSpec.from_cfg(cfg)"
   ],
   "metadata": {
    "collapsed": false,
    "pycharm": {
     "name": "#%%\n"
    }
   }
  },
  {
   "cell_type": "code",
   "execution_count": 19,
   "outputs": [],
   "source": [
    "auds = DataBlock(blocks = (AudioBlock),\n",
    "                 get_x = ColReader(\"filename\"),\n",
    "                 splitter = RandomSplitter(seed = 42),\n",
    "                 item_tfms = [ResizeSignal(3000), a2s, MaskFreq(), MaskTime(), SignalShifter(), SignalCutout(), ChangeVolume()],\n",
    "                 batch_tfms = None)"
   ],
   "metadata": {
    "collapsed": false,
    "pycharm": {
     "name": "#%%\n"
    }
   }
  },
  {
   "cell_type": "code",
   "execution_count": 20,
   "outputs": [],
   "source": [
    "fnames = get_files(\"data/TIL_test_normalized/\")\n",
    "df = pd.DataFrame()\n",
    "df['filename'] = [str(fn) for fn in fnames]\n",
    "#df['category'] = [str(fn).split(os.path.sep)[-1].split('.')[0] for fn in fnames]"
   ],
   "metadata": {
    "collapsed": false,
    "pycharm": {
     "name": "#%%\n"
    }
   }
  },
  {
   "cell_type": "code",
   "execution_count": 21,
   "outputs": [
    {
     "name": "stdout",
     "output_type": "stream",
     "text": [
      "Due to IPython and Windows limitation, python multiprocessing isn't available now.\n",
      "So `number_workers` is changed to 0 to avoid getting stuck\n"
     ]
    }
   ],
   "source": [
    "dbunch = auds.dataloaders(df, bs=64)"
   ],
   "metadata": {
    "collapsed": false,
    "pycharm": {
     "name": "#%%\n"
    }
   }
  },
  {
   "cell_type": "code",
   "execution_count": 40,
   "outputs": [
    {
     "ename": "TypeError",
     "evalue": "'int' object is not callable",
     "output_type": "error",
     "traceback": [
      "\u001B[1;31m---------------------------------------------------------------------------\u001B[0m",
      "\u001B[1;31mTypeError\u001B[0m                                 Traceback (most recent call last)",
      "Input \u001B[1;32mIn [40]\u001B[0m, in \u001B[0;36m<cell line: 2>\u001B[1;34m()\u001B[0m\n\u001B[0;32m      1\u001B[0m \u001B[38;5;66;03m# load trained fastai model\u001B[39;00m\n\u001B[1;32m----> 2\u001B[0m learn \u001B[38;5;241m=\u001B[39m \u001B[43mcnn_learner\u001B[49m\u001B[43m(\u001B[49m\u001B[43mdbunch\u001B[49m\u001B[43m,\u001B[49m\n\u001B[0;32m      3\u001B[0m \u001B[43m            \u001B[49m\u001B[43mresnet50\u001B[49m\u001B[43m,\u001B[49m\n\u001B[0;32m      4\u001B[0m \u001B[43m            \u001B[49m\u001B[43mn_out\u001B[49m\u001B[43m \u001B[49m\u001B[38;5;241;43m=\u001B[39;49m\u001B[43m \u001B[49m\u001B[38;5;241;43m5\u001B[39;49m\u001B[43m,\u001B[49m\n\u001B[0;32m      5\u001B[0m \u001B[43m            \u001B[49m\u001B[43mlr\u001B[49m\u001B[38;5;241;43m=\u001B[39;49m\u001B[38;5;241;43m1e-3\u001B[39;49m\u001B[43m,\u001B[49m\u001B[43m \u001B[49m\u001B[43mopt_func\u001B[49m\u001B[43m \u001B[49m\u001B[38;5;241;43m=\u001B[39;49m\u001B[43m \u001B[49m\u001B[43mranger\u001B[49m\u001B[43m,\u001B[49m\n\u001B[0;32m      6\u001B[0m \u001B[43m            \u001B[49m\u001B[43mn_in\u001B[49m\u001B[38;5;241;43m=\u001B[39;49m\u001B[38;5;241;43m1\u001B[39;49m\u001B[43m,\u001B[49m\u001B[43m  \u001B[49m\u001B[38;5;66;43;03m# <- This is the only audio specific modification here\u001B[39;49;00m\n\u001B[0;32m      7\u001B[0m \u001B[43m            \u001B[49m\u001B[43mloss_func\u001B[49m\u001B[38;5;241;43m=\u001B[39;49m\u001B[43mCrossEntropyLossFlat\u001B[49m\u001B[43m(\u001B[49m\u001B[43m)\u001B[49m\u001B[43m,\u001B[49m\n\u001B[0;32m      8\u001B[0m \u001B[43m            \u001B[49m\u001B[43mmetrics\u001B[49m\u001B[38;5;241;43m=\u001B[39;49m\u001B[43m[\u001B[49m\u001B[43maccuracy\u001B[49m\u001B[43m,\u001B[49m\u001B[43m \u001B[49m\u001B[43mF1Score\u001B[49m\u001B[43m(\u001B[49m\u001B[43maverage\u001B[49m\u001B[38;5;241;43m=\u001B[39;49m\u001B[38;5;124;43m'\u001B[39;49m\u001B[38;5;124;43mweighted\u001B[39;49m\u001B[38;5;124;43m'\u001B[39;49m\u001B[43m)\u001B[49m\u001B[43m]\u001B[49m\u001B[43m,\u001B[49m\u001B[43m \u001B[49m\u001B[43msplitter\u001B[49m\u001B[38;5;241;43m=\u001B[39;49m\u001B[38;5;241;43m0\u001B[39;49m\u001B[43m)\u001B[49m\n\u001B[0;32m     10\u001B[0m learn\u001B[38;5;241m.\u001B[39mload(\u001B[38;5;124m'\u001B[39m\u001B[38;5;124mtil_data_only_resnet50_9090\u001B[39m\u001B[38;5;124m'\u001B[39m)\n",
      "File \u001B[1;32mC:\\Program Files\\Python39\\lib\\site-packages\\fastai\\vision\\learner.py:184\u001B[0m, in \u001B[0;36mcnn_learner\u001B[1;34m(dls, arch, normalize, n_out, pretrained, config, loss_func, opt_func, lr, splitter, cbs, metrics, path, model_dir, wd, wd_bn_bias, train_bn, moms, **kwargs)\u001B[0m\n\u001B[0;32m    180\u001B[0m splitter\u001B[38;5;241m=\u001B[39mifnone(splitter, meta[\u001B[38;5;124m'\u001B[39m\u001B[38;5;124msplit\u001B[39m\u001B[38;5;124m'\u001B[39m])\n\u001B[0;32m    181\u001B[0m learn \u001B[38;5;241m=\u001B[39m Learner(dls\u001B[38;5;241m=\u001B[39mdls, model\u001B[38;5;241m=\u001B[39mmodel, loss_func\u001B[38;5;241m=\u001B[39mloss_func, opt_func\u001B[38;5;241m=\u001B[39mopt_func, lr\u001B[38;5;241m=\u001B[39mlr, splitter\u001B[38;5;241m=\u001B[39msplitter, cbs\u001B[38;5;241m=\u001B[39mcbs,\n\u001B[0;32m    182\u001B[0m                metrics\u001B[38;5;241m=\u001B[39mmetrics, path\u001B[38;5;241m=\u001B[39mpath, model_dir\u001B[38;5;241m=\u001B[39mmodel_dir, wd\u001B[38;5;241m=\u001B[39mwd, wd_bn_bias\u001B[38;5;241m=\u001B[39mwd_bn_bias, train_bn\u001B[38;5;241m=\u001B[39mtrain_bn,\n\u001B[0;32m    183\u001B[0m                moms\u001B[38;5;241m=\u001B[39mmoms)\n\u001B[1;32m--> 184\u001B[0m \u001B[38;5;28;01mif\u001B[39;00m pretrained: \u001B[43mlearn\u001B[49m\u001B[38;5;241;43m.\u001B[39;49m\u001B[43mfreeze\u001B[49m\u001B[43m(\u001B[49m\u001B[43m)\u001B[49m\n\u001B[0;32m    185\u001B[0m \u001B[38;5;66;03m# keep track of args for loggers\u001B[39;00m\n\u001B[0;32m    186\u001B[0m store_attr(\u001B[38;5;124m'\u001B[39m\u001B[38;5;124march,normalize,n_out,pretrained\u001B[39m\u001B[38;5;124m'\u001B[39m, \u001B[38;5;28mself\u001B[39m\u001B[38;5;241m=\u001B[39mlearn, \u001B[38;5;241m*\u001B[39m\u001B[38;5;241m*\u001B[39mkwargs)\n",
      "File \u001B[1;32mC:\\Program Files\\Python39\\lib\\site-packages\\fastai\\learner.py:565\u001B[0m, in \u001B[0;36mfreeze\u001B[1;34m(self)\u001B[0m\n\u001B[0;32m    564\u001B[0m \u001B[38;5;129m@patch\u001B[39m\n\u001B[1;32m--> 565\u001B[0m \u001B[38;5;28;01mdef\u001B[39;00m \u001B[38;5;21mfreeze\u001B[39m(\u001B[38;5;28mself\u001B[39m:Learner): \u001B[38;5;28;43mself\u001B[39;49m\u001B[38;5;241;43m.\u001B[39;49m\u001B[43mfreeze_to\u001B[49m\u001B[43m(\u001B[49m\u001B[38;5;241;43m-\u001B[39;49m\u001B[38;5;241;43m1\u001B[39;49m\u001B[43m)\u001B[49m\n",
      "File \u001B[1;32mC:\\Program Files\\Python39\\lib\\site-packages\\fastai\\learner.py:560\u001B[0m, in \u001B[0;36mfreeze_to\u001B[1;34m(self, n)\u001B[0m\n\u001B[0;32m    558\u001B[0m \u001B[38;5;129m@patch\u001B[39m\n\u001B[0;32m    559\u001B[0m \u001B[38;5;28;01mdef\u001B[39;00m \u001B[38;5;21mfreeze_to\u001B[39m(\u001B[38;5;28mself\u001B[39m:Learner, n):\n\u001B[1;32m--> 560\u001B[0m     \u001B[38;5;28;01mif\u001B[39;00m \u001B[38;5;28mself\u001B[39m\u001B[38;5;241m.\u001B[39mopt \u001B[38;5;129;01mis\u001B[39;00m \u001B[38;5;28;01mNone\u001B[39;00m: \u001B[38;5;28;43mself\u001B[39;49m\u001B[38;5;241;43m.\u001B[39;49m\u001B[43mcreate_opt\u001B[49m\u001B[43m(\u001B[49m\u001B[43m)\u001B[49m\n\u001B[0;32m    561\u001B[0m     \u001B[38;5;28mself\u001B[39m\u001B[38;5;241m.\u001B[39mopt\u001B[38;5;241m.\u001B[39mfreeze_to(n)\n\u001B[0;32m    562\u001B[0m     \u001B[38;5;28mself\u001B[39m\u001B[38;5;241m.\u001B[39mopt\u001B[38;5;241m.\u001B[39mclear_state()\n",
      "File \u001B[1;32mC:\\Program Files\\Python39\\lib\\site-packages\\fastai\\learner.py:149\u001B[0m, in \u001B[0;36mLearner.create_opt\u001B[1;34m(self)\u001B[0m\n\u001B[0;32m    148\u001B[0m \u001B[38;5;28;01mdef\u001B[39;00m \u001B[38;5;21mcreate_opt\u001B[39m(\u001B[38;5;28mself\u001B[39m):\n\u001B[1;32m--> 149\u001B[0m     \u001B[38;5;28mself\u001B[39m\u001B[38;5;241m.\u001B[39mopt \u001B[38;5;241m=\u001B[39m \u001B[38;5;28mself\u001B[39m\u001B[38;5;241m.\u001B[39mopt_func(\u001B[38;5;28;43mself\u001B[39;49m\u001B[38;5;241;43m.\u001B[39;49m\u001B[43msplitter\u001B[49m\u001B[43m(\u001B[49m\u001B[38;5;28;43mself\u001B[39;49m\u001B[38;5;241;43m.\u001B[39;49m\u001B[43mmodel\u001B[49m\u001B[43m)\u001B[49m, lr\u001B[38;5;241m=\u001B[39m\u001B[38;5;28mself\u001B[39m\u001B[38;5;241m.\u001B[39mlr)\n\u001B[0;32m    150\u001B[0m     \u001B[38;5;28;01mif\u001B[39;00m \u001B[38;5;129;01mnot\u001B[39;00m \u001B[38;5;28mself\u001B[39m\u001B[38;5;241m.\u001B[39mwd_bn_bias:\n\u001B[0;32m    151\u001B[0m         \u001B[38;5;28;01mfor\u001B[39;00m p \u001B[38;5;129;01min\u001B[39;00m \u001B[38;5;28mself\u001B[39m\u001B[38;5;241m.\u001B[39m_bn_bias_state(\u001B[38;5;28;01mTrue\u001B[39;00m ): p[\u001B[38;5;124m'\u001B[39m\u001B[38;5;124mdo_wd\u001B[39m\u001B[38;5;124m'\u001B[39m] \u001B[38;5;241m=\u001B[39m \u001B[38;5;28;01mFalse\u001B[39;00m\n",
      "\u001B[1;31mTypeError\u001B[0m: 'int' object is not callable"
     ]
    }
   ],
   "source": [
    "# load trained fastai model\n",
    "learn = cnn_learner(dbunch,\n",
    "            resnet50,\n",
    "            n_out = 5,\n",
    "            lr=1e-3, opt_func = ranger,\n",
    "            n_in=1,  # <- This is the only audio specific modification here\n",
    "            loss_func=CrossEntropyLossFlat(),\n",
    "            metrics=[accuracy, F1Score(average='weighted')])\n",
    "\n",
    "learn.load('til_data_only_resnet50_9090')"
   ],
   "metadata": {
    "collapsed": false,
    "pycharm": {
     "name": "#%%\n"
    }
   }
  },
  {
   "cell_type": "code",
   "execution_count": null,
   "outputs": [],
   "source": [
    "pred_raw = []\n",
    "filenames = []\n",
    "import glob\n",
    "for file in glob.glob('data/TIL_test_normalized/*.wav'):\n",
    "    filenames.append(file)\n",
    "    pred_raw.append(learn.predict(file))"
   ],
   "metadata": {
    "collapsed": false,
    "pycharm": {
     "name": "#%%\n",
     "is_executing": true
    }
   }
  },
  {
   "cell_type": "code",
   "execution_count": 52,
   "outputs": [],
   "source": [
    "preds = [p[-1] for p in pred_raw]\n",
    "filenames = [f.split(os.path.sep)[-1] for f in filenames]"
   ],
   "metadata": {
    "collapsed": false,
    "pycharm": {
     "name": "#%%\n"
    }
   }
  },
  {
   "cell_type": "code",
   "execution_count": 53,
   "outputs": [
    {
     "data": {
      "text/plain": "['angry',\n 'angry',\n 'fear',\n 'sad',\n 'sad',\n 'angry',\n 'sad',\n 'neutral',\n 'happy',\n 'fear',\n 'happy',\n 'fear',\n 'sad',\n 'neutral',\n 'sad',\n 'angry',\n 'fear',\n 'angry',\n 'happy',\n 'sad',\n 'happy',\n 'happy',\n 'happy',\n 'sad',\n 'sad',\n 'happy',\n 'neutral',\n 'happy',\n 'fear',\n 'sad',\n 'sad',\n 'happy',\n 'neutral',\n 'happy',\n 'angry',\n 'sad',\n 'happy',\n 'sad',\n 'happy',\n 'angry',\n 'happy',\n 'angry',\n 'happy',\n 'fear',\n 'angry',\n 'sad',\n 'sad',\n 'angry',\n 'angry',\n 'neutral',\n 'angry',\n 'angry',\n 'angry',\n 'sad',\n 'angry',\n 'neutral',\n 'angry',\n 'angry',\n 'neutral',\n 'angry',\n 'happy',\n 'sad',\n 'happy',\n 'angry',\n 'sad',\n 'happy',\n 'happy',\n 'sad',\n 'happy',\n 'sad',\n 'angry',\n 'sad',\n 'sad',\n 'neutral',\n 'neutral',\n 'happy',\n 'sad',\n 'neutral',\n 'sad',\n 'fear',\n 'sad',\n 'sad',\n 'sad',\n 'angry',\n 'angry',\n 'angry',\n 'neutral',\n 'angry',\n 'happy',\n 'fear',\n 'angry',\n 'happy',\n 'angry',\n 'happy',\n 'angry',\n 'angry',\n 'happy',\n 'sad',\n 'angry',\n 'happy',\n 'sad',\n 'happy',\n 'fear',\n 'sad',\n 'happy',\n 'fear',\n 'neutral',\n 'sad',\n 'fear',\n 'happy',\n 'sad',\n 'angry',\n 'neutral',\n 'neutral',\n 'sad',\n 'happy',\n 'neutral',\n 'angry',\n 'sad',\n 'happy',\n 'happy',\n 'happy',\n 'sad',\n 'happy',\n 'happy',\n 'sad',\n 'neutral',\n 'happy',\n 'angry',\n 'angry',\n 'fear',\n 'happy',\n 'happy',\n 'neutral',\n 'fear',\n 'angry',\n 'sad',\n 'sad',\n 'sad',\n 'angry',\n 'happy',\n 'angry',\n 'happy',\n 'sad',\n 'fear',\n 'happy',\n 'happy',\n 'angry',\n 'neutral',\n 'sad',\n 'angry',\n 'happy',\n 'angry',\n 'neutral',\n 'neutral',\n 'sad',\n 'sad',\n 'happy',\n 'angry',\n 'fear',\n 'happy',\n 'sad',\n 'happy',\n 'sad',\n 'fear',\n 'happy',\n 'happy',\n 'neutral',\n 'neutral',\n 'happy',\n 'happy',\n 'sad',\n 'sad',\n 'happy',\n 'sad',\n 'sad',\n 'happy',\n 'happy',\n 'angry',\n 'neutral',\n 'happy',\n 'sad',\n 'sad',\n 'happy',\n 'sad',\n 'angry',\n 'happy',\n 'angry',\n 'neutral',\n 'angry',\n 'angry',\n 'sad',\n 'neutral',\n 'happy',\n 'angry',\n 'sad',\n 'angry',\n 'angry',\n 'angry',\n 'angry',\n 'angry',\n 'sad',\n 'neutral',\n 'happy',\n 'angry',\n 'happy',\n 'sad',\n 'angry',\n 'sad',\n 'angry',\n 'angry',\n 'angry',\n 'neutral',\n 'happy',\n 'sad',\n 'fear',\n 'sad',\n 'sad',\n 'fear',\n 'happy',\n 'happy',\n 'fear',\n 'sad',\n 'fear',\n 'sad',\n 'sad',\n 'fear',\n 'neutral',\n 'sad',\n 'happy',\n 'happy',\n 'sad',\n 'fear',\n 'sad',\n 'happy',\n 'happy',\n 'angry',\n 'angry',\n 'fear',\n 'fear',\n 'angry',\n 'sad',\n 'angry',\n 'sad',\n 'sad',\n 'sad',\n 'fear',\n 'sad',\n 'angry',\n 'neutral',\n 'neutral',\n 'angry',\n 'sad',\n 'happy',\n 'sad',\n 'happy',\n 'neutral',\n 'happy',\n 'neutral',\n 'happy',\n 'angry',\n 'sad',\n 'angry',\n 'neutral',\n 'happy',\n 'neutral',\n 'sad',\n 'angry',\n 'sad',\n 'angry',\n 'happy',\n 'sad',\n 'happy',\n 'angry',\n 'angry',\n 'angry',\n 'happy',\n 'sad',\n 'happy',\n 'sad',\n 'happy',\n 'angry',\n 'happy',\n 'happy',\n 'happy',\n 'sad',\n 'happy',\n 'angry',\n 'sad',\n 'angry',\n 'sad',\n 'neutral',\n 'neutral',\n 'neutral',\n 'happy',\n 'fear',\n 'angry',\n 'neutral',\n 'sad',\n 'sad',\n 'happy',\n 'neutral',\n 'fear',\n 'happy',\n 'fear',\n 'happy',\n 'happy',\n 'happy',\n 'happy',\n 'sad',\n 'happy',\n 'sad',\n 'happy',\n 'sad',\n 'fear',\n 'angry',\n 'happy',\n 'happy',\n 'neutral',\n 'sad',\n 'happy',\n 'fear',\n 'angry',\n 'happy',\n 'sad',\n 'happy',\n 'angry',\n 'happy',\n 'happy',\n 'sad',\n 'fear',\n 'sad',\n 'fear',\n 'neutral',\n 'happy',\n 'sad',\n 'sad',\n 'fear',\n 'neutral',\n 'fear',\n 'sad',\n 'neutral',\n 'sad',\n 'happy',\n 'sad',\n 'sad',\n 'happy',\n 'sad',\n 'fear',\n 'happy',\n 'sad',\n 'sad',\n 'happy',\n 'neutral',\n 'fear',\n 'neutral',\n 'neutral',\n 'sad',\n 'neutral',\n 'fear',\n 'sad',\n 'neutral',\n 'sad',\n 'happy',\n 'happy',\n 'happy',\n 'sad',\n 'sad',\n 'angry',\n 'sad',\n 'happy',\n 'fear',\n 'sad',\n 'sad',\n 'sad',\n 'neutral',\n 'angry',\n 'happy',\n 'happy',\n 'angry',\n 'angry',\n 'happy',\n 'happy',\n 'angry',\n 'sad',\n 'angry',\n 'neutral',\n 'sad',\n 'neutral',\n 'neutral',\n 'happy',\n 'neutral',\n 'sad',\n 'sad',\n 'fear',\n 'fear',\n 'neutral',\n 'happy',\n 'sad',\n 'happy',\n 'sad',\n 'happy',\n 'happy',\n 'angry',\n 'happy',\n 'happy',\n 'neutral',\n 'sad',\n 'sad',\n 'angry',\n 'fear',\n 'happy',\n 'angry',\n 'happy',\n 'angry',\n 'happy',\n 'sad',\n 'neutral',\n 'sad',\n 'happy',\n 'happy',\n 'happy',\n 'angry',\n 'neutral',\n 'sad',\n 'sad',\n 'sad',\n 'happy',\n 'happy',\n 'neutral',\n 'sad',\n 'happy',\n 'happy',\n 'sad',\n 'happy',\n 'sad',\n 'neutral',\n 'angry',\n 'angry',\n 'sad',\n 'angry',\n 'happy',\n 'fear',\n 'neutral',\n 'angry',\n 'fear',\n 'fear',\n 'neutral',\n 'happy',\n 'sad',\n 'neutral',\n 'sad',\n 'sad',\n 'neutral',\n 'fear',\n 'neutral',\n 'happy',\n 'sad',\n 'happy',\n 'sad',\n 'sad',\n 'sad',\n 'neutral',\n 'happy',\n 'happy',\n 'sad',\n 'happy',\n 'happy',\n 'happy',\n 'neutral',\n 'fear',\n 'neutral',\n 'angry',\n 'sad',\n 'sad',\n 'happy',\n 'fear',\n 'neutral',\n 'neutral',\n 'neutral',\n 'angry',\n 'sad',\n 'sad',\n 'sad',\n 'happy',\n 'sad',\n 'neutral',\n 'fear',\n 'fear',\n 'happy',\n 'fear',\n 'fear',\n 'happy',\n 'fear',\n 'angry',\n 'happy',\n 'sad',\n 'neutral',\n 'happy',\n 'sad',\n 'fear',\n 'fear',\n 'sad',\n 'happy',\n 'happy',\n 'happy',\n 'sad',\n 'neutral',\n 'angry',\n 'happy',\n 'fear',\n 'fear',\n 'angry',\n 'sad',\n 'neutral',\n 'sad',\n 'sad',\n 'fear',\n 'fear',\n 'happy',\n 'happy',\n 'happy',\n 'fear',\n 'happy',\n 'sad',\n 'fear',\n 'happy',\n 'fear',\n 'neutral',\n 'neutral',\n 'happy',\n 'fear',\n 'neutral',\n 'angry',\n 'happy',\n 'sad',\n 'neutral',\n 'happy',\n 'angry',\n 'sad',\n 'angry',\n 'sad',\n 'sad',\n 'happy',\n 'happy',\n 'fear',\n 'sad',\n 'sad',\n 'happy',\n 'fear',\n 'happy',\n 'fear',\n 'happy',\n 'sad',\n 'sad',\n 'happy',\n 'happy',\n 'neutral',\n 'happy',\n 'happy',\n 'sad',\n 'happy',\n 'happy',\n 'sad',\n 'fear',\n 'neutral',\n 'happy',\n 'happy',\n 'sad',\n 'sad',\n 'happy',\n 'happy',\n 'angry',\n 'happy',\n 'sad',\n 'sad',\n 'angry',\n 'happy',\n 'angry',\n 'neutral',\n 'happy',\n 'happy',\n 'happy',\n 'neutral',\n 'angry',\n 'sad',\n 'sad',\n 'sad',\n 'happy',\n 'happy',\n 'happy',\n 'sad',\n 'sad',\n 'fear',\n 'sad',\n 'angry',\n 'neutral',\n 'angry',\n 'angry',\n 'fear']"
     },
     "execution_count": 53,
     "metadata": {},
     "output_type": "execute_result"
    }
   ],
   "source": [
    "from numpy import argmax\n",
    "preds2 = [argmax(l) for l in preds]\n",
    "class_index = {0: 'angry', 1: 'fear', 2: 'happy',3: 'neutral', 4: 'sad'}\n",
    "preds2 = [class_index[int(l.numpy())] for l in preds2]\n",
    "preds2"
   ],
   "metadata": {
    "collapsed": false,
    "pycharm": {
     "name": "#%%\n"
    }
   }
  },
  {
   "cell_type": "code",
   "execution_count": 54,
   "outputs": [],
   "source": [
    "pred_df = pd.DataFrame({'filename': filenames, 'pred': preds2})\n",
    "# sort pred df by filename\n",
    "pred_df.sort_values(by=['filename'], inplace=True)\n",
    "pred_df.to_csv('submission_fastai.csv', index=False, header=None)"
   ],
   "metadata": {
    "collapsed": false,
    "pycharm": {
     "name": "#%%\n"
    }
   }
  }
 ],
 "metadata": {
  "kernelspec": {
   "display_name": "Python 3",
   "language": "python",
   "name": "python3"
  },
  "language_info": {
   "codemirror_mode": {
    "name": "ipython",
    "version": 2
   },
   "file_extension": ".py",
   "mimetype": "text/x-python",
   "name": "python",
   "nbconvert_exporter": "python",
   "pygments_lexer": "ipython2",
   "version": "2.7.6"
  }
 },
 "nbformat": 4,
 "nbformat_minor": 0
}